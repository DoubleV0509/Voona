{
 "cells": [
  {
   "cell_type": "markdown",
   "id": "d83bf99a",
   "metadata": {},
   "source": [
    " <div align='center' ><font size='5'>CQF EXAM Three</font></div>  \n",
    " <br/>\n",
    "\n",
    "<center>May, 2023</center>  \n",
    "\n",
    " <br/>\n",
    "<center>January Cohort</center>  \n",
    " <br/>\n",
    "\n",
    "<center>Wei Wei</center>"
   ]
  },
  {
   "cell_type": "code",
   "execution_count": 1,
   "id": "8c723acb",
   "metadata": {},
   "outputs": [
    {
     "name": "stderr",
     "output_type": "stream",
     "text": [
      "/opt/anaconda3/lib/python3.8/site-packages/shap/utils/_clustering.py:35: NumbaDeprecationWarning: \u001b[1mThe 'nopython' keyword argument was not supplied to the 'numba.jit' decorator. The implicit default value for this argument is currently False, but it will be changed to True in Numba 0.59.0. See https://numba.readthedocs.io/en/stable/reference/deprecation.html#deprecation-of-object-mode-fall-back-behaviour-when-using-jit for details.\u001b[0m\n",
      "  def _pt_shuffle_rec(i, indexes, index_mask, partition_tree, M, pos):\n",
      "/opt/anaconda3/lib/python3.8/site-packages/shap/utils/_clustering.py:54: NumbaDeprecationWarning: \u001b[1mThe 'nopython' keyword argument was not supplied to the 'numba.jit' decorator. The implicit default value for this argument is currently False, but it will be changed to True in Numba 0.59.0. See https://numba.readthedocs.io/en/stable/reference/deprecation.html#deprecation-of-object-mode-fall-back-behaviour-when-using-jit for details.\u001b[0m\n",
      "  def delta_minimization_order(all_masks, max_swap_size=100, num_passes=2):\n",
      "/opt/anaconda3/lib/python3.8/site-packages/shap/utils/_clustering.py:63: NumbaDeprecationWarning: \u001b[1mThe 'nopython' keyword argument was not supplied to the 'numba.jit' decorator. The implicit default value for this argument is currently False, but it will be changed to True in Numba 0.59.0. See https://numba.readthedocs.io/en/stable/reference/deprecation.html#deprecation-of-object-mode-fall-back-behaviour-when-using-jit for details.\u001b[0m\n",
      "  def _reverse_window(order, start, length):\n",
      "/opt/anaconda3/lib/python3.8/site-packages/shap/utils/_clustering.py:69: NumbaDeprecationWarning: \u001b[1mThe 'nopython' keyword argument was not supplied to the 'numba.jit' decorator. The implicit default value for this argument is currently False, but it will be changed to True in Numba 0.59.0. See https://numba.readthedocs.io/en/stable/reference/deprecation.html#deprecation-of-object-mode-fall-back-behaviour-when-using-jit for details.\u001b[0m\n",
      "  def _reverse_window_score_gain(masks, order, start, length):\n",
      "/opt/anaconda3/lib/python3.8/site-packages/shap/utils/_clustering.py:77: NumbaDeprecationWarning: \u001b[1mThe 'nopython' keyword argument was not supplied to the 'numba.jit' decorator. The implicit default value for this argument is currently False, but it will be changed to True in Numba 0.59.0. See https://numba.readthedocs.io/en/stable/reference/deprecation.html#deprecation-of-object-mode-fall-back-behaviour-when-using-jit for details.\u001b[0m\n",
      "  def _mask_delta_score(m1, m2):\n",
      "/opt/anaconda3/lib/python3.8/site-packages/shap/links.py:5: NumbaDeprecationWarning: \u001b[1mThe 'nopython' keyword argument was not supplied to the 'numba.jit' decorator. The implicit default value for this argument is currently False, but it will be changed to True in Numba 0.59.0. See https://numba.readthedocs.io/en/stable/reference/deprecation.html#deprecation-of-object-mode-fall-back-behaviour-when-using-jit for details.\u001b[0m\n",
      "  def identity(x):\n",
      "/opt/anaconda3/lib/python3.8/site-packages/shap/links.py:10: NumbaDeprecationWarning: \u001b[1mThe 'nopython' keyword argument was not supplied to the 'numba.jit' decorator. The implicit default value for this argument is currently False, but it will be changed to True in Numba 0.59.0. See https://numba.readthedocs.io/en/stable/reference/deprecation.html#deprecation-of-object-mode-fall-back-behaviour-when-using-jit for details.\u001b[0m\n",
      "  def _identity_inverse(x):\n",
      "/opt/anaconda3/lib/python3.8/site-packages/shap/links.py:15: NumbaDeprecationWarning: \u001b[1mThe 'nopython' keyword argument was not supplied to the 'numba.jit' decorator. The implicit default value for this argument is currently False, but it will be changed to True in Numba 0.59.0. See https://numba.readthedocs.io/en/stable/reference/deprecation.html#deprecation-of-object-mode-fall-back-behaviour-when-using-jit for details.\u001b[0m\n",
      "  def logit(x):\n",
      "/opt/anaconda3/lib/python3.8/site-packages/shap/links.py:20: NumbaDeprecationWarning: \u001b[1mThe 'nopython' keyword argument was not supplied to the 'numba.jit' decorator. The implicit default value for this argument is currently False, but it will be changed to True in Numba 0.59.0. See https://numba.readthedocs.io/en/stable/reference/deprecation.html#deprecation-of-object-mode-fall-back-behaviour-when-using-jit for details.\u001b[0m\n",
      "  def _logit_inverse(x):\n",
      "/opt/anaconda3/lib/python3.8/site-packages/shap/utils/_masked_model.py:363: NumbaDeprecationWarning: \u001b[1mThe 'nopython' keyword argument was not supplied to the 'numba.jit' decorator. The implicit default value for this argument is currently False, but it will be changed to True in Numba 0.59.0. See https://numba.readthedocs.io/en/stable/reference/deprecation.html#deprecation-of-object-mode-fall-back-behaviour-when-using-jit for details.\u001b[0m\n",
      "  def _build_fixed_single_output(averaged_outs, last_outs, outputs, batch_positions, varying_rows, num_varying_rows, link, linearizing_weights):\n",
      "/opt/anaconda3/lib/python3.8/site-packages/shap/utils/_masked_model.py:385: NumbaDeprecationWarning: \u001b[1mThe 'nopython' keyword argument was not supplied to the 'numba.jit' decorator. The implicit default value for this argument is currently False, but it will be changed to True in Numba 0.59.0. See https://numba.readthedocs.io/en/stable/reference/deprecation.html#deprecation-of-object-mode-fall-back-behaviour-when-using-jit for details.\u001b[0m\n",
      "  def _build_fixed_multi_output(averaged_outs, last_outs, outputs, batch_positions, varying_rows, num_varying_rows, link, linearizing_weights):\n",
      "/opt/anaconda3/lib/python3.8/site-packages/shap/utils/_masked_model.py:428: NumbaDeprecationWarning: \u001b[1mThe 'nopython' keyword argument was not supplied to the 'numba.jit' decorator. The implicit default value for this argument is currently False, but it will be changed to True in Numba 0.59.0. See https://numba.readthedocs.io/en/stable/reference/deprecation.html#deprecation-of-object-mode-fall-back-behaviour-when-using-jit for details.\u001b[0m\n",
      "  def _init_masks(cluster_matrix, M, indices_row_pos, indptr):\n",
      "/opt/anaconda3/lib/python3.8/site-packages/shap/utils/_masked_model.py:439: NumbaDeprecationWarning: \u001b[1mThe 'nopython' keyword argument was not supplied to the 'numba.jit' decorator. The implicit default value for this argument is currently False, but it will be changed to True in Numba 0.59.0. See https://numba.readthedocs.io/en/stable/reference/deprecation.html#deprecation-of-object-mode-fall-back-behaviour-when-using-jit for details.\u001b[0m\n",
      "  def _rec_fill_masks(cluster_matrix, indices_row_pos, indptr, indices, M, ind):\n",
      "/opt/anaconda3/lib/python3.8/site-packages/shap/maskers/_tabular.py:186: NumbaDeprecationWarning: \u001b[1mThe 'nopython' keyword argument was not supplied to the 'numba.jit' decorator. The implicit default value for this argument is currently False, but it will be changed to True in Numba 0.59.0. See https://numba.readthedocs.io/en/stable/reference/deprecation.html#deprecation-of-object-mode-fall-back-behaviour-when-using-jit for details.\u001b[0m\n",
      "  def _single_delta_mask(dind, masked_inputs, last_mask, data, x, noop_code):\n",
      "/opt/anaconda3/lib/python3.8/site-packages/shap/maskers/_tabular.py:197: NumbaDeprecationWarning: \u001b[1mThe 'nopython' keyword argument was not supplied to the 'numba.jit' decorator. The implicit default value for this argument is currently False, but it will be changed to True in Numba 0.59.0. See https://numba.readthedocs.io/en/stable/reference/deprecation.html#deprecation-of-object-mode-fall-back-behaviour-when-using-jit for details.\u001b[0m\n",
      "  def _delta_masking(masks, x, curr_delta_inds, varying_rows_out,\n",
      "/opt/anaconda3/lib/python3.8/site-packages/shap/maskers/_image.py:175: NumbaDeprecationWarning: \u001b[1mThe 'nopython' keyword argument was not supplied to the 'numba.jit' decorator. The implicit default value for this argument is currently False, but it will be changed to True in Numba 0.59.0. See https://numba.readthedocs.io/en/stable/reference/deprecation.html#deprecation-of-object-mode-fall-back-behaviour-when-using-jit for details.\u001b[0m\n",
      "  def _jit_build_partition_tree(xmin, xmax, ymin, ymax, zmin, zmax, total_ywidth, total_zwidth, M, clustering, q):\n",
      "/opt/anaconda3/lib/python3.8/site-packages/shap/explainers/_partition.py:676: NumbaDeprecationWarning: \u001b[1mThe 'nopython' keyword argument was not supplied to the 'numba.jit' decorator. The implicit default value for this argument is currently False, but it will be changed to True in Numba 0.59.0. See https://numba.readthedocs.io/en/stable/reference/deprecation.html#deprecation-of-object-mode-fall-back-behaviour-when-using-jit for details.\u001b[0m\n",
      "  def lower_credit(i, value, M, values, clustering):\n",
      "\u001b[1mThe 'nopython' keyword argument was not supplied to the 'numba.jit' decorator. The implicit default value for this argument is currently False, but it will be changed to True in Numba 0.59.0. See https://numba.readthedocs.io/en/stable/reference/deprecation.html#deprecation-of-object-mode-fall-back-behaviour-when-using-jit for details.\u001b[0m\n",
      "\u001b[1mThe 'nopython' keyword argument was not supplied to the 'numba.jit' decorator. The implicit default value for this argument is currently False, but it will be changed to True in Numba 0.59.0. See https://numba.readthedocs.io/en/stable/reference/deprecation.html#deprecation-of-object-mode-fall-back-behaviour-when-using-jit for details.\u001b[0m\n"
     ]
    },
    {
     "data": {
      "text/html": [
       "        <script type=\"text/javascript\">\n",
       "        window.PlotlyConfig = {MathJaxConfig: 'local'};\n",
       "        if (window.MathJax && window.MathJax.Hub && window.MathJax.Hub.Config) {window.MathJax.Hub.Config({SVG: {font: \"STIX-Web\"}});}\n",
       "        if (typeof require !== 'undefined') {\n",
       "        require.undef(\"plotly\");\n",
       "        requirejs.config({\n",
       "            paths: {\n",
       "                'plotly': ['https://cdn.plot.ly/plotly-2.12.1.min']\n",
       "            }\n",
       "        });\n",
       "        require(['plotly'], function(Plotly) {\n",
       "            window._Plotly = Plotly;\n",
       "        });\n",
       "        }\n",
       "        </script>\n",
       "        "
      ]
     },
     "metadata": {},
     "output_type": "display_data"
    },
    {
     "data": {
      "text/html": [
       "        <script type=\"text/javascript\">\n",
       "        window.PlotlyConfig = {MathJaxConfig: 'local'};\n",
       "        if (window.MathJax && window.MathJax.Hub && window.MathJax.Hub.Config) {window.MathJax.Hub.Config({SVG: {font: \"STIX-Web\"}});}\n",
       "        if (typeof require !== 'undefined') {\n",
       "        require.undef(\"plotly\");\n",
       "        requirejs.config({\n",
       "            paths: {\n",
       "                'plotly': ['https://cdn.plot.ly/plotly-2.12.1.min']\n",
       "            }\n",
       "        });\n",
       "        require(['plotly'], function(Plotly) {\n",
       "            window._Plotly = Plotly;\n",
       "        });\n",
       "        }\n",
       "        </script>\n",
       "        "
      ]
     },
     "metadata": {},
     "output_type": "display_data"
    },
    {
     "name": "stdout",
     "output_type": "stream",
     "text": [
      "Author: Wei Wei\n",
      "\n",
      "Last updated: 2023-05-29\n",
      "\n",
      "Python implementation: CPython\n",
      "Python version       : 3.8.8\n",
      "IPython version      : 7.22.0\n",
      "\n",
      "Compiler    : Clang 10.0.0 \n",
      "OS          : Darwin\n",
      "Release     : 21.6.0\n",
      "Machine     : x86_64\n",
      "Processor   : i386\n",
      "CPU cores   : 8\n",
      "Architecture: 64bit\n",
      "\n",
      "cufflinks : 0.17.3\n",
      "matplotlib: 3.3.4\n",
      "numpy     : 1.23.0\n",
      "yfinance  : 0.2.9\n",
      "shap      : 0.41.0\n",
      "plotly    : 5.9.0\n",
      "pandas    : 1.5.3\n",
      "\n"
     ]
    }
   ],
   "source": [
    "import matplotlib.pyplot as plt\n",
    "import yfinance as yf\n",
    "import numpy as np\n",
    "import pandas as pd\n",
    "from sklearn.datasets import make_blobs\n",
    "\n",
    "# Import VIF\n",
    "from statsmodels.stats.outliers_influence import variance_inflation_factor\n",
    "\n",
    "# Feature Selection using RFE\n",
    "from sklearn.feature_selection import RFECV, RFE\n",
    "\n",
    "# Import SHAP\n",
    "import shap\n",
    "\n",
    "import cufflinks as cf\n",
    "cf.set_config_file(offline=True, theme='pearl')\n",
    "\n",
    "import plotly.graph_objects as go\n",
    "\n",
    "# Preprocessing\n",
    "from sklearn.linear_model import SGDClassifier\n",
    "from sklearn.preprocessing import StandardScaler, MinMaxScaler\n",
    "from sklearn.pipeline import Pipeline\n",
    "from sklearn.model_selection import train_test_split, GridSearchCV, RandomizedSearchCV, TimeSeriesSplit, cross_val_score, KFold, ShuffleSplit, StratifiedKFold, StratifiedShuffleSplit, TimeSeriesSplit\n",
    "from sklearn.feature_selection import f_regression, SelectKBest, SelectPercentile\n",
    "\n",
    "# Classifier\n",
    "from sklearn.svm import LinearSVC, SVC\n",
    "\n",
    "# Metrics\n",
    "from sklearn.metrics import (\n",
    "    precision_recall_curve, roc_curve, RocCurveDisplay, ConfusionMatrixDisplay,\n",
    "    accuracy_score, f1_score, recall_score, precision_score, roc_auc_score, auc,\n",
    "    classification_report, confusion_matrix\n",
    ")\n",
    "\n",
    "# Machine info & package version\n",
    "from watermark import watermark\n",
    "%load_ext watermark\n",
    "%watermark -a \"Wei Wei\" -u -d -v -m -iv\n",
    "\n",
    "# Ignore warnings\n",
    "import warnings\n",
    "warnings.filterwarnings('ignore')"
   ]
  },
  {
   "cell_type": "markdown",
   "id": "a641a01b",
   "metadata": {},
   "source": [
    "#  Data Pre-processing\n",
    "## Data Downloading & Cleaning"
   ]
  },
  {
   "cell_type": "code",
   "execution_count": 2,
   "id": "20f2affd",
   "metadata": {},
   "outputs": [
    {
     "name": "stdout",
     "output_type": "stream",
     "text": [
      "[*********************100%***********************]  1 of 1 completed\n"
     ]
    },
    {
     "data": {
      "text/html": [
       "<div>\n",
       "<style scoped>\n",
       "    .dataframe tbody tr th:only-of-type {\n",
       "        vertical-align: middle;\n",
       "    }\n",
       "\n",
       "    .dataframe tbody tr th {\n",
       "        vertical-align: top;\n",
       "    }\n",
       "\n",
       "    .dataframe thead th {\n",
       "        text-align: right;\n",
       "    }\n",
       "</style>\n",
       "<table border=\"1\" class=\"dataframe\">\n",
       "  <thead>\n",
       "    <tr style=\"text-align: right;\">\n",
       "      <th></th>\n",
       "      <th>Open</th>\n",
       "      <th>High</th>\n",
       "      <th>Low</th>\n",
       "      <th>Close</th>\n",
       "      <th>Adj Close</th>\n",
       "      <th>Volume</th>\n",
       "    </tr>\n",
       "    <tr>\n",
       "      <th>Date</th>\n",
       "      <th></th>\n",
       "      <th></th>\n",
       "      <th></th>\n",
       "      <th></th>\n",
       "      <th></th>\n",
       "      <th></th>\n",
       "    </tr>\n",
       "  </thead>\n",
       "  <tbody>\n",
       "    <tr>\n",
       "      <th>2020-05-21 00:00:00-04:00</th>\n",
       "      <td>296.790009</td>\n",
       "      <td>297.670013</td>\n",
       "      <td>293.690002</td>\n",
       "      <td>294.880005</td>\n",
       "      <td>281.683777</td>\n",
       "      <td>78293900</td>\n",
       "    </tr>\n",
       "    <tr>\n",
       "      <th>2020-05-22 00:00:00-04:00</th>\n",
       "      <td>294.570007</td>\n",
       "      <td>295.630005</td>\n",
       "      <td>293.220001</td>\n",
       "      <td>295.440002</td>\n",
       "      <td>282.218658</td>\n",
       "      <td>63958200</td>\n",
       "    </tr>\n",
       "    <tr>\n",
       "      <th>2020-05-26 00:00:00-04:00</th>\n",
       "      <td>301.929993</td>\n",
       "      <td>302.190002</td>\n",
       "      <td>295.459991</td>\n",
       "      <td>299.079987</td>\n",
       "      <td>285.695740</td>\n",
       "      <td>88951400</td>\n",
       "    </tr>\n",
       "    <tr>\n",
       "      <th>2020-05-27 00:00:00-04:00</th>\n",
       "      <td>302.119995</td>\n",
       "      <td>303.570007</td>\n",
       "      <td>296.869995</td>\n",
       "      <td>303.529999</td>\n",
       "      <td>289.946655</td>\n",
       "      <td>104817400</td>\n",
       "    </tr>\n",
       "    <tr>\n",
       "      <th>2020-05-28 00:00:00-04:00</th>\n",
       "      <td>304.649994</td>\n",
       "      <td>306.839996</td>\n",
       "      <td>302.239990</td>\n",
       "      <td>302.970001</td>\n",
       "      <td>289.411682</td>\n",
       "      <td>90405200</td>\n",
       "    </tr>\n",
       "  </tbody>\n",
       "</table>\n",
       "</div>"
      ],
      "text/plain": [
       "                                 Open        High         Low       Close  \\\n",
       "Date                                                                        \n",
       "2020-05-21 00:00:00-04:00  296.790009  297.670013  293.690002  294.880005   \n",
       "2020-05-22 00:00:00-04:00  294.570007  295.630005  293.220001  295.440002   \n",
       "2020-05-26 00:00:00-04:00  301.929993  302.190002  295.459991  299.079987   \n",
       "2020-05-27 00:00:00-04:00  302.119995  303.570007  296.869995  303.529999   \n",
       "2020-05-28 00:00:00-04:00  304.649994  306.839996  302.239990  302.970001   \n",
       "\n",
       "                            Adj Close     Volume  \n",
       "Date                                              \n",
       "2020-05-21 00:00:00-04:00  281.683777   78293900  \n",
       "2020-05-22 00:00:00-04:00  282.218658   63958200  \n",
       "2020-05-26 00:00:00-04:00  285.695740   88951400  \n",
       "2020-05-27 00:00:00-04:00  289.946655  104817400  \n",
       "2020-05-28 00:00:00-04:00  289.411682   90405200  "
      ]
     },
     "execution_count": 2,
     "metadata": {},
     "output_type": "execute_result"
    }
   ],
   "source": [
    "df = yf.download(tickers = 'spy', start=\"2020-05-21\", end=\"2023-05-21\", interval='1d')\n",
    "df.head(5)"
   ]
  },
  {
   "cell_type": "code",
   "execution_count": 3,
   "id": "7f527619",
   "metadata": {},
   "outputs": [
    {
     "data": {
      "text/plain": [
       "Open         0\n",
       "High         0\n",
       "Low          0\n",
       "Close        0\n",
       "Adj Close    0\n",
       "Volume       0\n",
       "dtype: int64"
      ]
     },
     "execution_count": 3,
     "metadata": {},
     "output_type": "execute_result"
    }
   ],
   "source": [
    "# Check for missing values\n",
    "df.isnull().sum()"
   ]
  },
  {
   "cell_type": "code",
   "execution_count": 4,
   "id": "2f0c0422",
   "metadata": {},
   "outputs": [
    {
     "data": {
      "text/html": [
       "<div>\n",
       "<style scoped>\n",
       "    .dataframe tbody tr th:only-of-type {\n",
       "        vertical-align: middle;\n",
       "    }\n",
       "\n",
       "    .dataframe tbody tr th {\n",
       "        vertical-align: top;\n",
       "    }\n",
       "\n",
       "    .dataframe thead th {\n",
       "        text-align: right;\n",
       "    }\n",
       "</style>\n",
       "<table border=\"1\" class=\"dataframe\">\n",
       "  <thead>\n",
       "    <tr style=\"text-align: right;\">\n",
       "      <th></th>\n",
       "      <th>Open</th>\n",
       "      <th>High</th>\n",
       "      <th>Low</th>\n",
       "      <th>Close</th>\n",
       "      <th>Adj Close</th>\n",
       "      <th>Volume</th>\n",
       "    </tr>\n",
       "  </thead>\n",
       "  <tbody>\n",
       "    <tr>\n",
       "      <th>count</th>\n",
       "      <td>755.000000</td>\n",
       "      <td>755.000000</td>\n",
       "      <td>755.000000</td>\n",
       "      <td>755.000000</td>\n",
       "      <td>755.000000</td>\n",
       "      <td>7.550000e+02</td>\n",
       "    </tr>\n",
       "    <tr>\n",
       "      <th>mean</th>\n",
       "      <td>399.062092</td>\n",
       "      <td>401.664808</td>\n",
       "      <td>396.203470</td>\n",
       "      <td>399.122120</td>\n",
       "      <td>390.575136</td>\n",
       "      <td>8.268376e+07</td>\n",
       "    </tr>\n",
       "    <tr>\n",
       "      <th>std</th>\n",
       "      <td>41.664417</td>\n",
       "      <td>41.637317</td>\n",
       "      <td>41.698080</td>\n",
       "      <td>41.689761</td>\n",
       "      <td>42.730914</td>\n",
       "      <td>3.095025e+07</td>\n",
       "    </tr>\n",
       "    <tr>\n",
       "      <th>min</th>\n",
       "      <td>294.570007</td>\n",
       "      <td>295.630005</td>\n",
       "      <td>293.220001</td>\n",
       "      <td>294.880005</td>\n",
       "      <td>281.683777</td>\n",
       "      <td>2.645790e+07</td>\n",
       "    </tr>\n",
       "    <tr>\n",
       "      <th>25%</th>\n",
       "      <td>375.755005</td>\n",
       "      <td>378.774994</td>\n",
       "      <td>371.845001</td>\n",
       "      <td>375.035004</td>\n",
       "      <td>367.537628</td>\n",
       "      <td>5.989910e+07</td>\n",
       "    </tr>\n",
       "    <tr>\n",
       "      <th>50%</th>\n",
       "      <td>401.609985</td>\n",
       "      <td>404.160004</td>\n",
       "      <td>397.640015</td>\n",
       "      <td>400.630005</td>\n",
       "      <td>396.984894</td>\n",
       "      <td>7.643150e+07</td>\n",
       "    </tr>\n",
       "    <tr>\n",
       "      <th>75%</th>\n",
       "      <td>431.264999</td>\n",
       "      <td>434.055008</td>\n",
       "      <td>427.139999</td>\n",
       "      <td>430.675003</td>\n",
       "      <td>421.855194</td>\n",
       "      <td>9.742345e+07</td>\n",
       "    </tr>\n",
       "    <tr>\n",
       "      <th>max</th>\n",
       "      <td>479.220001</td>\n",
       "      <td>479.980011</td>\n",
       "      <td>476.059998</td>\n",
       "      <td>477.709991</td>\n",
       "      <td>468.296417</td>\n",
       "      <td>2.517839e+08</td>\n",
       "    </tr>\n",
       "  </tbody>\n",
       "</table>\n",
       "</div>"
      ],
      "text/plain": [
       "             Open        High         Low       Close   Adj Close  \\\n",
       "count  755.000000  755.000000  755.000000  755.000000  755.000000   \n",
       "mean   399.062092  401.664808  396.203470  399.122120  390.575136   \n",
       "std     41.664417   41.637317   41.698080   41.689761   42.730914   \n",
       "min    294.570007  295.630005  293.220001  294.880005  281.683777   \n",
       "25%    375.755005  378.774994  371.845001  375.035004  367.537628   \n",
       "50%    401.609985  404.160004  397.640015  400.630005  396.984894   \n",
       "75%    431.264999  434.055008  427.139999  430.675003  421.855194   \n",
       "max    479.220001  479.980011  476.059998  477.709991  468.296417   \n",
       "\n",
       "             Volume  \n",
       "count  7.550000e+02  \n",
       "mean   8.268376e+07  \n",
       "std    3.095025e+07  \n",
       "min    2.645790e+07  \n",
       "25%    5.989910e+07  \n",
       "50%    7.643150e+07  \n",
       "75%    9.742345e+07  \n",
       "max    2.517839e+08  "
      ]
     },
     "execution_count": 4,
     "metadata": {},
     "output_type": "execute_result"
    }
   ],
   "source": [
    "df.describe()"
   ]
  },
  {
   "cell_type": "code",
   "execution_count": 5,
   "id": "ff6d06b7",
   "metadata": {},
   "outputs": [
    {
     "data": {
      "text/plain": [
       "<AxesSubplot:xlabel='Date'>"
      ]
     },
     "execution_count": 5,
     "metadata": {},
     "output_type": "execute_result"
    },
    {
     "data": {
      "image/png": "[encoded data removed]",
      "text/plain": [
       "<Figure size 432x288 with 1 Axes>"
      ]
     },
     "metadata": {
      "needs_background": "light"
     },
     "output_type": "display_data"
    }
   ],
   "source": [
    "df['Adj Close'].plot()"
   ]
  },
  {
   "cell_type": "markdown",
   "id": "c9ae43d0",
   "metadata": {},
   "source": [
    "## Feartures Construction"
   ]
  },
  {
   "cell_type": "code",
   "execution_count": 6,
   "id": "be35025e",
   "metadata": {},
   "outputs": [
    {
     "data": {
      "text/plain": [
       "1    400\n",
       "0    355\n",
       "Name: Sign0, dtype: int64"
      ]
     },
     "execution_count": 6,
     "metadata": {},
     "output_type": "execute_result"
    }
   ],
   "source": [
    "# Predictors\n",
    "df['O-C'] = df.Open - df.Close\n",
    "df['H-L'] = df.High - df.Low\n",
    "df['Log_Return'] = np.log(df['Adj Close']).diff().dropna()\n",
    "\n",
    "df['Sign0'] = np.where(df['Log_Return']>0,1,0)\n",
    "\n",
    "df['Pass_Returns_2'] = df['Log_Return'].diff(2)\n",
    "df['Pass_Returns_3'] = df['Log_Return'].diff(3)\n",
    "df['Pass_Returns_5'] = df['Log_Return'].diff(5)\n",
    "\n",
    "# Momentum\n",
    "df['Momentum_2'] = df['Adj Close'].diff(2)\n",
    "df['Momentum_3'] = df['Adj Close'].diff(3)\n",
    "df['Momentum_5'] = df['Adj Close'].diff(5)\n",
    "\n",
    "# SMA\n",
    "df['SMA_2'] = df['Adj Close'].rolling(2).mean()\n",
    "df['SMA_3'] = df['Adj Close'].rolling(3).mean()\n",
    "df['SMA_5'] = df['Adj Close'].rolling(5).mean()\n",
    "\n",
    "\n",
    "# EMA（Exponential Moving Average）\n",
    "alpha = 2/(len(df) + 1)\n",
    "df['EMA'] = df['Adj Close'].ewm(alpha = alpha, adjust = False).mean()\n",
    "pd.Series(df.Sign0).value_counts()"
   ]
  },
  {
   "cell_type": "code",
   "execution_count": 7,
   "id": "1c8e5fc5",
   "metadata": {},
   "outputs": [
    {
     "data": {
      "text/plain": [
       "<AxesSubplot:xlabel='Date'>"
      ]
     },
     "execution_count": 7,
     "metadata": {},
     "output_type": "execute_result"
    },
    {
     "data": {
      "image/png": "[encoded data removed]",
      "text/plain": [
       "<Figure size 432x288 with 1 Axes>"
      ]
     },
     "metadata": {
      "needs_background": "light"
     },
     "output_type": "display_data"
    }
   ],
   "source": [
    "df['Log_Return'].plot()"
   ]
  },
  {
   "cell_type": "code",
   "execution_count": 8,
   "id": "32274f47",
   "metadata": {},
   "outputs": [
    {
     "name": "stdout",
     "output_type": "stream",
     "text": [
      "<class 'pandas.core.frame.DataFrame'>\n",
      "DatetimeIndex: 748 entries, 2020-06-01 00:00:00-04:00 to 2023-05-18 00:00:00-04:00\n",
      "Data columns (total 15 columns):\n",
      " #   Column          Non-Null Count  Dtype  \n",
      "---  ------          --------------  -----  \n",
      " 0   Adj Close       748 non-null    float64\n",
      " 1   O-C             748 non-null    float64\n",
      " 2   H-L             748 non-null    float64\n",
      " 3   Log_Return      748 non-null    float64\n",
      " 4   Sign0           748 non-null    float64\n",
      " 5   Pass_Returns_2  748 non-null    float64\n",
      " 6   Pass_Returns_3  748 non-null    float64\n",
      " 7   Pass_Returns_5  748 non-null    float64\n",
      " 8   Momentum_2      748 non-null    float64\n",
      " 9   Momentum_3      748 non-null    float64\n",
      " 10  Momentum_5      748 non-null    float64\n",
      " 11  SMA_2           748 non-null    float64\n",
      " 12  SMA_3           748 non-null    float64\n",
      " 13  SMA_5           748 non-null    float64\n",
      " 14  EMA             748 non-null    float64\n",
      "dtypes: float64(15)\n",
      "memory usage: 93.5 KB\n"
     ]
    }
   ],
   "source": [
    "df_Features = df.drop(['Open', 'High', 'Low', 'Close', 'Volume'], axis=1)\n",
    "#The sign for the next day\n",
    "df_Features['Sign0'] = df_Features['Sign0'].shift(-1)\n",
    "df_Features=df_Features.dropna()\n",
    "df_Features.info()"
   ]
  },
  {
   "cell_type": "code",
   "execution_count": 9,
   "id": "5acaf08e",
   "metadata": {},
   "outputs": [
    {
     "data": {
      "application/vnd.plotly.v1+json": {
       "config": {
        "linkText": "Export to plot.ly",
        "plotlyServerURL": "https://plot.ly",
        "showLink": true
       },
       "data": [
        {
         "colorscale": [
          [
           0,
           "rgb(247,251,255)"
          ],
          [
           0.125,
           "rgb(222,235,247)"
          ],
          [
           0.25,
           "rgb(198,219,239)"
          ],
          [
           0.375,
           "rgb(158,202,225)"
          ],
          [
           0.5,
           "rgb(107,174,214)"
          ],
          [
           0.625,
           "rgb(66,146,198)"
          ],
          [
           0.75,
           "rgb(33,113,181)"
          ],
          [
           0.875,
           "rgb(8,81,156)"
          ],
          [
           1,
           "rgb(8,48,107)"
          ]
         ],
         "type": "heatmap",
         "x": [
          "O-C",
          "H-L",
          "Log_Return",
          "Pass_Returns_2",
          "Pass_Returns_3",
          "Pass_Returns_5",
          "Momentum_2",
          "Momentum_3",
          "Momentum_5",
          "SMA_2",
          "SMA_3",
          "SMA_5",
          "EMA"
         ],
         "y": [
          "O-C",
          "H-L",
          "Log_Return",
          "Pass_Returns_2",
          "Pass_Returns_3",
          "Pass_Returns_5",
          "Momentum_2",
          "Momentum_3",
          "Momentum_5",
          "SMA_2",
          "SMA_3",
          "SMA_5",
          "EMA"
         ],
         "z": [
          [
           1,
           0.14311976485388472,
           -0.7998131836750346,
           -0.58343659952488,
           -0.5837276831667947,
           -0.5832893417649694,
           -0.5895288841213036,
           -0.46931723017797083,
           -0.34821954737506994,
           -0.008144986084431928,
           0.0072239138072566315,
           0.01719459453770467,
           -0.01007063465764523
          ],
          [
           0.14311976485388472,
           1,
           -0.1642229465830671,
           0.02384832935277198,
           -0.045733876393502806,
           -0.03925864946409324,
           -0.23329799123102427,
           -0.30710726275436034,
           -0.37491713354953965,
           0.006986762254524038,
           0.015978764024938554,
           0.03386199218930736,
           0.31338617512684525
          ],
          [
           -0.7998131836750346,
           -0.1642229465830671,
           1,
           0.7110143360122151,
           0.7260272992417888,
           0.7081153796786571,
           0.6945441008642665,
           0.5638780614127922,
           0.4164750311396588,
           -0.03966665873716563,
           -0.05701799219367813,
           -0.06894644160190656,
           -0.05639339621681518
          ],
          [
           -0.58343659952488,
           0.02384832935277198,
           0.7110143360122151,
           1,
           0.5036322965373854,
           0.4768012932467863,
           0.5090475978750102,
           0.0020629372093153584,
           -0.010844649059501704,
           -0.03458965189930289,
           -0.04758442181689722,
           -0.026436291291133705,
           0.0019106354010232434
          ],
          [
           -0.5837276831667947,
           -0.045733876393502806,
           0.7260272992417888,
           0.5036322965373854,
           1,
           0.509401633076366,
           0.5113557442076058,
           0.423961126082026,
           -0.0013891834822510624,
           -0.02899039218660632,
           -0.04200887199314944,
           -0.03676406112855714,
           0.0028932632496446566
          ],
          [
           -0.5832893417649694,
           -0.03925864946409324,
           0.7081153796786571,
           0.4768012932467863,
           0.509401633076366,
           1,
           0.503897413821404,
           0.42960377286169865,
           0.33178911780446524,
           -0.023253892142405003,
           -0.03616121467169259,
           -0.04690224914245112,
           0.004560006827548528
          ],
          [
           -0.5895288841213036,
           -0.23329799123102427,
           0.6945441008642665,
           0.5090475978750102,
           0.5113557442076058,
           0.503897413821404,
           1,
           0.8086160719515831,
           0.6010431188623302,
           -0.009139976152536295,
           -0.04745110878315424,
           -0.07554440955870423,
           -0.07439523917422344
          ],
          [
           -0.46931723017797083,
           -0.30710726275436034,
           0.5638780614127922,
           0.0020629372093153584,
           0.423961126082026,
           0.42960377286169865,
           0.8086160719515831,
           1,
           0.7510517101027487,
           0.0024771501510651686,
           -0.028551598250125303,
           -0.07672206193764752,
           -0.09340264965182646
          ],
          [
           -0.34821954737506994,
           -0.37491713354953965,
           0.4164750311396588,
           -0.010844649059501704,
           -0.0013891834822510624,
           0.33178911780446524,
           0.6010431188623302,
           0.7510517101027487,
           1,
           0.009209957298149152,
           -0.013852655402219234,
           -0.06030182014478386,
           -0.12757332022646944
          ],
          [
           -0.008144986084431928,
           0.006986762254524038,
           -0.03966665873716563,
           -0.03458965189930289,
           -0.02899039218660632,
           -0.023253892142405003,
           -0.009139976152536295,
           0.0024771501510651686,
           0.009209957298149152,
           1,
           0.9991813062404105,
           0.9963330787788761,
           0.6025224727903672
          ],
          [
           0.0072239138072566315,
           0.015978764024938554,
           -0.05701799219367813,
           -0.04758442181689722,
           -0.04200887199314944,
           -0.03616121467169259,
           -0.04745110878315424,
           -0.028551598250125303,
           -0.013852655402219234,
           0.9991813062404105,
           1,
           0.9983728803594663,
           0.6049712737623453
          ],
          [
           0.01719459453770467,
           0.03386199218930736,
           -0.06894644160190656,
           -0.026436291291133705,
           -0.03676406112855714,
           -0.04690224914245112,
           -0.07554440955870423,
           -0.07672206193764752,
           -0.06030182014478386,
           0.9963330787788761,
           0.9983728803594663,
           1,
           0.6097508575917491
          ],
          [
           -0.01007063465764523,
           0.31338617512684525,
           -0.05639339621681518,
           0.0019106354010232434,
           0.0028932632496446566,
           0.004560006827548528,
           -0.07439523917422344,
           -0.09340264965182646,
           -0.12757332022646944,
           0.6025224727903672,
           0.6049712737623453,
           0.6097508575917491,
           1
          ]
         ],
         "zmax": 1,
         "zmin": -0.7998131836750346
        }
       ],
       "layout": {
        "height": 600,
        "legend": {
         "bgcolor": "#F5F6F9",
         "font": {
          "color": "#4D5663"
         }
        },
        "paper_bgcolor": "#F5F6F9",
        "plot_bgcolor": "#F5F6F9",
        "template": {
         "data": {
          "bar": [
           {
            "error_x": {
             "color": "#2a3f5f"
            },
            "error_y": {
             "color": "#2a3f5f"
            },
            "marker": {
             "line": {
              "color": "#E5ECF6",
              "width": 0.5
             },
             "pattern": {
              "fillmode": "overlay",
              "size": 10,
              "solidity": 0.2
             }
            },
            "type": "bar"
           }
          ],
          "barpolar": [
           {
            "marker": {
             "line": {
              "color": "#E5ECF6",
              "width": 0.5
             },
             "pattern": {
              "fillmode": "overlay",
              "size": 10,
              "solidity": 0.2
             }
            },
            "type": "barpolar"
           }
          ],
          "carpet": [
           {
            "aaxis": {
             "endlinecolor": "#2a3f5f",
             "gridcolor": "white",
             "linecolor": "white",
             "minorgridcolor": "white",
             "startlinecolor": "#2a3f5f"
            },
            "baxis": {
             "endlinecolor": "#2a3f5f",
             "gridcolor": "white",
             "linecolor": "white",
             "minorgridcolor": "white",
             "startlinecolor": "#2a3f5f"
            },
            "type": "carpet"
           }
          ],
          "choropleth": [
           {
            "colorbar": {
             "outlinewidth": 0,
             "ticks": ""
            },
            "type": "choropleth"
           }
          ],
          "contour": [
           {
            "colorbar": {
             "outlinewidth": 0,
             "ticks": ""
            },
            "colorscale": [
             [
              0,
              "#0d0887"
             ],
             [
              0.1111111111111111,
              "#46039f"
             ],
             [
              0.2222222222222222,
              "#7201a8"
             ],
             [
              0.3333333333333333,
              "#9c179e"
             ],
             [
              0.4444444444444444,
              "#bd3786"
             ],
             [
              0.5555555555555556,
              "#d8576b"
             ],
             [
              0.6666666666666666,
              "#ed7953"
             ],
             [
              0.7777777777777778,
              "#fb9f3a"
             ],
             [
              0.8888888888888888,
              "#fdca26"
             ],
             [
              1,
              "#f0f921"
             ]
            ],
            "type": "contour"
           }
          ],
          "contourcarpet": [
           {
            "colorbar": {
             "outlinewidth": 0,
             "ticks": ""
            },
            "type": "contourcarpet"
           }
          ],
          "heatmap": [
           {
            "colorbar": {
             "outlinewidth": 0,
             "ticks": ""
            },
            "colorscale": [
             [
              0,
              "#0d0887"
             ],
             [
              0.1111111111111111,
              "#46039f"
             ],
             [
              0.2222222222222222,
              "#7201a8"
             ],
             [
              0.3333333333333333,
              "#9c179e"
             ],
             [
              0.4444444444444444,
              "#bd3786"
             ],
             [
              0.5555555555555556,
              "#d8576b"
             ],
             [
              0.6666666666666666,
              "#ed7953"
             ],
             [
              0.7777777777777778,
              "#fb9f3a"
             ],
             [
              0.8888888888888888,
              "#fdca26"
             ],
             [
              1,
              "#f0f921"
             ]
            ],
            "type": "heatmap"
           }
          ],
          "heatmapgl": [
           {
            "colorbar": {
             "outlinewidth": 0,
             "ticks": ""
            },
            "colorscale": [
             [
              0,
              "#0d0887"
             ],
             [
              0.1111111111111111,
              "#46039f"
             ],
             [
              0.2222222222222222,
              "#7201a8"
             ],
             [
              0.3333333333333333,
              "#9c179e"
             ],
             [
              0.4444444444444444,
              "#bd3786"
             ],
             [
              0.5555555555555556,
              "#d8576b"
             ],
             [
              0.6666666666666666,
              "#ed7953"
             ],
             [
              0.7777777777777778,
              "#fb9f3a"
             ],
             [
              0.8888888888888888,
              "#fdca26"
             ],
             [
              1,
              "#f0f921"
             ]
            ],
            "type": "heatmapgl"
           }
          ],
          "histogram": [
           {
            "marker": {
             "pattern": {
              "fillmode": "overlay",
              "size": 10,
              "solidity": 0.2
             }
            },
            "type": "histogram"
           }
          ],
          "histogram2d": [
           {
            "colorbar": {
             "outlinewidth": 0,
             "ticks": ""
            },
            "colorscale": [
             [
              0,
              "#0d0887"
             ],
             [
              0.1111111111111111,
              "#46039f"
             ],
             [
              0.2222222222222222,
              "#7201a8"
             ],
             [
              0.3333333333333333,
              "#9c179e"
             ],
             [
              0.4444444444444444,
              "#bd3786"
             ],
             [
              0.5555555555555556,
              "#d8576b"
             ],
             [
              0.6666666666666666,
              "#ed7953"
             ],
             [
              0.7777777777777778,
              "#fb9f3a"
             ],
             [
              0.8888888888888888,
              "#fdca26"
             ],
             [
              1,
              "#f0f921"
             ]
            ],
            "type": "histogram2d"
           }
          ],
          "histogram2dcontour": [
           {
            "colorbar": {
             "outlinewidth": 0,
             "ticks": ""
            },
            "colorscale": [
             [
              0,
              "#0d0887"
             ],
             [
              0.1111111111111111,
              "#46039f"
             ],
             [
              0.2222222222222222,
              "#7201a8"
             ],
             [
              0.3333333333333333,
              "#9c179e"
             ],
             [
              0.4444444444444444,
              "#bd3786"
             ],
             [
              0.5555555555555556,
              "#d8576b"
             ],
             [
              0.6666666666666666,
              "#ed7953"
             ],
             [
              0.7777777777777778,
              "#fb9f3a"
             ],
             [
              0.8888888888888888,
              "#fdca26"
             ],
             [
              1,
              "#f0f921"
             ]
            ],
            "type": "histogram2dcontour"
           }
          ],
          "mesh3d": [
           {
            "colorbar": {
             "outlinewidth": 0,
             "ticks": ""
            },
            "type": "mesh3d"
           }
          ],
          "parcoords": [
           {
            "line": {
             "colorbar": {
              "outlinewidth": 0,
              "ticks": ""
             }
            },
            "type": "parcoords"
           }
          ],
          "pie": [
           {
            "automargin": true,
            "type": "pie"
           }
          ],
          "scatter": [
           {
            "fillpattern": {
             "fillmode": "overlay",
             "size": 10,
             "solidity": 0.2
            },
            "type": "scatter"
           }
          ],
          "scatter3d": [
           {
            "line": {
             "colorbar": {
              "outlinewidth": 0,
              "ticks": ""
             }
            },
            "marker": {
             "colorbar": {
              "outlinewidth": 0,
              "ticks": ""
             }
            },
            "type": "scatter3d"
           }
          ],
          "scattercarpet": [
           {
            "marker": {
             "colorbar": {
              "outlinewidth": 0,
              "ticks": ""
             }
            },
            "type": "scattercarpet"
           }
          ],
          "scattergeo": [
           {
            "marker": {
             "colorbar": {
              "outlinewidth": 0,
              "ticks": ""
             }
            },
            "type": "scattergeo"
           }
          ],
          "scattergl": [
           {
            "marker": {
             "colorbar": {
              "outlinewidth": 0,
              "ticks": ""
             }
            },
            "type": "scattergl"
           }
          ],
          "scattermapbox": [
           {
            "marker": {
             "colorbar": {
              "outlinewidth": 0,
              "ticks": ""
             }
            },
            "type": "scattermapbox"
           }
          ],
          "scatterpolar": [
           {
            "marker": {
             "colorbar": {
              "outlinewidth": 0,
              "ticks": ""
             }
            },
            "type": "scatterpolar"
           }
          ],
          "scatterpolargl": [
           {
            "marker": {
             "colorbar": {
              "outlinewidth": 0,
              "ticks": ""
             }
            },
            "type": "scatterpolargl"
           }
          ],
          "scatterternary": [
           {
            "marker": {
             "colorbar": {
              "outlinewidth": 0,
              "ticks": ""
             }
            },
            "type": "scatterternary"
           }
          ],
          "surface": [
           {
            "colorbar": {
             "outlinewidth": 0,
             "ticks": ""
            },
            "colorscale": [
             [
              0,
              "#0d0887"
             ],
             [
              0.1111111111111111,
              "#46039f"
             ],
             [
              0.2222222222222222,
              "#7201a8"
             ],
             [
              0.3333333333333333,
              "#9c179e"
             ],
             [
              0.4444444444444444,
              "#bd3786"
             ],
             [
              0.5555555555555556,
              "#d8576b"
             ],
             [
              0.6666666666666666,
              "#ed7953"
             ],
             [
              0.7777777777777778,
              "#fb9f3a"
             ],
             [
              0.8888888888888888,
              "#fdca26"
             ],
             [
              1,
              "#f0f921"
             ]
            ],
            "type": "surface"
           }
          ],
          "table": [
           {
            "cells": {
             "fill": {
              "color": "#EBF0F8"
             },
             "line": {
              "color": "white"
             }
            },
            "header": {
             "fill": {
              "color": "#C8D4E3"
             },
             "line": {
              "color": "white"
             }
            },
            "type": "table"
           }
          ]
         },
         "layout": {
          "annotationdefaults": {
           "arrowcolor": "#2a3f5f",
           "arrowhead": 0,
           "arrowwidth": 1
          },
          "autotypenumbers": "strict",
          "coloraxis": {
           "colorbar": {
            "outlinewidth": 0,
            "ticks": ""
           }
          },
          "colorscale": {
           "diverging": [
            [
             0,
             "#8e0152"
            ],
            [
             0.1,
             "#c51b7d"
            ],
            [
             0.2,
             "#de77ae"
            ],
            [
             0.3,
             "#f1b6da"
            ],
            [
             0.4,
             "#fde0ef"
            ],
            [
             0.5,
             "#f7f7f7"
            ],
            [
             0.6,
             "#e6f5d0"
            ],
            [
             0.7,
             "#b8e186"
            ],
            [
             0.8,
             "#7fbc41"
            ],
            [
             0.9,
             "#4d9221"
            ],
            [
             1,
             "#276419"
            ]
           ],
           "sequential": [
            [
             0,
             "#0d0887"
            ],
            [
             0.1111111111111111,
             "#46039f"
            ],
            [
             0.2222222222222222,
             "#7201a8"
            ],
            [
             0.3333333333333333,
             "#9c179e"
            ],
            [
             0.4444444444444444,
             "#bd3786"
            ],
            [
             0.5555555555555556,
             "#d8576b"
            ],
            [
             0.6666666666666666,
             "#ed7953"
            ],
            [
             0.7777777777777778,
             "#fb9f3a"
            ],
            [
             0.8888888888888888,
             "#fdca26"
            ],
            [
             1,
             "#f0f921"
            ]
           ],
           "sequentialminus": [
            [
             0,
             "#0d0887"
            ],
            [
             0.1111111111111111,
             "#46039f"
            ],
            [
             0.2222222222222222,
             "#7201a8"
            ],
            [
             0.3333333333333333,
             "#9c179e"
            ],
            [
             0.4444444444444444,
             "#bd3786"
            ],
            [
             0.5555555555555556,
             "#d8576b"
            ],
            [
             0.6666666666666666,
             "#ed7953"
            ],
            [
             0.7777777777777778,
             "#fb9f3a"
            ],
            [
             0.8888888888888888,
             "#fdca26"
            ],
            [
             1,
             "#f0f921"
            ]
           ]
          },
          "colorway": [
           "#636efa",
           "#EF553B",
           "#00cc96",
           "#ab63fa",
           "#FFA15A",
           "#19d3f3",
           "#FF6692",
           "#B6E880",
           "#FF97FF",
           "#FECB52"
          ],
          "font": {
           "color": "#2a3f5f"
          },
          "geo": {
           "bgcolor": "white",
           "lakecolor": "white",
           "landcolor": "#E5ECF6",
           "showlakes": true,
           "showland": true,
           "subunitcolor": "white"
          },
          "hoverlabel": {
           "align": "left"
          },
          "hovermode": "closest",
          "mapbox": {
           "style": "light"
          },
          "paper_bgcolor": "white",
          "plot_bgcolor": "#E5ECF6",
          "polar": {
           "angularaxis": {
            "gridcolor": "white",
            "linecolor": "white",
            "ticks": ""
           },
           "bgcolor": "#E5ECF6",
           "radialaxis": {
            "gridcolor": "white",
            "linecolor": "white",
            "ticks": ""
           }
          },
          "scene": {
           "xaxis": {
            "backgroundcolor": "#E5ECF6",
            "gridcolor": "white",
            "gridwidth": 2,
            "linecolor": "white",
            "showbackground": true,
            "ticks": "",
            "zerolinecolor": "white"
           },
           "yaxis": {
            "backgroundcolor": "#E5ECF6",
            "gridcolor": "white",
            "gridwidth": 2,
            "linecolor": "white",
            "showbackground": true,
            "ticks": "",
            "zerolinecolor": "white"
           },
           "zaxis": {
            "backgroundcolor": "#E5ECF6",
            "gridcolor": "white",
            "gridwidth": 2,
            "linecolor": "white",
            "showbackground": true,
            "ticks": "",
            "zerolinecolor": "white"
           }
          },
          "shapedefaults": {
           "line": {
            "color": "#2a3f5f"
           }
          },
          "ternary": {
           "aaxis": {
            "gridcolor": "white",
            "linecolor": "white",
            "ticks": ""
           },
           "baxis": {
            "gridcolor": "white",
            "linecolor": "white",
            "ticks": ""
           },
           "bgcolor": "#E5ECF6",
           "caxis": {
            "gridcolor": "white",
            "linecolor": "white",
            "ticks": ""
           }
          },
          "title": {
           "x": 0.05
          },
          "xaxis": {
           "automargin": true,
           "gridcolor": "white",
           "linecolor": "white",
           "ticks": "",
           "title": {
            "standoff": 15
           },
           "zerolinecolor": "white",
           "zerolinewidth": 2
          },
          "yaxis": {
           "automargin": true,
           "gridcolor": "white",
           "linecolor": "white",
           "ticks": "",
           "title": {
            "standoff": 15
           },
           "zerolinecolor": "white",
           "zerolinewidth": 2
          }
         }
        },
        "title": {
         "font": {
          "color": "#4D5663"
         },
         "text": "Correlation Matrix"
        },
        "width": 1000,
        "xaxis": {
         "gridcolor": "#E1E5ED",
         "showgrid": true,
         "tickfont": {
          "color": "#4D5663"
         },
         "title": {
          "font": {
           "color": "#4D5663"
          },
          "text": ""
         },
         "zerolinecolor": "#E1E5ED"
        },
        "yaxis": {
         "gridcolor": "#E1E5ED",
         "showgrid": true,
         "tickfont": {
          "color": "#4D5663"
         },
         "title": {
          "font": {
           "color": "#4D5663"
          },
          "text": ""
         },
         "zerolinecolor": "#E1E5ED"
        }
       }
      },
      "text/html": [
       "<div>                            <div id=\"ef151680-c380-4926-a284-5d55b3a918dc\" class=\"plotly-graph-div\" style=\"height:600px; width:1000px;\"></div>            <script type=\"text/javascript\">                require([\"plotly\"], function(Plotly) {                    window.PLOTLYENV=window.PLOTLYENV || {};\n",
       "                    window.PLOTLYENV.BASE_URL='https://plot.ly';                                    if (document.getElementById(\"ef151680-c380-4926-a284-5d55b3a918dc\")) {                    Plotly.newPlot(                        \"ef151680-c380-4926-a284-5d55b3a918dc\",                        [{\"colorscale\":[[0.0,\"rgb(247,251,255)\"],[0.125,\"rgb(222,235,247)\"],[0.25,\"rgb(198,219,239)\"],[0.375,\"rgb(158,202,225)\"],[0.5,\"rgb(107,174,214)\"],[0.625,\"rgb(66,146,198)\"],[0.75,\"rgb(33,113,181)\"],[0.875,\"rgb(8,81,156)\"],[1.0,\"rgb(8,48,107)\"]],\"x\":[\"O-C\",\"H-L\",\"Log_Return\",\"Pass_Returns_2\",\"Pass_Returns_3\",\"Pass_Returns_5\",\"Momentum_2\",\"Momentum_3\",\"Momentum_5\",\"SMA_2\",\"SMA_3\",\"SMA_5\",\"EMA\"],\"y\":[\"O-C\",\"H-L\",\"Log_Return\",\"Pass_Returns_2\",\"Pass_Returns_3\",\"Pass_Returns_5\",\"Momentum_2\",\"Momentum_3\",\"Momentum_5\",\"SMA_2\",\"SMA_3\",\"SMA_5\",\"EMA\"],\"z\":[[1.0,0.14311976485388472,-0.7998131836750346,-0.58343659952488,-0.5837276831667947,-0.5832893417649694,-0.5895288841213036,-0.46931723017797083,-0.34821954737506994,-0.008144986084431928,0.0072239138072566315,0.01719459453770467,-0.01007063465764523],[0.14311976485388472,1.0,-0.1642229465830671,0.02384832935277198,-0.045733876393502806,-0.03925864946409324,-0.23329799123102427,-0.30710726275436034,-0.37491713354953965,0.006986762254524038,0.015978764024938554,0.03386199218930736,0.31338617512684525],[-0.7998131836750346,-0.1642229465830671,1.0,0.7110143360122151,0.7260272992417888,0.7081153796786571,0.6945441008642665,0.5638780614127922,0.4164750311396588,-0.03966665873716563,-0.05701799219367813,-0.06894644160190656,-0.05639339621681518],[-0.58343659952488,0.02384832935277198,0.7110143360122151,1.0,0.5036322965373854,0.4768012932467863,0.5090475978750102,0.0020629372093153584,-0.010844649059501704,-0.03458965189930289,-0.04758442181689722,-0.026436291291133705,0.0019106354010232434],[-0.5837276831667947,-0.045733876393502806,0.7260272992417888,0.5036322965373854,1.0,0.509401633076366,0.5113557442076058,0.423961126082026,-0.0013891834822510624,-0.02899039218660632,-0.04200887199314944,-0.03676406112855714,0.0028932632496446566],[-0.5832893417649694,-0.03925864946409324,0.7081153796786571,0.4768012932467863,0.509401633076366,1.0,0.503897413821404,0.42960377286169865,0.33178911780446524,-0.023253892142405003,-0.03616121467169259,-0.04690224914245112,0.004560006827548528],[-0.5895288841213036,-0.23329799123102427,0.6945441008642665,0.5090475978750102,0.5113557442076058,0.503897413821404,1.0,0.8086160719515831,0.6010431188623302,-0.009139976152536295,-0.04745110878315424,-0.07554440955870423,-0.07439523917422344],[-0.46931723017797083,-0.30710726275436034,0.5638780614127922,0.0020629372093153584,0.423961126082026,0.42960377286169865,0.8086160719515831,1.0,0.7510517101027487,0.0024771501510651686,-0.028551598250125303,-0.07672206193764752,-0.09340264965182646],[-0.34821954737506994,-0.37491713354953965,0.4164750311396588,-0.010844649059501704,-0.0013891834822510624,0.33178911780446524,0.6010431188623302,0.7510517101027487,1.0,0.009209957298149152,-0.013852655402219234,-0.06030182014478386,-0.12757332022646944],[-0.008144986084431928,0.006986762254524038,-0.03966665873716563,-0.03458965189930289,-0.02899039218660632,-0.023253892142405003,-0.009139976152536295,0.0024771501510651686,0.009209957298149152,1.0,0.9991813062404105,0.9963330787788761,0.6025224727903672],[0.0072239138072566315,0.015978764024938554,-0.05701799219367813,-0.04758442181689722,-0.04200887199314944,-0.03616121467169259,-0.04745110878315424,-0.028551598250125303,-0.013852655402219234,0.9991813062404105,1.0,0.9983728803594663,0.6049712737623453],[0.01719459453770467,0.03386199218930736,-0.06894644160190656,-0.026436291291133705,-0.03676406112855714,-0.04690224914245112,-0.07554440955870423,-0.07672206193764752,-0.06030182014478386,0.9963330787788761,0.9983728803594663,1.0,0.6097508575917491],[-0.01007063465764523,0.31338617512684525,-0.05639339621681518,0.0019106354010232434,0.0028932632496446566,0.004560006827548528,-0.07439523917422344,-0.09340264965182646,-0.12757332022646944,0.6025224727903672,0.6049712737623453,0.6097508575917491,1.0]],\"zmax\":1.0,\"zmin\":-0.7998131836750346,\"type\":\"heatmap\"}],                        {\"height\":600,\"legend\":{\"bgcolor\":\"#F5F6F9\",\"font\":{\"color\":\"#4D5663\"}},\"paper_bgcolor\":\"#F5F6F9\",\"plot_bgcolor\":\"#F5F6F9\",\"template\":{\"data\":{\"barpolar\":[{\"marker\":{\"line\":{\"color\":\"#E5ECF6\",\"width\":0.5},\"pattern\":{\"fillmode\":\"overlay\",\"size\":10,\"solidity\":0.2}},\"type\":\"barpolar\"}],\"bar\":[{\"error_x\":{\"color\":\"#2a3f5f\"},\"error_y\":{\"color\":\"#2a3f5f\"},\"marker\":{\"line\":{\"color\":\"#E5ECF6\",\"width\":0.5},\"pattern\":{\"fillmode\":\"overlay\",\"size\":10,\"solidity\":0.2}},\"type\":\"bar\"}],\"carpet\":[{\"aaxis\":{\"endlinecolor\":\"#2a3f5f\",\"gridcolor\":\"white\",\"linecolor\":\"white\",\"minorgridcolor\":\"white\",\"startlinecolor\":\"#2a3f5f\"},\"baxis\":{\"endlinecolor\":\"#2a3f5f\",\"gridcolor\":\"white\",\"linecolor\":\"white\",\"minorgridcolor\":\"white\",\"startlinecolor\":\"#2a3f5f\"},\"type\":\"carpet\"}],\"choropleth\":[{\"colorbar\":{\"outlinewidth\":0,\"ticks\":\"\"},\"type\":\"choropleth\"}],\"contourcarpet\":[{\"colorbar\":{\"outlinewidth\":0,\"ticks\":\"\"},\"type\":\"contourcarpet\"}],\"contour\":[{\"colorbar\":{\"outlinewidth\":0,\"ticks\":\"\"},\"colorscale\":[[0.0,\"#0d0887\"],[0.1111111111111111,\"#46039f\"],[0.2222222222222222,\"#7201a8\"],[0.3333333333333333,\"#9c179e\"],[0.4444444444444444,\"#bd3786\"],[0.5555555555555556,\"#d8576b\"],[0.6666666666666666,\"#ed7953\"],[0.7777777777777778,\"#fb9f3a\"],[0.8888888888888888,\"#fdca26\"],[1.0,\"#f0f921\"]],\"type\":\"contour\"}],\"heatmapgl\":[{\"colorbar\":{\"outlinewidth\":0,\"ticks\":\"\"},\"colorscale\":[[0.0,\"#0d0887\"],[0.1111111111111111,\"#46039f\"],[0.2222222222222222,\"#7201a8\"],[0.3333333333333333,\"#9c179e\"],[0.4444444444444444,\"#bd3786\"],[0.5555555555555556,\"#d8576b\"],[0.6666666666666666,\"#ed7953\"],[0.7777777777777778,\"#fb9f3a\"],[0.8888888888888888,\"#fdca26\"],[1.0,\"#f0f921\"]],\"type\":\"heatmapgl\"}],\"heatmap\":[{\"colorbar\":{\"outlinewidth\":0,\"ticks\":\"\"},\"colorscale\":[[0.0,\"#0d0887\"],[0.1111111111111111,\"#46039f\"],[0.2222222222222222,\"#7201a8\"],[0.3333333333333333,\"#9c179e\"],[0.4444444444444444,\"#bd3786\"],[0.5555555555555556,\"#d8576b\"],[0.6666666666666666,\"#ed7953\"],[0.7777777777777778,\"#fb9f3a\"],[0.8888888888888888,\"#fdca26\"],[1.0,\"#f0f921\"]],\"type\":\"heatmap\"}],\"histogram2dcontour\":[{\"colorbar\":{\"outlinewidth\":0,\"ticks\":\"\"},\"colorscale\":[[0.0,\"#0d0887\"],[0.1111111111111111,\"#46039f\"],[0.2222222222222222,\"#7201a8\"],[0.3333333333333333,\"#9c179e\"],[0.4444444444444444,\"#bd3786\"],[0.5555555555555556,\"#d8576b\"],[0.6666666666666666,\"#ed7953\"],[0.7777777777777778,\"#fb9f3a\"],[0.8888888888888888,\"#fdca26\"],[1.0,\"#f0f921\"]],\"type\":\"histogram2dcontour\"}],\"histogram2d\":[{\"colorbar\":{\"outlinewidth\":0,\"ticks\":\"\"},\"colorscale\":[[0.0,\"#0d0887\"],[0.1111111111111111,\"#46039f\"],[0.2222222222222222,\"#7201a8\"],[0.3333333333333333,\"#9c179e\"],[0.4444444444444444,\"#bd3786\"],[0.5555555555555556,\"#d8576b\"],[0.6666666666666666,\"#ed7953\"],[0.7777777777777778,\"#fb9f3a\"],[0.8888888888888888,\"#fdca26\"],[1.0,\"#f0f921\"]],\"type\":\"histogram2d\"}],\"histogram\":[{\"marker\":{\"pattern\":{\"fillmode\":\"overlay\",\"size\":10,\"solidity\":0.2}},\"type\":\"histogram\"}],\"mesh3d\":[{\"colorbar\":{\"outlinewidth\":0,\"ticks\":\"\"},\"type\":\"mesh3d\"}],\"parcoords\":[{\"line\":{\"colorbar\":{\"outlinewidth\":0,\"ticks\":\"\"}},\"type\":\"parcoords\"}],\"pie\":[{\"automargin\":true,\"type\":\"pie\"}],\"scatter3d\":[{\"line\":{\"colorbar\":{\"outlinewidth\":0,\"ticks\":\"\"}},\"marker\":{\"colorbar\":{\"outlinewidth\":0,\"ticks\":\"\"}},\"type\":\"scatter3d\"}],\"scattercarpet\":[{\"marker\":{\"colorbar\":{\"outlinewidth\":0,\"ticks\":\"\"}},\"type\":\"scattercarpet\"}],\"scattergeo\":[{\"marker\":{\"colorbar\":{\"outlinewidth\":0,\"ticks\":\"\"}},\"type\":\"scattergeo\"}],\"scattergl\":[{\"marker\":{\"colorbar\":{\"outlinewidth\":0,\"ticks\":\"\"}},\"type\":\"scattergl\"}],\"scattermapbox\":[{\"marker\":{\"colorbar\":{\"outlinewidth\":0,\"ticks\":\"\"}},\"type\":\"scattermapbox\"}],\"scatterpolargl\":[{\"marker\":{\"colorbar\":{\"outlinewidth\":0,\"ticks\":\"\"}},\"type\":\"scatterpolargl\"}],\"scatterpolar\":[{\"marker\":{\"colorbar\":{\"outlinewidth\":0,\"ticks\":\"\"}},\"type\":\"scatterpolar\"}],\"scatter\":[{\"fillpattern\":{\"fillmode\":\"overlay\",\"size\":10,\"solidity\":0.2},\"type\":\"scatter\"}],\"scatterternary\":[{\"marker\":{\"colorbar\":{\"outlinewidth\":0,\"ticks\":\"\"}},\"type\":\"scatterternary\"}],\"surface\":[{\"colorbar\":{\"outlinewidth\":0,\"ticks\":\"\"},\"colorscale\":[[0.0,\"#0d0887\"],[0.1111111111111111,\"#46039f\"],[0.2222222222222222,\"#7201a8\"],[0.3333333333333333,\"#9c179e\"],[0.4444444444444444,\"#bd3786\"],[0.5555555555555556,\"#d8576b\"],[0.6666666666666666,\"#ed7953\"],[0.7777777777777778,\"#fb9f3a\"],[0.8888888888888888,\"#fdca26\"],[1.0,\"#f0f921\"]],\"type\":\"surface\"}],\"table\":[{\"cells\":{\"fill\":{\"color\":\"#EBF0F8\"},\"line\":{\"color\":\"white\"}},\"header\":{\"fill\":{\"color\":\"#C8D4E3\"},\"line\":{\"color\":\"white\"}},\"type\":\"table\"}]},\"layout\":{\"annotationdefaults\":{\"arrowcolor\":\"#2a3f5f\",\"arrowhead\":0,\"arrowwidth\":1},\"autotypenumbers\":\"strict\",\"coloraxis\":{\"colorbar\":{\"outlinewidth\":0,\"ticks\":\"\"}},\"colorscale\":{\"diverging\":[[0,\"#8e0152\"],[0.1,\"#c51b7d\"],[0.2,\"#de77ae\"],[0.3,\"#f1b6da\"],[0.4,\"#fde0ef\"],[0.5,\"#f7f7f7\"],[0.6,\"#e6f5d0\"],[0.7,\"#b8e186\"],[0.8,\"#7fbc41\"],[0.9,\"#4d9221\"],[1,\"#276419\"]],\"sequential\":[[0.0,\"#0d0887\"],[0.1111111111111111,\"#46039f\"],[0.2222222222222222,\"#7201a8\"],[0.3333333333333333,\"#9c179e\"],[0.4444444444444444,\"#bd3786\"],[0.5555555555555556,\"#d8576b\"],[0.6666666666666666,\"#ed7953\"],[0.7777777777777778,\"#fb9f3a\"],[0.8888888888888888,\"#fdca26\"],[1.0,\"#f0f921\"]],\"sequentialminus\":[[0.0,\"#0d0887\"],[0.1111111111111111,\"#46039f\"],[0.2222222222222222,\"#7201a8\"],[0.3333333333333333,\"#9c179e\"],[0.4444444444444444,\"#bd3786\"],[0.5555555555555556,\"#d8576b\"],[0.6666666666666666,\"#ed7953\"],[0.7777777777777778,\"#fb9f3a\"],[0.8888888888888888,\"#fdca26\"],[1.0,\"#f0f921\"]]},\"colorway\":[\"#636efa\",\"#EF553B\",\"#00cc96\",\"#ab63fa\",\"#FFA15A\",\"#19d3f3\",\"#FF6692\",\"#B6E880\",\"#FF97FF\",\"#FECB52\"],\"font\":{\"color\":\"#2a3f5f\"},\"geo\":{\"bgcolor\":\"white\",\"lakecolor\":\"white\",\"landcolor\":\"#E5ECF6\",\"showlakes\":true,\"showland\":true,\"subunitcolor\":\"white\"},\"hoverlabel\":{\"align\":\"left\"},\"hovermode\":\"closest\",\"mapbox\":{\"style\":\"light\"},\"paper_bgcolor\":\"white\",\"plot_bgcolor\":\"#E5ECF6\",\"polar\":{\"angularaxis\":{\"gridcolor\":\"white\",\"linecolor\":\"white\",\"ticks\":\"\"},\"bgcolor\":\"#E5ECF6\",\"radialaxis\":{\"gridcolor\":\"white\",\"linecolor\":\"white\",\"ticks\":\"\"}},\"scene\":{\"xaxis\":{\"backgroundcolor\":\"#E5ECF6\",\"gridcolor\":\"white\",\"gridwidth\":2,\"linecolor\":\"white\",\"showbackground\":true,\"ticks\":\"\",\"zerolinecolor\":\"white\"},\"yaxis\":{\"backgroundcolor\":\"#E5ECF6\",\"gridcolor\":\"white\",\"gridwidth\":2,\"linecolor\":\"white\",\"showbackground\":true,\"ticks\":\"\",\"zerolinecolor\":\"white\"},\"zaxis\":{\"backgroundcolor\":\"#E5ECF6\",\"gridcolor\":\"white\",\"gridwidth\":2,\"linecolor\":\"white\",\"showbackground\":true,\"ticks\":\"\",\"zerolinecolor\":\"white\"}},\"shapedefaults\":{\"line\":{\"color\":\"#2a3f5f\"}},\"ternary\":{\"aaxis\":{\"gridcolor\":\"white\",\"linecolor\":\"white\",\"ticks\":\"\"},\"baxis\":{\"gridcolor\":\"white\",\"linecolor\":\"white\",\"ticks\":\"\"},\"bgcolor\":\"#E5ECF6\",\"caxis\":{\"gridcolor\":\"white\",\"linecolor\":\"white\",\"ticks\":\"\"}},\"title\":{\"x\":0.05},\"xaxis\":{\"automargin\":true,\"gridcolor\":\"white\",\"linecolor\":\"white\",\"ticks\":\"\",\"title\":{\"standoff\":15},\"zerolinecolor\":\"white\",\"zerolinewidth\":2},\"yaxis\":{\"automargin\":true,\"gridcolor\":\"white\",\"linecolor\":\"white\",\"ticks\":\"\",\"title\":{\"standoff\":15},\"zerolinecolor\":\"white\",\"zerolinewidth\":2}}},\"title\":{\"font\":{\"color\":\"#4D5663\"},\"text\":\"Correlation Matrix\"},\"width\":1000,\"xaxis\":{\"gridcolor\":\"#E1E5ED\",\"showgrid\":true,\"tickfont\":{\"color\":\"#4D5663\"},\"title\":{\"font\":{\"color\":\"#4D5663\"},\"text\":\"\"},\"zerolinecolor\":\"#E1E5ED\"},\"yaxis\":{\"gridcolor\":\"#E1E5ED\",\"showgrid\":true,\"tickfont\":{\"color\":\"#4D5663\"},\"title\":{\"font\":{\"color\":\"#4D5663\"},\"text\":\"\"},\"zerolinecolor\":\"#E1E5ED\"}},                        {\"showLink\": true, \"linkText\": \"Export to plot.ly\", \"plotlyServerURL\": \"https://plot.ly\", \"responsive\": true}                    ).then(function(){\n",
       "                            \n",
       "var gd = document.getElementById('ef151680-c380-4926-a284-5d55b3a918dc');\n",
       "var x = new MutationObserver(function (mutations, observer) {{\n",
       "        var display = window.getComputedStyle(gd).display;\n",
       "        if (!display || display === 'none') {{\n",
       "            console.log([gd, 'removed!']);\n",
       "            Plotly.purge(gd);\n",
       "            observer.disconnect();\n",
       "        }}\n",
       "}});\n",
       "\n",
       "// Listen for the removal of the full notebook cells\n",
       "var notebookContainer = gd.closest('#notebook-container');\n",
       "if (notebookContainer) {{\n",
       "    x.observe(notebookContainer, {childList: true});\n",
       "}}\n",
       "\n",
       "// Listen for the clearing of the current output cell\n",
       "var outputEl = gd.closest('.output');\n",
       "if (outputEl) {{\n",
       "    x.observe(outputEl, {childList: true});\n",
       "}}\n",
       "\n",
       "                        })                };                });            </script>        </div>"
      ]
     },
     "metadata": {},
     "output_type": "display_data"
    }
   ],
   "source": [
    "df_Features.drop(['Sign0','Adj Close'], axis=1).corr().iplot(kind='heatmap', title=\"Correlation Matrix\", colorscale=\"blues\")"
   ]
  },
  {
   "cell_type": "markdown",
   "id": "c4f7f13e",
   "metadata": {},
   "source": [
    "### Extremely Value processing\n",
    "* Finding the mean value of the log-return distribution (i.e. make sure that the threshold would not excess the mean)\n",
    "* Search for the optimal threshold to statify two conditopn\n",
    " * (1) minimizing the number of points that need to be reclassified \n",
    " * (2)  maximizing the training and test accuracies."
   ]
  },
  {
   "cell_type": "code",
   "execution_count": 10,
   "id": "dd6cd820",
   "metadata": {},
   "outputs": [
    {
     "data": {
      "text/plain": [
       "mean      0.000525\n",
       "median    0.000781\n",
       "var       0.000140\n",
       "Name: Log_Return, dtype: float64"
      ]
     },
     "execution_count": 10,
     "metadata": {},
     "output_type": "execute_result"
    }
   ],
   "source": [
    "df['Log_Return'].agg(['mean', 'median', 'var'])"
   ]
  },
  {
   "cell_type": "markdown",
   "id": "3bc9df1c",
   "metadata": {},
   "source": [
    "* The mean value of return is equal to 0.0004, so the threshold should be at least lower than 0.0004. "
   ]
  },
  {
   "cell_type": "code",
   "execution_count": 11,
   "id": "c7a4653d",
   "metadata": {},
   "outputs": [
    {
     "data": {
      "application/vnd.plotly.v1+json": {
       "config": {
        "linkText": "Export to plot.ly",
        "plotlyServerURL": "https://plot.ly",
        "showLink": true
       },
       "data": [
        {
         "histfunc": "count",
         "histnorm": "",
         "marker": {
          "color": "rgba(255, 153, 51, 1.0)",
          "line": {
           "color": "#4D5663",
           "width": 1.3
          }
         },
         "name": "Log_Return",
         "opacity": 0.8,
         "orientation": "v",
         "type": "histogram",
         "x": [
          null,
          0.0018970719710562634,
          0.012245242443717608,
          0.014769561235866036,
          -0.0018467786240128348,
          0.004446078588042468,
          0.004033656560310739,
          0.00824595196315947,
          0.013220403065024477,
          -0.0026301147292704385,
          0.02530650078934027,
          0.01201514693891692,
          -0.007484540278740681,
          -0.005595715685298153,
          -0.05937776008875595,
          0.011904752841181754,
          0.00929250447165586,
          0.019064745966737462,
          -0.004162632726013804,
          0.0003849413770344867,
          -0.005731096945146064,
          0.0063943529128609455,
          0.004593515092267353,
          -0.025839813235842612,
          0.010663222554480711,
          -0.02403781505738678,
          0.014590644558829524,
          0.012727864492847907,
          0.006980488504261473,
          0.005491758691601234,
          0.01531953939175601,
          -0.01036742592326867,
          0.007619629402149997,
          -0.005709348015630056,
          0.010158873193432783,
          -0.008696653383109876,
          0.012875767135262173,
          0.0091454843094958,
          -0.0032990241102508477,
          0.0028948411821740905,
          0.008049152842225737,
          0.0021252545962129332,
          0.005676016132420081,
          -0.012003526616901183,
          -0.00646147189624191,
          0.007266178973734938,
          -0.006362565439253842,
          0.012223828573964646,
          -0.0035744280753160496,
          0.007870986578116579,
          0.006928213685513107,
          0.003855308037969074,
          0.0061915306422672955,
          0.006662355773914719,
          0.0007177444815482659,
          0.002984516346121069,
          -0.008289159980776617,
          0.013846151349544478,
          -0.0018092710024149028,
          2.9745411854520398e-05,
          0.0031714451007385236,
          0.002157941400485086,
          -0.004172174375320026,
          0.0031085480369537066,
          0.0035413427570674116,
          0.010082025517626825,
          0.0034932311933602023,
          0.00997558519248809,
          0.0021842324967673576,
          0.006438483384211047,
          -0.003629150443010154,
          0.009374634903127621,
          0.014360411784135607,
          -0.03502050571900028,
          -0.008198204657686503,
          -0.027703080356806353,
          0.01955496944462265,
          -0.01751626969340414,
          0.0005089547670609207,
          0.01308529401123959,
          0.00503955171988224,
          -0.003976584608075484,
          -0.008834023525429835,
          -0.011579405490137695,
          -0.011192099445017867,
          0.010132808081801947,
          -0.023463960245449833,
          0.002662055593804169,
          0.016037445383128457,
          0.016472769290449385,
          -0.0054605423198959,
          0.007553098781298395,
          0.006399673169482867,
          -0.009539820062625104,
          0.017577660089576064,
          -0.014318135556765199,
          0.017256863656751165,
          0.008823700046600713,
          0.008890481402146655,
          0.015959725699699057,
          -0.006547513118461801,
          -0.006303530690122905,
          -0.0012363692339807386,
          -0.0006046188135639952,
          -0.015320267184490532,
          0.003997794222302176,
          -0.0018947064674517122,
          0.005470511587652105,
          0.003389275632904365,
          -0.01865261086032266,
          -0.0034537600667512436,
          -0.03477646001114465,
          0.010112228503406762,
          -0.010479570673475713,
          0.011146022892098983,
          0.017501907658892257,
          0.022103154235358247,
          0.01931492261281509,
          -0.00022842148685153774,
          0.012487319828491827,
          -0.0014676030853673083,
          0.007401045386325578,
          -0.009748156530249297,
          0.01374951902753807,
          0.012405249975967259,
          -0.005392865405105418,
          -0.012107844574710924,
          0.00420126574109414,
          -0.0068711871182411954,
          0.005976547063023752,
          0.01598520436569828,
          -0.0015428239176493719,
          0.002781208123763257,
          -0.004437098188752486,
          0.010878022126401099,
          0.0021016567863467728,
          -0.00027280071653734694,
          0.00858080106095116,
          -0.0020571265020334906,
          0.002921894489028354,
          -0.009009365418759963,
          -0.00032709168925482146,
          -0.001173296652664746,
          -0.00448726605823957,
          0.013428841057702812,
          0.0015681787612162879,
          0.005576539024893634,
          -0.004001074381520198,
          -0.0035818435775105684,
          -0.0016868599154280517,
          0.0008981131642338269,
          0.003882985752757584,
          0.008554081690965276,
          -0.001909568412744811,
          0.0014258822143364824,
          0.005068044509204839,
          -0.013707712465652833,
          0.006863751157652587,
          0.00596075928682982,
          0.014748114071494456,
          0.005681499437163673,
          -0.006763519322976919,
          0.00021106746574162116,
          0.00268957967479988,
          -0.003508110306457368,
          -0.007319578983529418,
          0.00782132508461686,
          0.013743790338567763,
          0.0009111475745982034,
          -0.003545681133664935,
          0.003936235501736718,
          -0.0015622293469412796,
          -0.024744115880182882,
          0.008563414926011426,
          -0.020222534721417773,
          0.016508281561544713,
          0.014041280631968966,
          0.0007858816106818267,
          0.01130179231679751,
          0.003928031078519467,
          0.0071960003363669145,
          -0.0006659425128283658,
          -0.0004357976017956844,
          0.0016138448280891282,
          0.004927525238016095,
          -0.000866395961758748,
          0.00022947228229863725,
          -0.004265087980728666,
          -0.0017676274158064942,
          -0.007721434157368812,
          0.001213731078863134,
          0.010959014455188765,
          -0.024390701588060004,
          -0.00516598051791739,
          0.02395109937475226,
          -0.007833945785123753,
          -0.013334090098281237,
          -0.012452202851848782,
          0.01822950227665121,
          -0.004991150193799143,
          0.014176553528396418,
          0.006205333124005286,
          0.010088151799971357,
          0.0013457291319181053,
          0.005945737885144631,
          -0.00126196787837074,
          0.003404014490257623,
          -0.014656512722224235,
          -0.0018519432685302206,
          0.007953288166795858,
          -0.007901944716154574,
          -0.005096644247047699,
          0.005609933817305013,
          0.01598654408239053,
          -0.0005052264756706393,
          -0.0026565353115932666,
          0.004045155543281886,
          0.010741170124359378,
          0.014251123058151016,
          -0.0005907176694650573,
          0.0011564175160829748,
          0.004735653825202135,
          0.007243802715185765,
          0.000364498130950075,
          0.0029594218204840317,
          -0.0034209686768482683,
          0.010685073983252025,
          0.0033369722561218396,
          -0.004925165316449487,
          -0.007348544367027365,
          0.009417638731216371,
          -0.00917507696659392,
          0.010783983284405885,
          0.002085449431971753,
          -0.0002154358961350411,
          -0.0002875711801797465,
          0.00635260420377648,
          -0.006592109111588584,
          0.0021544593408799884,
          -0.006188391654157854,
          0.00031255054049950104,
          0.007954017201265096,
          0.0072515994242499104,
          -0.00995168654206946,
          -0.008964920522980258,
          -0.021474090505116727,
          0.011940927126647516,
          0.015238559461772105,
          -0.002547713929192952,
          -0.008653060540128266,
          -0.002625195991634577,
          0.010700640487907087,
          -0.0008191198502895958,
          0.010142629827254446,
          -0.0022211869791162187,
          0.001982618532696989,
          0.0005247754747550459,
          0.001787165010984637,
          -0.0008812329383012241,
          0.0015712531346077085,
          -0.0037181578693825657,
          0.009104289720241354,
          -0.0009705468331571154,
          0.00021305311183361653,
          -0.0014931461729226214,
          0.004637711209158901,
          0.001651211412829312,
          0.0022363241596279337,
          -0.0018357987740333925,
          -0.0055989887980603115,
          -0.00033168499408642305,
          -0.013582285295790086,
          0.014214418275422247,
          0.005331947723770547,
          -0.0012059480910169285,
          0.005898181319730078,
          0.003545923196052847,
          0.0020138971608334444,
          0.0005379230955409042,
          0.000841303338725119,
          0.005521261556286738,
          0.0076145988570921475,
          -0.0018231840983373715,
          0.0035277825143875674,
          -0.008181355608714469,
          0.01061819004380915,
          0.003575606743088322,
          -0.0034148586033451167,
          0.001491192546771103,
          -0.0034213731462404695,
          -0.007874514891244466,
          -0.014878103233726847,
          0.014228616636718705,
          0.008063682404880979,
          0.0020920805142434773,
          0.010235404365910306,
          0.0024517854670511596,
          -0.004568013598623466,
          -0.0004099997436926017,
          0.00413875488183546,
          -0.004868201575661146,
          -0.0021002891861110484,
          0.008102548846086854,
          -0.00493113484054053,
          0.006312954858304742,
          0.00165100707549648,
          -0.0008139274359075799,
          0.0012433336072037449,
          0.002481615437152307,
          0.0029925610304397665,
          0.0018181801447054724,
          0.0023519154394380237,
          -0.006576809486413815,
          -0.011005441362155644,
          0.0015471305396106416,
          0.007925614328080144,
          0.008758094279699868,
          0.0015862268313853178,
          0.0020961457735255706,
          -0.005920669216169294,
          0.008901147959285538,
          0.004387981249259987,
          -0.0014827082822224114,
          0.0005314311383495252,
          0.0030718890085177364,
          -0.00024283371781486096,
          -0.0035819820948796988,
          -0.001218930130730378,
          -0.004289441980700914,
          -0.007915720483584465,
          0.0025558102806586547,
          -0.005410949212104832,
          0.008317881149574546,
          -0.0015865458664237053,
          -0.00978883912961237,
          -0.016814775320122877,
          -0.0009449857110119808,
          0.009707476267006854,
          0.012076764497824577,
          0.0016460301541512123,
          -0.002865147507421284,
          -0.02035751438888589,
          0.0016816140602538,
          -0.012297716275554649,
          0.011814162297665298,
          -0.012979895953512788,
          0.010351254234261198,
          0.004147421641895299,
          0.008608438160589316,
          -0.0018254109212660907,
          -0.007266008899504683,
          -0.0024645937329541567,
          0.003591284004090589,
          0.01668065816498654,
          0.007586956771090669,
          0.002956132411502388,
          0.00768517149661907,
          0.003920095723607631,
          0.002604885789647682,
          -0.0010367414985106294,
          0.005348497280805553,
          0.0008995356821603906,
          -0.004439928515242997,
          0.009602595758177124,
          0.002027084381611033,
          0.0017187340899322834,
          0.004034888435757722,
          0.006086675636331584,
          0.004701410995571642,
          0.0034636862740127228,
          0.0008533077421128965,
          -0.0033107231462006226,
          -0.008077449784338775,
          0.00032345654798948686,
          0.007518482737846277,
          0.0003423844200272086,
          0.0039499882033631195,
          -0.002432128419735058,
          0.0033906231461573455,
          -0.001789911732850591,
          -0.0028190642584906556,
          0.0013251200011987763,
          0.002666212893561948,
          -0.022555654367384825,
          0.012192017454972337,
          -0.01964939966967094,
          -0.011169373291081364,
          0.015200217836420116,
          -0.008739425570403192,
          0.011773756166559401,
          0.020473733993415344,
          0.0026444764361013284,
          -0.006774394373218584,
          0.009369556367653686,
          -0.008897862810631096,
          -0.006903870512658727,
          0.015504177200686087,
          -0.008857523880031692,
          -0.010700009772306451,
          -0.01069038085582985,
          0.01760323666288599,
          0.009949035530326,
          0.006202802765583826,
          0.01405291157289934,
          -0.0008175841396855787,
          0.0012783837388194996,
          -0.002768249547917989,
          -0.00252342456936816,
          0.005773310713247604,
          -0.0003350156494725809,
          -0.019388778051689037,
          -0.0009399955607474197,
          -0.003961318878261011,
          -0.0012451747417969727,
          0.009067159639874589,
          0.0026998313271073826,
          -0.013874438740295147,
          0.00040905023362114434,
          -0.01786831816263401,
          -0.010437889151490687,
          -0.011129814921314818,
          -0.019825946403316586,
          0.0042378162198764,
          -0.012284078789813968,
          -0.002511935122794462,
          -0.0049502557938314595,
          0.024532067676777736,
          0.017850780939955513,
          0.00673412970296372,
          0.009667214305272509,
          -0.023785583472455407,
          0.004691118006222794,
          -0.003214356149721098,
          0.008194141855804027,
          0.014530082355134866,
          -0.01812897025835447,
          -0.019915731382487145,
          -0.0032747296458675024,
          0.015998188147443138,
          0.0011202570718253924,
          -0.021592881744040504,
          -0.006496132974667113,
          -0.010789650152223551,
          -0.017897824821062613,
          0.014936950357510526,
          0.021824187631327874,
          -0.0025618194039127573,
          -0.015347371247989017,
          0.018228948227617003,
          -0.004990882545089725,
          -0.008157862962073992,
          -0.029922389099570346,
          -0.00761054058185362,
          0.026457645876868163,
          -0.004525722556047107,
          -0.012796610687436427,
          -0.007335185530928712,
          0.021752152880209152,
          0.021931932322480918,
          0.012433327728264665,
          0.010893237904693542,
          -0.0002924322901831644,
          0.011633444855712938,
          -0.01296212758798898,
          0.01496189055033792,
          0.004871714946876438,
          0.007087851131550416,
          0.012294934346384068,
          -0.006193859234421062,
          -0.015511076023745574,
          0.002830157909965436,
          0.008530103625170149,
          -0.012711844373601622,
          -0.010049624834289617,
          0.0050263374422812035,
          -0.00267752275488764,
          -0.017240135034140458,
          -0.0037120307057598723,
          0.011388519286803955,
          -0.012529964880571676,
          0.0004110733580011683,
          0.01601374394814492,
          -0.0007418312577192054,
          -0.015066510207649486,
          -0.02782262219472642,
          0.005780870306954178,
          -0.029388459126561628,
          0.002807816400977714,
          0.024945772541622446,
          -0.03765589149840132,
          0.006001391679739676,
          0.004573586164200449,
          0.029998467769120296,
          -0.03618993572032192,
          -0.00598676846820112,
          -0.03254101496107875,
          0.0023078813176038437,
          -0.016013759397218053,
          -0.0010443832151363353,
          0.0236265107967224,
          -0.004065730209114271,
          0.02036160429463152,
          -0.04114667362914215,
          -0.0061433112413835644,
          0.00043642621958728256,
          0.018537102921986737,
          -0.007663074833067718,
          0.00879616745207823,
          0.0197844236903455,
          0.024252572103566905,
          -0.005626709858137957,
          -0.008121447163176754,
          0.018864435913839905,
          -0.016547727044296856,
          0.00304017468899076,
          0.00954653830856067,
          -0.010931729192487971,
          -0.024070196973218216,
          -0.029424453413719576,
          -0.03870761906670861,
          -0.0030178866806709337,
          0.014155652697507293,
          -0.033656130942270934,
          0.002153470622991982,
          0.024861904711775296,
          -0.0018146682181843232,
          0.009754890407794647,
          0.031298898097308125,
          -0.00382702020357506,
          -0.020644528871419432,
          -0.0008146475881716242,
          -0.008157547511167706,
          0.010520963494225377,
          0.0018867839980556411,
          0.0033717046710046716,
          0.014866064663474177,
          -0.0008229336932350506,
          -0.011489320542331427,
          -0.008888306183313155,
          -0.005265482260205623,
          -0.0024315354358419583,
          0.018925000799616676,
          -0.00829132354772888,
          0.026660646370868513,
          0.006352925618008598,
          0.010131700769382412,
          -0.009321399667218344,
          0.001214221879481947,
          -0.011901593021678813,
          0.025635069624839524,
          0.01246421880139792,
          0.014473541885639207,
          -0.0029656492746550356,
          -0.0066190710610136705,
          0.015538004450850629,
          -0.0006757363265581517,
          -0.001691640175384812,
          -0.001161550314399129,
          -0.00397890997701289,
          0.02078636749079532,
          0,
          0.016787305358003657,
          0.004112359788924103,
          0.001956803960406539,
          -0.007123295330046631,
          0.0029021502181896253,
          -0.013529119294530823,
          -0.021042429084355163,
          -0.0024220186619086093,
          0.0031960603998664183,
          0.014018822041552248,
          -0.03443530539720463,
          -0.0066340886414639755,
          -0.011038613954148957,
          -0.007638175323865681,
          0.003132978289609234,
          -0.010600428695212827,
          -0.003780283276691776,
          0.01780552009309222,
          0.006514984694932835,
          0.015415799010704667,
          0.010690337859194265,
          -0.04445619883434038,
          0.0038085689697897607,
          -0.01141817173080284,
          -0.007658135430532731,
          0.007724985856689237,
          -0.01154495041009529,
          -0.017597752184625115,
          -0.00843530688001426,
          -0.016896746699740284,
          -0.009941998838394639,
          -0.0025558988553964213,
          0.01948524780276717,
          -0.021110247588228326,
          -0.015584342851333588,
          0.026058729212948606,
          0.03051620469829963,
          -0.0023309500875026146,
          -0.010369298090807,
          -0.028290342881605035,
          -0.007664659353588732,
          -0.006353053078562709,
          -0.003304009518560136,
          0.02604888268843286,
          -0.023052375162583516,
          0.02537235475798738,
          0.011681056416438018,
          -0.007111631284530517,
          -0.008420693304003635,
          0.02401092586406861,
          0.012162203024382201,
          0.015842307560537172,
          -0.007562542405480599,
          -0.005354329584548623,
          0.02351208982489439,
          -0.00724951676375607,
          -0.00438544392803486,
          -0.025416418994421264,
          -0.010350313898680241,
          0.014290541759039321,
          0.009520174269336934,
          0.005380853323573298,
          -0.02081724787012007,
          0.05349733129833378,
          0.009631956517077711,
          -0.008543126447386307,
          0.00849285206004069,
          -0.00765801806491595,
          -0.00306449731972247,
          0.0045301345312829255,
          -0.0036427419888269696,
          0.013367325470754032,
          0.006281773436552562,
          -0.00022371185944702887,
          -0.016085752401221676,
          -0.0017189565100652615,
          0.031014616212743817,
          -0.0007361224863196014,
          -0.0011543592245688572,
          -0.018153042957989918,
          -0.014519708511763874,
          -0.0017026814555407555,
          0.007803423819290778,
          -0.007498196684890601,
          0.014314259443916733,
          0.007541402191775681,
          -0.00641403004148966,
          -0.024765899791328927,
          -0.011876371072574443,
          -0.008515810545604907,
          0.0013674477990592848,
          0.014841746822192192,
          -0.014368912207748608,
          0.005735851484906185,
          -0.003951316760455903,
          -0.012505786190448731,
          0.017840282279211195,
          -0.0026376168548338796,
          -0.0042187352543949785,
          0.007690562945566803,
          -0.01147908293245603,
          0.0226731061599601,
          -0.0005670106480417658,
          0.006988357089804609,
          0.012568582046838195,
          0.0036341250299276595,
          0.0038719891237279924,
          -0.0018335730655465454,
          -0.015913926137181456,
          -0.007306449043626095,
          0.018457642934584406,
          0.011927155351957097,
          -0.0010739112724644784,
          0.000374779681655113,
          0.010930425401848076,
          0.0022950504048484532,
          -0.012626212086036759,
          0.014596288022497461,
          0.010571709014065789,
          0.01445205426798779,
          -0.010685976570673716,
          -0.006130107750476732,
          0.012993828803550045,
          -0.010994968402075145,
          -0.008707011863227088,
          0.002330974302156008,
          0.011670605231934417,
          -0.00046025109918002016,
          0.003242108018781664,
          -0.01386448895560033,
          -0.0025013900047037296,
          -0.020264868501323363,
          -0.0013790950641068278,
          0.005305314549048923,
          -0.010739854176470054,
          0.0034000659933255406,
          -0.0037028354004080555,
          -0.0038432417433540422,
          0.0077471619472770925,
          0.01591056090791021,
          0.0006925675792528452,
          -0.015447463379785198,
          0.0016307881970289984,
          -0.018622170285010675,
          -0.01453455485461852,
          -0.001426308426765388,
          0.016394978281430994,
          -0.006273997250397123,
          0.017393030309732715,
          -0.011761590217907347,
          0.009569695461115302,
          0.013045068527290482,
          -0.017193461403886445,
          0.002699747151758025,
          0.006540576296235834,
          0.0018680966845829872,
          -0.0022471802686450104,
          0.014430264607990573,
          0.005838178311722508,
          0.013996224623975984,
          0.0038032995781795975,
          -0.0055635650401377745,
          -0.0026217009359426058,
          0.0038932854947857365,
          0.0010258499102313579,
          0.00026855081982812834,
          -0.004084316547969813,
          0.01319527739381332,
          -0.0024457527346068986,
          0.0035818310251141128,
          0.0006520292826834861,
          -0.00016895468411082248,
          -0.00547205963912667,
          0.0007766414272092348,
          0.001042621402772781,
          -0.01600116801417073,
          -0.004244617399672634,
          0.019712474971588456,
          0.008498950231163427,
          -0.0010102543650605256,
          -0.011302869513428071,
          -0.006887669499263893,
          -0.007108150576824457,
          0.018343304165668428,
          0.000266511632029065,
          -0.004394965239956861,
          0.004661479781750799,
          -0.001745500239814568,
          -0.0013111460726520363,
          0.003444130053141592,
          -0.006705099417769311,
          0.012065880064935364,
          0.009587111502516343,
          -0.0014561460225204215
         ],
         "xaxis": "x",
         "yaxis": "y"
        }
       ],
       "layout": {
        "barmode": "overlay",
        "height": 600,
        "legend": {
         "bgcolor": "#F5F6F9",
         "font": {
          "color": "#4D5663"
         }
        },
        "paper_bgcolor": "#F5F6F9",
        "plot_bgcolor": "#F5F6F9",
        "template": {
         "data": {
          "bar": [
           {
            "error_x": {
             "color": "#2a3f5f"
            },
            "error_y": {
             "color": "#2a3f5f"
            },
            "marker": {
             "line": {
              "color": "#E5ECF6",
              "width": 0.5
             },
             "pattern": {
              "fillmode": "overlay",
              "size": 10,
              "solidity": 0.2
             }
            },
            "type": "bar"
           }
          ],
          "barpolar": [
           {
            "marker": {
             "line": {
              "color": "#E5ECF6",
              "width": 0.5
             },
             "pattern": {
              "fillmode": "overlay",
              "size": 10,
              "solidity": 0.2
             }
            },
            "type": "barpolar"
           }
          ],
          "carpet": [
           {
            "aaxis": {
             "endlinecolor": "#2a3f5f",
             "gridcolor": "white",
             "linecolor": "white",
             "minorgridcolor": "white",
             "startlinecolor": "#2a3f5f"
            },
            "baxis": {
             "endlinecolor": "#2a3f5f",
             "gridcolor": "white",
             "linecolor": "white",
             "minorgridcolor": "white",
             "startlinecolor": "#2a3f5f"
            },
            "type": "carpet"
           }
          ],
          "choropleth": [
           {
            "colorbar": {
             "outlinewidth": 0,
             "ticks": ""
            },
            "type": "choropleth"
           }
          ],
          "contour": [
           {
            "colorbar": {
             "outlinewidth": 0,
             "ticks": ""
            },
            "colorscale": [
             [
              0,
              "#0d0887"
             ],
             [
              0.1111111111111111,
              "#46039f"
             ],
             [
              0.2222222222222222,
              "#7201a8"
             ],
             [
              0.3333333333333333,
              "#9c179e"
             ],
             [
              0.4444444444444444,
              "#bd3786"
             ],
             [
              0.5555555555555556,
              "#d8576b"
             ],
             [
              0.6666666666666666,
              "#ed7953"
             ],
             [
              0.7777777777777778,
              "#fb9f3a"
             ],
             [
              0.8888888888888888,
              "#fdca26"
             ],
             [
              1,
              "#f0f921"
             ]
            ],
            "type": "contour"
           }
          ],
          "contourcarpet": [
           {
            "colorbar": {
             "outlinewidth": 0,
             "ticks": ""
            },
            "type": "contourcarpet"
           }
          ],
          "heatmap": [
           {
            "colorbar": {
             "outlinewidth": 0,
             "ticks": ""
            },
            "colorscale": [
             [
              0,
              "#0d0887"
             ],
             [
              0.1111111111111111,
              "#46039f"
             ],
             [
              0.2222222222222222,
              "#7201a8"
             ],
             [
              0.3333333333333333,
              "#9c179e"
             ],
             [
              0.4444444444444444,
              "#bd3786"
             ],
             [
              0.5555555555555556,
              "#d8576b"
             ],
             [
              0.6666666666666666,
              "#ed7953"
             ],
             [
              0.7777777777777778,
              "#fb9f3a"
             ],
             [
              0.8888888888888888,
              "#fdca26"
             ],
             [
              1,
              "#f0f921"
             ]
            ],
            "type": "heatmap"
           }
          ],
          "heatmapgl": [
           {
            "colorbar": {
             "outlinewidth": 0,
             "ticks": ""
            },
            "colorscale": [
             [
              0,
              "#0d0887"
             ],
             [
              0.1111111111111111,
              "#46039f"
             ],
             [
              0.2222222222222222,
              "#7201a8"
             ],
             [
              0.3333333333333333,
              "#9c179e"
             ],
             [
              0.4444444444444444,
              "#bd3786"
             ],
             [
              0.5555555555555556,
              "#d8576b"
             ],
             [
              0.6666666666666666,
              "#ed7953"
             ],
             [
              0.7777777777777778,
              "#fb9f3a"
             ],
             [
              0.8888888888888888,
              "#fdca26"
             ],
             [
              1,
              "#f0f921"
             ]
            ],
            "type": "heatmapgl"
           }
          ],
          "histogram": [
           {
            "marker": {
             "pattern": {
              "fillmode": "overlay",
              "size": 10,
              "solidity": 0.2
             }
            },
            "type": "histogram"
           }
          ],
          "histogram2d": [
           {
            "colorbar": {
             "outlinewidth": 0,
             "ticks": ""
            },
            "colorscale": [
             [
              0,
              "#0d0887"
             ],
             [
              0.1111111111111111,
              "#46039f"
             ],
             [
              0.2222222222222222,
              "#7201a8"
             ],
             [
              0.3333333333333333,
              "#9c179e"
             ],
             [
              0.4444444444444444,
              "#bd3786"
             ],
             [
              0.5555555555555556,
              "#d8576b"
             ],
             [
              0.6666666666666666,
              "#ed7953"
             ],
             [
              0.7777777777777778,
              "#fb9f3a"
             ],
             [
              0.8888888888888888,
              "#fdca26"
             ],
             [
              1,
              "#f0f921"
             ]
            ],
            "type": "histogram2d"
           }
          ],
          "histogram2dcontour": [
           {
            "colorbar": {
             "outlinewidth": 0,
             "ticks": ""
            },
            "colorscale": [
             [
              0,
              "#0d0887"
             ],
             [
              0.1111111111111111,
              "#46039f"
             ],
             [
              0.2222222222222222,
              "#7201a8"
             ],
             [
              0.3333333333333333,
              "#9c179e"
             ],
             [
              0.4444444444444444,
              "#bd3786"
             ],
             [
              0.5555555555555556,
              "#d8576b"
             ],
             [
              0.6666666666666666,
              "#ed7953"
             ],
             [
              0.7777777777777778,
              "#fb9f3a"
             ],
             [
              0.8888888888888888,
              "#fdca26"
             ],
             [
              1,
              "#f0f921"
             ]
            ],
            "type": "histogram2dcontour"
           }
          ],
          "mesh3d": [
           {
            "colorbar": {
             "outlinewidth": 0,
             "ticks": ""
            },
            "type": "mesh3d"
           }
          ],
          "parcoords": [
           {
            "line": {
             "colorbar": {
              "outlinewidth": 0,
              "ticks": ""
             }
            },
            "type": "parcoords"
           }
          ],
          "pie": [
           {
            "automargin": true,
            "type": "pie"
           }
          ],
          "scatter": [
           {
            "fillpattern": {
             "fillmode": "overlay",
             "size": 10,
             "solidity": 0.2
            },
            "type": "scatter"
           }
          ],
          "scatter3d": [
           {
            "line": {
             "colorbar": {
              "outlinewidth": 0,
              "ticks": ""
             }
            },
            "marker": {
             "colorbar": {
              "outlinewidth": 0,
              "ticks": ""
             }
            },
            "type": "scatter3d"
           }
          ],
          "scattercarpet": [
           {
            "marker": {
             "colorbar": {
              "outlinewidth": 0,
              "ticks": ""
             }
            },
            "type": "scattercarpet"
           }
          ],
          "scattergeo": [
           {
            "marker": {
             "colorbar": {
              "outlinewidth": 0,
              "ticks": ""
             }
            },
            "type": "scattergeo"
           }
          ],
          "scattergl": [
           {
            "marker": {
             "colorbar": {
              "outlinewidth": 0,
              "ticks": ""
             }
            },
            "type": "scattergl"
           }
          ],
          "scattermapbox": [
           {
            "marker": {
             "colorbar": {
              "outlinewidth": 0,
              "ticks": ""
             }
            },
            "type": "scattermapbox"
           }
          ],
          "scatterpolar": [
           {
            "marker": {
             "colorbar": {
              "outlinewidth": 0,
              "ticks": ""
             }
            },
            "type": "scatterpolar"
           }
          ],
          "scatterpolargl": [
           {
            "marker": {
             "colorbar": {
              "outlinewidth": 0,
              "ticks": ""
             }
            },
            "type": "scatterpolargl"
           }
          ],
          "scatterternary": [
           {
            "marker": {
             "colorbar": {
              "outlinewidth": 0,
              "ticks": ""
             }
            },
            "type": "scatterternary"
           }
          ],
          "surface": [
           {
            "colorbar": {
             "outlinewidth": 0,
             "ticks": ""
            },
            "colorscale": [
             [
              0,
              "#0d0887"
             ],
             [
              0.1111111111111111,
              "#46039f"
             ],
             [
              0.2222222222222222,
              "#7201a8"
             ],
             [
              0.3333333333333333,
              "#9c179e"
             ],
             [
              0.4444444444444444,
              "#bd3786"
             ],
             [
              0.5555555555555556,
              "#d8576b"
             ],
             [
              0.6666666666666666,
              "#ed7953"
             ],
             [
              0.7777777777777778,
              "#fb9f3a"
             ],
             [
              0.8888888888888888,
              "#fdca26"
             ],
             [
              1,
              "#f0f921"
             ]
            ],
            "type": "surface"
           }
          ],
          "table": [
           {
            "cells": {
             "fill": {
              "color": "#EBF0F8"
             },
             "line": {
              "color": "white"
             }
            },
            "header": {
             "fill": {
              "color": "#C8D4E3"
             },
             "line": {
              "color": "white"
             }
            },
            "type": "table"
           }
          ]
         },
         "layout": {
          "annotationdefaults": {
           "arrowcolor": "#2a3f5f",
           "arrowhead": 0,
           "arrowwidth": 1
          },
          "autotypenumbers": "strict",
          "coloraxis": {
           "colorbar": {
            "outlinewidth": 0,
            "ticks": ""
           }
          },
          "colorscale": {
           "diverging": [
            [
             0,
             "#8e0152"
            ],
            [
             0.1,
             "#c51b7d"
            ],
            [
             0.2,
             "#de77ae"
            ],
            [
             0.3,
             "#f1b6da"
            ],
            [
             0.4,
             "#fde0ef"
            ],
            [
             0.5,
             "#f7f7f7"
            ],
            [
             0.6,
             "#e6f5d0"
            ],
            [
             0.7,
             "#b8e186"
            ],
            [
             0.8,
             "#7fbc41"
            ],
            [
             0.9,
             "#4d9221"
            ],
            [
             1,
             "#276419"
            ]
           ],
           "sequential": [
            [
             0,
             "#0d0887"
            ],
            [
             0.1111111111111111,
             "#46039f"
            ],
            [
             0.2222222222222222,
             "#7201a8"
            ],
            [
             0.3333333333333333,
             "#9c179e"
            ],
            [
             0.4444444444444444,
             "#bd3786"
            ],
            [
             0.5555555555555556,
             "#d8576b"
            ],
            [
             0.6666666666666666,
             "#ed7953"
            ],
            [
             0.7777777777777778,
             "#fb9f3a"
            ],
            [
             0.8888888888888888,
             "#fdca26"
            ],
            [
             1,
             "#f0f921"
            ]
           ],
           "sequentialminus": [
            [
             0,
             "#0d0887"
            ],
            [
             0.1111111111111111,
             "#46039f"
            ],
            [
             0.2222222222222222,
             "#7201a8"
            ],
            [
             0.3333333333333333,
             "#9c179e"
            ],
            [
             0.4444444444444444,
             "#bd3786"
            ],
            [
             0.5555555555555556,
             "#d8576b"
            ],
            [
             0.6666666666666666,
             "#ed7953"
            ],
            [
             0.7777777777777778,
             "#fb9f3a"
            ],
            [
             0.8888888888888888,
             "#fdca26"
            ],
            [
             1,
             "#f0f921"
            ]
           ]
          },
          "colorway": [
           "#636efa",
           "#EF553B",
           "#00cc96",
           "#ab63fa",
           "#FFA15A",
           "#19d3f3",
           "#FF6692",
           "#B6E880",
           "#FF97FF",
           "#FECB52"
          ],
          "font": {
           "color": "#2a3f5f"
          },
          "geo": {
           "bgcolor": "white",
           "lakecolor": "white",
           "landcolor": "#E5ECF6",
           "showlakes": true,
           "showland": true,
           "subunitcolor": "white"
          },
          "hoverlabel": {
           "align": "left"
          },
          "hovermode": "closest",
          "mapbox": {
           "style": "light"
          },
          "paper_bgcolor": "white",
          "plot_bgcolor": "#E5ECF6",
          "polar": {
           "angularaxis": {
            "gridcolor": "white",
            "linecolor": "white",
            "ticks": ""
           },
           "bgcolor": "#E5ECF6",
           "radialaxis": {
            "gridcolor": "white",
            "linecolor": "white",
            "ticks": ""
           }
          },
          "scene": {
           "xaxis": {
            "backgroundcolor": "#E5ECF6",
            "gridcolor": "white",
            "gridwidth": 2,
            "linecolor": "white",
            "showbackground": true,
            "ticks": "",
            "zerolinecolor": "white"
           },
           "yaxis": {
            "backgroundcolor": "#E5ECF6",
            "gridcolor": "white",
            "gridwidth": 2,
            "linecolor": "white",
            "showbackground": true,
            "ticks": "",
            "zerolinecolor": "white"
           },
           "zaxis": {
            "backgroundcolor": "#E5ECF6",
            "gridcolor": "white",
            "gridwidth": 2,
            "linecolor": "white",
            "showbackground": true,
            "ticks": "",
            "zerolinecolor": "white"
           }
          },
          "shapedefaults": {
           "line": {
            "color": "#2a3f5f"
           }
          },
          "ternary": {
           "aaxis": {
            "gridcolor": "white",
            "linecolor": "white",
            "ticks": ""
           },
           "baxis": {
            "gridcolor": "white",
            "linecolor": "white",
            "ticks": ""
           },
           "bgcolor": "#E5ECF6",
           "caxis": {
            "gridcolor": "white",
            "linecolor": "white",
            "ticks": ""
           }
          },
          "title": {
           "x": 0.05
          },
          "xaxis": {
           "automargin": true,
           "gridcolor": "white",
           "linecolor": "white",
           "ticks": "",
           "title": {
            "standoff": 15
           },
           "zerolinecolor": "white",
           "zerolinewidth": 2
          },
          "yaxis": {
           "automargin": true,
           "gridcolor": "white",
           "linecolor": "white",
           "ticks": "",
           "title": {
            "standoff": 15
           },
           "zerolinecolor": "white",
           "zerolinewidth": 2
          }
         }
        },
        "title": {
         "font": {
          "color": "#4D5663"
         },
         "text": "Histogram of Daily Returns"
        },
        "width": 1000,
        "xaxis": {
         "anchor": "y",
         "domain": [
          0,
          1
         ],
         "gridcolor": "#E1E5ED",
         "showgrid": true,
         "tickfont": {
          "color": "#4D5663"
         },
         "title": {
          "font": {
           "color": "#4D5663"
          },
          "text": ""
         },
         "zerolinecolor": "#E1E5ED"
        },
        "yaxis": {
         "anchor": "x",
         "domain": [
          0,
          1
         ],
         "gridcolor": "#E1E5ED",
         "showgrid": true,
         "tickfont": {
          "color": "#4D5663"
         },
         "title": {
          "font": {
           "color": "#4D5663"
          },
          "text": ""
         },
         "zerolinecolor": "#E1E5ED"
        }
       }
      },
      "text/html": [
       "<div>                            <div id=\"3e0ba1d9-5d63-4436-b860-3f2d54a93d64\" class=\"plotly-graph-div\" style=\"height:600px; width:1000px;\"></div>            <script type=\"text/javascript\">                require([\"plotly\"], function(Plotly) {                    window.PLOTLYENV=window.PLOTLYENV || {};\n",
       "                    window.PLOTLYENV.BASE_URL='https://plot.ly';                                    if (document.getElementById(\"3e0ba1d9-5d63-4436-b860-3f2d54a93d64\")) {                    Plotly.newPlot(                        \"3e0ba1d9-5d63-4436-b860-3f2d54a93d64\",                        [{\"histfunc\":\"count\",\"histnorm\":\"\",\"marker\":{\"color\":\"rgba(255, 153, 51, 1.0)\",\"line\":{\"color\":\"#4D5663\",\"width\":1.3}},\"name\":\"Log_Return\",\"opacity\":0.8,\"orientation\":\"v\",\"x\":[null,0.0018970719710562634,0.012245242443717608,0.014769561235866036,-0.0018467786240128348,0.004446078588042468,0.004033656560310739,0.00824595196315947,0.013220403065024477,-0.0026301147292704385,0.02530650078934027,0.01201514693891692,-0.007484540278740681,-0.005595715685298153,-0.05937776008875595,0.011904752841181754,0.00929250447165586,0.019064745966737462,-0.004162632726013804,0.0003849413770344867,-0.005731096945146064,0.0063943529128609455,0.004593515092267353,-0.025839813235842612,0.010663222554480711,-0.02403781505738678,0.014590644558829524,0.012727864492847907,0.006980488504261473,0.005491758691601234,0.01531953939175601,-0.01036742592326867,0.007619629402149997,-0.005709348015630056,0.010158873193432783,-0.008696653383109876,0.012875767135262173,0.0091454843094958,-0.0032990241102508477,0.0028948411821740905,0.008049152842225737,0.0021252545962129332,0.005676016132420081,-0.012003526616901183,-0.00646147189624191,0.007266178973734938,-0.006362565439253842,0.012223828573964646,-0.0035744280753160496,0.007870986578116579,0.006928213685513107,0.003855308037969074,0.0061915306422672955,0.006662355773914719,0.0007177444815482659,0.002984516346121069,-0.008289159980776617,0.013846151349544478,-0.0018092710024149028,2.9745411854520398e-05,0.0031714451007385236,0.002157941400485086,-0.004172174375320026,0.0031085480369537066,0.0035413427570674116,0.010082025517626825,0.0034932311933602023,0.00997558519248809,0.0021842324967673576,0.006438483384211047,-0.003629150443010154,0.009374634903127621,0.014360411784135607,-0.03502050571900028,-0.008198204657686503,-0.027703080356806353,0.01955496944462265,-0.01751626969340414,0.0005089547670609207,0.01308529401123959,0.00503955171988224,-0.003976584608075484,-0.008834023525429835,-0.011579405490137695,-0.011192099445017867,0.010132808081801947,-0.023463960245449833,0.002662055593804169,0.016037445383128457,0.016472769290449385,-0.0054605423198959,0.007553098781298395,0.006399673169482867,-0.009539820062625104,0.017577660089576064,-0.014318135556765199,0.017256863656751165,0.008823700046600713,0.008890481402146655,0.015959725699699057,-0.006547513118461801,-0.006303530690122905,-0.0012363692339807386,-0.0006046188135639952,-0.015320267184490532,0.003997794222302176,-0.0018947064674517122,0.005470511587652105,0.003389275632904365,-0.01865261086032266,-0.0034537600667512436,-0.03477646001114465,0.010112228503406762,-0.010479570673475713,0.011146022892098983,0.017501907658892257,0.022103154235358247,0.01931492261281509,-0.00022842148685153774,0.012487319828491827,-0.0014676030853673083,0.007401045386325578,-0.009748156530249297,0.01374951902753807,0.012405249975967259,-0.005392865405105418,-0.012107844574710924,0.00420126574109414,-0.0068711871182411954,0.005976547063023752,0.01598520436569828,-0.0015428239176493719,0.002781208123763257,-0.004437098188752486,0.010878022126401099,0.0021016567863467728,-0.00027280071653734694,0.00858080106095116,-0.0020571265020334906,0.002921894489028354,-0.009009365418759963,-0.00032709168925482146,-0.001173296652664746,-0.00448726605823957,0.013428841057702812,0.0015681787612162879,0.005576539024893634,-0.004001074381520198,-0.0035818435775105684,-0.0016868599154280517,0.0008981131642338269,0.003882985752757584,0.008554081690965276,-0.001909568412744811,0.0014258822143364824,0.005068044509204839,-0.013707712465652833,0.006863751157652587,0.00596075928682982,0.014748114071494456,0.005681499437163673,-0.006763519322976919,0.00021106746574162116,0.00268957967479988,-0.003508110306457368,-0.007319578983529418,0.00782132508461686,0.013743790338567763,0.0009111475745982034,-0.003545681133664935,0.003936235501736718,-0.0015622293469412796,-0.024744115880182882,0.008563414926011426,-0.020222534721417773,0.016508281561544713,0.014041280631968966,0.0007858816106818267,0.01130179231679751,0.003928031078519467,0.0071960003363669145,-0.0006659425128283658,-0.0004357976017956844,0.0016138448280891282,0.004927525238016095,-0.000866395961758748,0.00022947228229863725,-0.004265087980728666,-0.0017676274158064942,-0.007721434157368812,0.001213731078863134,0.010959014455188765,-0.024390701588060004,-0.00516598051791739,0.02395109937475226,-0.007833945785123753,-0.013334090098281237,-0.012452202851848782,0.01822950227665121,-0.004991150193799143,0.014176553528396418,0.006205333124005286,0.010088151799971357,0.0013457291319181053,0.005945737885144631,-0.00126196787837074,0.003404014490257623,-0.014656512722224235,-0.0018519432685302206,0.007953288166795858,-0.007901944716154574,-0.005096644247047699,0.005609933817305013,0.01598654408239053,-0.0005052264756706393,-0.0026565353115932666,0.004045155543281886,0.010741170124359378,0.014251123058151016,-0.0005907176694650573,0.0011564175160829748,0.004735653825202135,0.007243802715185765,0.000364498130950075,0.0029594218204840317,-0.0034209686768482683,0.010685073983252025,0.0033369722561218396,-0.004925165316449487,-0.007348544367027365,0.009417638731216371,-0.00917507696659392,0.010783983284405885,0.002085449431971753,-0.0002154358961350411,-0.0002875711801797465,0.00635260420377648,-0.006592109111588584,0.0021544593408799884,-0.006188391654157854,0.00031255054049950104,0.007954017201265096,0.0072515994242499104,-0.00995168654206946,-0.008964920522980258,-0.021474090505116727,0.011940927126647516,0.015238559461772105,-0.002547713929192952,-0.008653060540128266,-0.002625195991634577,0.010700640487907087,-0.0008191198502895958,0.010142629827254446,-0.0022211869791162187,0.001982618532696989,0.0005247754747550459,0.001787165010984637,-0.0008812329383012241,0.0015712531346077085,-0.0037181578693825657,0.009104289720241354,-0.0009705468331571154,0.00021305311183361653,-0.0014931461729226214,0.004637711209158901,0.001651211412829312,0.0022363241596279337,-0.0018357987740333925,-0.0055989887980603115,-0.00033168499408642305,-0.013582285295790086,0.014214418275422247,0.005331947723770547,-0.0012059480910169285,0.005898181319730078,0.003545923196052847,0.0020138971608334444,0.0005379230955409042,0.000841303338725119,0.005521261556286738,0.0076145988570921475,-0.0018231840983373715,0.0035277825143875674,-0.008181355608714469,0.01061819004380915,0.003575606743088322,-0.0034148586033451167,0.001491192546771103,-0.0034213731462404695,-0.007874514891244466,-0.014878103233726847,0.014228616636718705,0.008063682404880979,0.0020920805142434773,0.010235404365910306,0.0024517854670511596,-0.004568013598623466,-0.0004099997436926017,0.00413875488183546,-0.004868201575661146,-0.0021002891861110484,0.008102548846086854,-0.00493113484054053,0.006312954858304742,0.00165100707549648,-0.0008139274359075799,0.0012433336072037449,0.002481615437152307,0.0029925610304397665,0.0018181801447054724,0.0023519154394380237,-0.006576809486413815,-0.011005441362155644,0.0015471305396106416,0.007925614328080144,0.008758094279699868,0.0015862268313853178,0.0020961457735255706,-0.005920669216169294,0.008901147959285538,0.004387981249259987,-0.0014827082822224114,0.0005314311383495252,0.0030718890085177364,-0.00024283371781486096,-0.0035819820948796988,-0.001218930130730378,-0.004289441980700914,-0.007915720483584465,0.0025558102806586547,-0.005410949212104832,0.008317881149574546,-0.0015865458664237053,-0.00978883912961237,-0.016814775320122877,-0.0009449857110119808,0.009707476267006854,0.012076764497824577,0.0016460301541512123,-0.002865147507421284,-0.02035751438888589,0.0016816140602538,-0.012297716275554649,0.011814162297665298,-0.012979895953512788,0.010351254234261198,0.004147421641895299,0.008608438160589316,-0.0018254109212660907,-0.007266008899504683,-0.0024645937329541567,0.003591284004090589,0.01668065816498654,0.007586956771090669,0.002956132411502388,0.00768517149661907,0.003920095723607631,0.002604885789647682,-0.0010367414985106294,0.005348497280805553,0.0008995356821603906,-0.004439928515242997,0.009602595758177124,0.002027084381611033,0.0017187340899322834,0.004034888435757722,0.006086675636331584,0.004701410995571642,0.0034636862740127228,0.0008533077421128965,-0.0033107231462006226,-0.008077449784338775,0.00032345654798948686,0.007518482737846277,0.0003423844200272086,0.0039499882033631195,-0.002432128419735058,0.0033906231461573455,-0.001789911732850591,-0.0028190642584906556,0.0013251200011987763,0.002666212893561948,-0.022555654367384825,0.012192017454972337,-0.01964939966967094,-0.011169373291081364,0.015200217836420116,-0.008739425570403192,0.011773756166559401,0.020473733993415344,0.0026444764361013284,-0.006774394373218584,0.009369556367653686,-0.008897862810631096,-0.006903870512658727,0.015504177200686087,-0.008857523880031692,-0.010700009772306451,-0.01069038085582985,0.01760323666288599,0.009949035530326,0.006202802765583826,0.01405291157289934,-0.0008175841396855787,0.0012783837388194996,-0.002768249547917989,-0.00252342456936816,0.005773310713247604,-0.0003350156494725809,-0.019388778051689037,-0.0009399955607474197,-0.003961318878261011,-0.0012451747417969727,0.009067159639874589,0.0026998313271073826,-0.013874438740295147,0.00040905023362114434,-0.01786831816263401,-0.010437889151490687,-0.011129814921314818,-0.019825946403316586,0.0042378162198764,-0.012284078789813968,-0.002511935122794462,-0.0049502557938314595,0.024532067676777736,0.017850780939955513,0.00673412970296372,0.009667214305272509,-0.023785583472455407,0.004691118006222794,-0.003214356149721098,0.008194141855804027,0.014530082355134866,-0.01812897025835447,-0.019915731382487145,-0.0032747296458675024,0.015998188147443138,0.0011202570718253924,-0.021592881744040504,-0.006496132974667113,-0.010789650152223551,-0.017897824821062613,0.014936950357510526,0.021824187631327874,-0.0025618194039127573,-0.015347371247989017,0.018228948227617003,-0.004990882545089725,-0.008157862962073992,-0.029922389099570346,-0.00761054058185362,0.026457645876868163,-0.004525722556047107,-0.012796610687436427,-0.007335185530928712,0.021752152880209152,0.021931932322480918,0.012433327728264665,0.010893237904693542,-0.0002924322901831644,0.011633444855712938,-0.01296212758798898,0.01496189055033792,0.004871714946876438,0.007087851131550416,0.012294934346384068,-0.006193859234421062,-0.015511076023745574,0.002830157909965436,0.008530103625170149,-0.012711844373601622,-0.010049624834289617,0.0050263374422812035,-0.00267752275488764,-0.017240135034140458,-0.0037120307057598723,0.011388519286803955,-0.012529964880571676,0.0004110733580011683,0.01601374394814492,-0.0007418312577192054,-0.015066510207649486,-0.02782262219472642,0.005780870306954178,-0.029388459126561628,0.002807816400977714,0.024945772541622446,-0.03765589149840132,0.006001391679739676,0.004573586164200449,0.029998467769120296,-0.03618993572032192,-0.00598676846820112,-0.03254101496107875,0.0023078813176038437,-0.016013759397218053,-0.0010443832151363353,0.0236265107967224,-0.004065730209114271,0.02036160429463152,-0.04114667362914215,-0.0061433112413835644,0.00043642621958728256,0.018537102921986737,-0.007663074833067718,0.00879616745207823,0.0197844236903455,0.024252572103566905,-0.005626709858137957,-0.008121447163176754,0.018864435913839905,-0.016547727044296856,0.00304017468899076,0.00954653830856067,-0.010931729192487971,-0.024070196973218216,-0.029424453413719576,-0.03870761906670861,-0.0030178866806709337,0.014155652697507293,-0.033656130942270934,0.002153470622991982,0.024861904711775296,-0.0018146682181843232,0.009754890407794647,0.031298898097308125,-0.00382702020357506,-0.020644528871419432,-0.0008146475881716242,-0.008157547511167706,0.010520963494225377,0.0018867839980556411,0.0033717046710046716,0.014866064663474177,-0.0008229336932350506,-0.011489320542331427,-0.008888306183313155,-0.005265482260205623,-0.0024315354358419583,0.018925000799616676,-0.00829132354772888,0.026660646370868513,0.006352925618008598,0.010131700769382412,-0.009321399667218344,0.001214221879481947,-0.011901593021678813,0.025635069624839524,0.01246421880139792,0.014473541885639207,-0.0029656492746550356,-0.0066190710610136705,0.015538004450850629,-0.0006757363265581517,-0.001691640175384812,-0.001161550314399129,-0.00397890997701289,0.02078636749079532,0.0,0.016787305358003657,0.004112359788924103,0.001956803960406539,-0.007123295330046631,0.0029021502181896253,-0.013529119294530823,-0.021042429084355163,-0.0024220186619086093,0.0031960603998664183,0.014018822041552248,-0.03443530539720463,-0.0066340886414639755,-0.011038613954148957,-0.007638175323865681,0.003132978289609234,-0.010600428695212827,-0.003780283276691776,0.01780552009309222,0.006514984694932835,0.015415799010704667,0.010690337859194265,-0.04445619883434038,0.0038085689697897607,-0.01141817173080284,-0.007658135430532731,0.007724985856689237,-0.01154495041009529,-0.017597752184625115,-0.00843530688001426,-0.016896746699740284,-0.009941998838394639,-0.0025558988553964213,0.01948524780276717,-0.021110247588228326,-0.015584342851333588,0.026058729212948606,0.03051620469829963,-0.0023309500875026146,-0.010369298090807,-0.028290342881605035,-0.007664659353588732,-0.006353053078562709,-0.003304009518560136,0.02604888268843286,-0.023052375162583516,0.02537235475798738,0.011681056416438018,-0.007111631284530517,-0.008420693304003635,0.02401092586406861,0.012162203024382201,0.015842307560537172,-0.007562542405480599,-0.005354329584548623,0.02351208982489439,-0.00724951676375607,-0.00438544392803486,-0.025416418994421264,-0.010350313898680241,0.014290541759039321,0.009520174269336934,0.005380853323573298,-0.02081724787012007,0.05349733129833378,0.009631956517077711,-0.008543126447386307,0.00849285206004069,-0.00765801806491595,-0.00306449731972247,0.0045301345312829255,-0.0036427419888269696,0.013367325470754032,0.006281773436552562,-0.00022371185944702887,-0.016085752401221676,-0.0017189565100652615,0.031014616212743817,-0.0007361224863196014,-0.0011543592245688572,-0.018153042957989918,-0.014519708511763874,-0.0017026814555407555,0.007803423819290778,-0.007498196684890601,0.014314259443916733,0.007541402191775681,-0.00641403004148966,-0.024765899791328927,-0.011876371072574443,-0.008515810545604907,0.0013674477990592848,0.014841746822192192,-0.014368912207748608,0.005735851484906185,-0.003951316760455903,-0.012505786190448731,0.017840282279211195,-0.0026376168548338796,-0.0042187352543949785,0.007690562945566803,-0.01147908293245603,0.0226731061599601,-0.0005670106480417658,0.006988357089804609,0.012568582046838195,0.0036341250299276595,0.0038719891237279924,-0.0018335730655465454,-0.015913926137181456,-0.007306449043626095,0.018457642934584406,0.011927155351957097,-0.0010739112724644784,0.000374779681655113,0.010930425401848076,0.0022950504048484532,-0.012626212086036759,0.014596288022497461,0.010571709014065789,0.01445205426798779,-0.010685976570673716,-0.006130107750476732,0.012993828803550045,-0.010994968402075145,-0.008707011863227088,0.002330974302156008,0.011670605231934417,-0.00046025109918002016,0.003242108018781664,-0.01386448895560033,-0.0025013900047037296,-0.020264868501323363,-0.0013790950641068278,0.005305314549048923,-0.010739854176470054,0.0034000659933255406,-0.0037028354004080555,-0.0038432417433540422,0.0077471619472770925,0.01591056090791021,0.0006925675792528452,-0.015447463379785198,0.0016307881970289984,-0.018622170285010675,-0.01453455485461852,-0.001426308426765388,0.016394978281430994,-0.006273997250397123,0.017393030309732715,-0.011761590217907347,0.009569695461115302,0.013045068527290482,-0.017193461403886445,0.002699747151758025,0.006540576296235834,0.0018680966845829872,-0.0022471802686450104,0.014430264607990573,0.005838178311722508,0.013996224623975984,0.0038032995781795975,-0.0055635650401377745,-0.0026217009359426058,0.0038932854947857365,0.0010258499102313579,0.00026855081982812834,-0.004084316547969813,0.01319527739381332,-0.0024457527346068986,0.0035818310251141128,0.0006520292826834861,-0.00016895468411082248,-0.00547205963912667,0.0007766414272092348,0.001042621402772781,-0.01600116801417073,-0.004244617399672634,0.019712474971588456,0.008498950231163427,-0.0010102543650605256,-0.011302869513428071,-0.006887669499263893,-0.007108150576824457,0.018343304165668428,0.000266511632029065,-0.004394965239956861,0.004661479781750799,-0.001745500239814568,-0.0013111460726520363,0.003444130053141592,-0.006705099417769311,0.012065880064935364,0.009587111502516343,-0.0014561460225204215],\"xaxis\":\"x\",\"yaxis\":\"y\",\"type\":\"histogram\"}],                        {\"barmode\":\"overlay\",\"height\":600,\"legend\":{\"bgcolor\":\"#F5F6F9\",\"font\":{\"color\":\"#4D5663\"}},\"paper_bgcolor\":\"#F5F6F9\",\"plot_bgcolor\":\"#F5F6F9\",\"template\":{\"data\":{\"barpolar\":[{\"marker\":{\"line\":{\"color\":\"#E5ECF6\",\"width\":0.5},\"pattern\":{\"fillmode\":\"overlay\",\"size\":10,\"solidity\":0.2}},\"type\":\"barpolar\"}],\"bar\":[{\"error_x\":{\"color\":\"#2a3f5f\"},\"error_y\":{\"color\":\"#2a3f5f\"},\"marker\":{\"line\":{\"color\":\"#E5ECF6\",\"width\":0.5},\"pattern\":{\"fillmode\":\"overlay\",\"size\":10,\"solidity\":0.2}},\"type\":\"bar\"}],\"carpet\":[{\"aaxis\":{\"endlinecolor\":\"#2a3f5f\",\"gridcolor\":\"white\",\"linecolor\":\"white\",\"minorgridcolor\":\"white\",\"startlinecolor\":\"#2a3f5f\"},\"baxis\":{\"endlinecolor\":\"#2a3f5f\",\"gridcolor\":\"white\",\"linecolor\":\"white\",\"minorgridcolor\":\"white\",\"startlinecolor\":\"#2a3f5f\"},\"type\":\"carpet\"}],\"choropleth\":[{\"colorbar\":{\"outlinewidth\":0,\"ticks\":\"\"},\"type\":\"choropleth\"}],\"contourcarpet\":[{\"colorbar\":{\"outlinewidth\":0,\"ticks\":\"\"},\"type\":\"contourcarpet\"}],\"contour\":[{\"colorbar\":{\"outlinewidth\":0,\"ticks\":\"\"},\"colorscale\":[[0.0,\"#0d0887\"],[0.1111111111111111,\"#46039f\"],[0.2222222222222222,\"#7201a8\"],[0.3333333333333333,\"#9c179e\"],[0.4444444444444444,\"#bd3786\"],[0.5555555555555556,\"#d8576b\"],[0.6666666666666666,\"#ed7953\"],[0.7777777777777778,\"#fb9f3a\"],[0.8888888888888888,\"#fdca26\"],[1.0,\"#f0f921\"]],\"type\":\"contour\"}],\"heatmapgl\":[{\"colorbar\":{\"outlinewidth\":0,\"ticks\":\"\"},\"colorscale\":[[0.0,\"#0d0887\"],[0.1111111111111111,\"#46039f\"],[0.2222222222222222,\"#7201a8\"],[0.3333333333333333,\"#9c179e\"],[0.4444444444444444,\"#bd3786\"],[0.5555555555555556,\"#d8576b\"],[0.6666666666666666,\"#ed7953\"],[0.7777777777777778,\"#fb9f3a\"],[0.8888888888888888,\"#fdca26\"],[1.0,\"#f0f921\"]],\"type\":\"heatmapgl\"}],\"heatmap\":[{\"colorbar\":{\"outlinewidth\":0,\"ticks\":\"\"},\"colorscale\":[[0.0,\"#0d0887\"],[0.1111111111111111,\"#46039f\"],[0.2222222222222222,\"#7201a8\"],[0.3333333333333333,\"#9c179e\"],[0.4444444444444444,\"#bd3786\"],[0.5555555555555556,\"#d8576b\"],[0.6666666666666666,\"#ed7953\"],[0.7777777777777778,\"#fb9f3a\"],[0.8888888888888888,\"#fdca26\"],[1.0,\"#f0f921\"]],\"type\":\"heatmap\"}],\"histogram2dcontour\":[{\"colorbar\":{\"outlinewidth\":0,\"ticks\":\"\"},\"colorscale\":[[0.0,\"#0d0887\"],[0.1111111111111111,\"#46039f\"],[0.2222222222222222,\"#7201a8\"],[0.3333333333333333,\"#9c179e\"],[0.4444444444444444,\"#bd3786\"],[0.5555555555555556,\"#d8576b\"],[0.6666666666666666,\"#ed7953\"],[0.7777777777777778,\"#fb9f3a\"],[0.8888888888888888,\"#fdca26\"],[1.0,\"#f0f921\"]],\"type\":\"histogram2dcontour\"}],\"histogram2d\":[{\"colorbar\":{\"outlinewidth\":0,\"ticks\":\"\"},\"colorscale\":[[0.0,\"#0d0887\"],[0.1111111111111111,\"#46039f\"],[0.2222222222222222,\"#7201a8\"],[0.3333333333333333,\"#9c179e\"],[0.4444444444444444,\"#bd3786\"],[0.5555555555555556,\"#d8576b\"],[0.6666666666666666,\"#ed7953\"],[0.7777777777777778,\"#fb9f3a\"],[0.8888888888888888,\"#fdca26\"],[1.0,\"#f0f921\"]],\"type\":\"histogram2d\"}],\"histogram\":[{\"marker\":{\"pattern\":{\"fillmode\":\"overlay\",\"size\":10,\"solidity\":0.2}},\"type\":\"histogram\"}],\"mesh3d\":[{\"colorbar\":{\"outlinewidth\":0,\"ticks\":\"\"},\"type\":\"mesh3d\"}],\"parcoords\":[{\"line\":{\"colorbar\":{\"outlinewidth\":0,\"ticks\":\"\"}},\"type\":\"parcoords\"}],\"pie\":[{\"automargin\":true,\"type\":\"pie\"}],\"scatter3d\":[{\"line\":{\"colorbar\":{\"outlinewidth\":0,\"ticks\":\"\"}},\"marker\":{\"colorbar\":{\"outlinewidth\":0,\"ticks\":\"\"}},\"type\":\"scatter3d\"}],\"scattercarpet\":[{\"marker\":{\"colorbar\":{\"outlinewidth\":0,\"ticks\":\"\"}},\"type\":\"scattercarpet\"}],\"scattergeo\":[{\"marker\":{\"colorbar\":{\"outlinewidth\":0,\"ticks\":\"\"}},\"type\":\"scattergeo\"}],\"scattergl\":[{\"marker\":{\"colorbar\":{\"outlinewidth\":0,\"ticks\":\"\"}},\"type\":\"scattergl\"}],\"scattermapbox\":[{\"marker\":{\"colorbar\":{\"outlinewidth\":0,\"ticks\":\"\"}},\"type\":\"scattermapbox\"}],\"scatterpolargl\":[{\"marker\":{\"colorbar\":{\"outlinewidth\":0,\"ticks\":\"\"}},\"type\":\"scatterpolargl\"}],\"scatterpolar\":[{\"marker\":{\"colorbar\":{\"outlinewidth\":0,\"ticks\":\"\"}},\"type\":\"scatterpolar\"}],\"scatter\":[{\"fillpattern\":{\"fillmode\":\"overlay\",\"size\":10,\"solidity\":0.2},\"type\":\"scatter\"}],\"scatterternary\":[{\"marker\":{\"colorbar\":{\"outlinewidth\":0,\"ticks\":\"\"}},\"type\":\"scatterternary\"}],\"surface\":[{\"colorbar\":{\"outlinewidth\":0,\"ticks\":\"\"},\"colorscale\":[[0.0,\"#0d0887\"],[0.1111111111111111,\"#46039f\"],[0.2222222222222222,\"#7201a8\"],[0.3333333333333333,\"#9c179e\"],[0.4444444444444444,\"#bd3786\"],[0.5555555555555556,\"#d8576b\"],[0.6666666666666666,\"#ed7953\"],[0.7777777777777778,\"#fb9f3a\"],[0.8888888888888888,\"#fdca26\"],[1.0,\"#f0f921\"]],\"type\":\"surface\"}],\"table\":[{\"cells\":{\"fill\":{\"color\":\"#EBF0F8\"},\"line\":{\"color\":\"white\"}},\"header\":{\"fill\":{\"color\":\"#C8D4E3\"},\"line\":{\"color\":\"white\"}},\"type\":\"table\"}]},\"layout\":{\"annotationdefaults\":{\"arrowcolor\":\"#2a3f5f\",\"arrowhead\":0,\"arrowwidth\":1},\"autotypenumbers\":\"strict\",\"coloraxis\":{\"colorbar\":{\"outlinewidth\":0,\"ticks\":\"\"}},\"colorscale\":{\"diverging\":[[0,\"#8e0152\"],[0.1,\"#c51b7d\"],[0.2,\"#de77ae\"],[0.3,\"#f1b6da\"],[0.4,\"#fde0ef\"],[0.5,\"#f7f7f7\"],[0.6,\"#e6f5d0\"],[0.7,\"#b8e186\"],[0.8,\"#7fbc41\"],[0.9,\"#4d9221\"],[1,\"#276419\"]],\"sequential\":[[0.0,\"#0d0887\"],[0.1111111111111111,\"#46039f\"],[0.2222222222222222,\"#7201a8\"],[0.3333333333333333,\"#9c179e\"],[0.4444444444444444,\"#bd3786\"],[0.5555555555555556,\"#d8576b\"],[0.6666666666666666,\"#ed7953\"],[0.7777777777777778,\"#fb9f3a\"],[0.8888888888888888,\"#fdca26\"],[1.0,\"#f0f921\"]],\"sequentialminus\":[[0.0,\"#0d0887\"],[0.1111111111111111,\"#46039f\"],[0.2222222222222222,\"#7201a8\"],[0.3333333333333333,\"#9c179e\"],[0.4444444444444444,\"#bd3786\"],[0.5555555555555556,\"#d8576b\"],[0.6666666666666666,\"#ed7953\"],[0.7777777777777778,\"#fb9f3a\"],[0.8888888888888888,\"#fdca26\"],[1.0,\"#f0f921\"]]},\"colorway\":[\"#636efa\",\"#EF553B\",\"#00cc96\",\"#ab63fa\",\"#FFA15A\",\"#19d3f3\",\"#FF6692\",\"#B6E880\",\"#FF97FF\",\"#FECB52\"],\"font\":{\"color\":\"#2a3f5f\"},\"geo\":{\"bgcolor\":\"white\",\"lakecolor\":\"white\",\"landcolor\":\"#E5ECF6\",\"showlakes\":true,\"showland\":true,\"subunitcolor\":\"white\"},\"hoverlabel\":{\"align\":\"left\"},\"hovermode\":\"closest\",\"mapbox\":{\"style\":\"light\"},\"paper_bgcolor\":\"white\",\"plot_bgcolor\":\"#E5ECF6\",\"polar\":{\"angularaxis\":{\"gridcolor\":\"white\",\"linecolor\":\"white\",\"ticks\":\"\"},\"bgcolor\":\"#E5ECF6\",\"radialaxis\":{\"gridcolor\":\"white\",\"linecolor\":\"white\",\"ticks\":\"\"}},\"scene\":{\"xaxis\":{\"backgroundcolor\":\"#E5ECF6\",\"gridcolor\":\"white\",\"gridwidth\":2,\"linecolor\":\"white\",\"showbackground\":true,\"ticks\":\"\",\"zerolinecolor\":\"white\"},\"yaxis\":{\"backgroundcolor\":\"#E5ECF6\",\"gridcolor\":\"white\",\"gridwidth\":2,\"linecolor\":\"white\",\"showbackground\":true,\"ticks\":\"\",\"zerolinecolor\":\"white\"},\"zaxis\":{\"backgroundcolor\":\"#E5ECF6\",\"gridcolor\":\"white\",\"gridwidth\":2,\"linecolor\":\"white\",\"showbackground\":true,\"ticks\":\"\",\"zerolinecolor\":\"white\"}},\"shapedefaults\":{\"line\":{\"color\":\"#2a3f5f\"}},\"ternary\":{\"aaxis\":{\"gridcolor\":\"white\",\"linecolor\":\"white\",\"ticks\":\"\"},\"baxis\":{\"gridcolor\":\"white\",\"linecolor\":\"white\",\"ticks\":\"\"},\"bgcolor\":\"#E5ECF6\",\"caxis\":{\"gridcolor\":\"white\",\"linecolor\":\"white\",\"ticks\":\"\"}},\"title\":{\"x\":0.05},\"xaxis\":{\"automargin\":true,\"gridcolor\":\"white\",\"linecolor\":\"white\",\"ticks\":\"\",\"title\":{\"standoff\":15},\"zerolinecolor\":\"white\",\"zerolinewidth\":2},\"yaxis\":{\"automargin\":true,\"gridcolor\":\"white\",\"linecolor\":\"white\",\"ticks\":\"\",\"title\":{\"standoff\":15},\"zerolinecolor\":\"white\",\"zerolinewidth\":2}}},\"title\":{\"font\":{\"color\":\"#4D5663\"},\"text\":\"Histogram of Daily Returns\"},\"width\":1000,\"xaxis\":{\"anchor\":\"y\",\"domain\":[0.0,1.0],\"gridcolor\":\"#E1E5ED\",\"showgrid\":true,\"tickfont\":{\"color\":\"#4D5663\"},\"title\":{\"font\":{\"color\":\"#4D5663\"},\"text\":\"\"},\"zerolinecolor\":\"#E1E5ED\"},\"yaxis\":{\"anchor\":\"x\",\"domain\":[0.0,1.0],\"gridcolor\":\"#E1E5ED\",\"showgrid\":true,\"tickfont\":{\"color\":\"#4D5663\"},\"title\":{\"font\":{\"color\":\"#4D5663\"},\"text\":\"\"},\"zerolinecolor\":\"#E1E5ED\"}},                        {\"showLink\": true, \"linkText\": \"Export to plot.ly\", \"plotlyServerURL\": \"https://plot.ly\", \"responsive\": true}                    ).then(function(){\n",
       "                            \n",
       "var gd = document.getElementById('3e0ba1d9-5d63-4436-b860-3f2d54a93d64');\n",
       "var x = new MutationObserver(function (mutations, observer) {{\n",
       "        var display = window.getComputedStyle(gd).display;\n",
       "        if (!display || display === 'none') {{\n",
       "            console.log([gd, 'removed!']);\n",
       "            Plotly.purge(gd);\n",
       "            observer.disconnect();\n",
       "        }}\n",
       "}});\n",
       "\n",
       "// Listen for the removal of the full notebook cells\n",
       "var notebookContainer = gd.closest('#notebook-container');\n",
       "if (notebookContainer) {{\n",
       "    x.observe(notebookContainer, {childList: true});\n",
       "}}\n",
       "\n",
       "// Listen for the clearing of the current output cell\n",
       "var outputEl = gd.closest('.output');\n",
       "if (outputEl) {{\n",
       "    x.observe(outputEl, {childList: true});\n",
       "}}\n",
       "\n",
       "                        })                };                });            </script>        </div>"
      ]
     },
     "metadata": {},
     "output_type": "display_data"
    }
   ],
   "source": [
    "#The histogram of log-return 5-year period\n",
    "df['Log_Return'].iplot(kind='histogram', title = 'Histogram of Daily Returns', subplots=True)"
   ]
  },
  {
   "cell_type": "code",
   "execution_count": 12,
   "id": "ac7f1e33",
   "metadata": {},
   "outputs": [],
   "source": [
    "Train_Accuracy=[]\n",
    "Test_Accuracy=[]\n",
    "Pos=[]\n",
    "Neg=[]\n",
    "\n",
    "for i in np.arange(0, 0.000525, 0.00001):\n",
    "    df_Features['Sign1'] = np.where(df_Features['Log_Return']>i,1,0)\n",
    "    df_Features['Sign1'] = df_Features['Sign1'].shift(-1)\n",
    "    df_Features1=df_Features.dropna()\n",
    "    X = df_Features1.loc[:,['Adj Close', 'O-C', 'H-L', 'Log_Return',  'Pass_Returns_2','Pass_Returns_3', 'Pass_Returns_5', 'Momentum_2', 'Momentum_3','Momentum_5', 'SMA_2', 'SMA_3', 'SMA_5', 'EMA']]\n",
    "    y = df_Features1['Sign1']\n",
    "    # Splitting the datasets into training and testing data.\n",
    "# Always keep shuffle = False for financial time series\n",
    "    X_train, X_test, y_train, y_test = train_test_split(X, y, test_size=0.3, shuffle=False)\n",
    "\n",
    "# Scale and fit the model\n",
    "    model = Pipeline([\n",
    "    (\"scaler\", MinMaxScaler()), \n",
    "    (\"classifier\", SVC())\n",
    "    ]) \n",
    "    model.fit(X_train, y_train)\n",
    "\n",
    "# Predicting the test dataset\n",
    "    y_pred = model.predict(X_test)\n",
    "    acc_train = accuracy_score(y_train, model.predict(X_train))\n",
    "    acc_test = accuracy_score(y_test, y_pred)\n",
    "    Train_Accuracy.append(acc_train)\n",
    "    Test_Accuracy.append(acc_test)\n",
    "    Pos.append(len( df_Features[df_Features['Sign1']==1]))\n",
    "    Neg.append(len( df_Features[df_Features['Sign1']==0]))"
   ]
  },
  {
   "cell_type": "code",
   "execution_count": 13,
   "id": "9ff9ec8e",
   "metadata": {},
   "outputs": [
    {
     "data": {
      "text/html": [
       "<div>\n",
       "<style scoped>\n",
       "    .dataframe tbody tr th:only-of-type {\n",
       "        vertical-align: middle;\n",
       "    }\n",
       "\n",
       "    .dataframe tbody tr th {\n",
       "        vertical-align: top;\n",
       "    }\n",
       "\n",
       "    .dataframe thead th {\n",
       "        text-align: right;\n",
       "    }\n",
       "</style>\n",
       "<table border=\"1\" class=\"dataframe\">\n",
       "  <thead>\n",
       "    <tr style=\"text-align: right;\">\n",
       "      <th></th>\n",
       "      <th>threshold</th>\n",
       "      <th>Train_Accuracy</th>\n",
       "      <th>Test_Accuracy</th>\n",
       "      <th>positive count</th>\n",
       "      <th>negative count</th>\n",
       "    </tr>\n",
       "  </thead>\n",
       "  <tbody>\n",
       "    <tr>\n",
       "      <th>0</th>\n",
       "      <td>0.00000</td>\n",
       "      <td>0.609195</td>\n",
       "      <td>0.475556</td>\n",
       "      <td>395</td>\n",
       "      <td>352</td>\n",
       "    </tr>\n",
       "    <tr>\n",
       "      <th>1</th>\n",
       "      <td>0.00001</td>\n",
       "      <td>0.609195</td>\n",
       "      <td>0.475556</td>\n",
       "      <td>395</td>\n",
       "      <td>352</td>\n",
       "    </tr>\n",
       "    <tr>\n",
       "      <th>2</th>\n",
       "      <td>0.00002</td>\n",
       "      <td>0.609195</td>\n",
       "      <td>0.475556</td>\n",
       "      <td>395</td>\n",
       "      <td>352</td>\n",
       "    </tr>\n",
       "    <tr>\n",
       "      <th>3</th>\n",
       "      <td>0.00003</td>\n",
       "      <td>0.607280</td>\n",
       "      <td>0.475556</td>\n",
       "      <td>394</td>\n",
       "      <td>353</td>\n",
       "    </tr>\n",
       "    <tr>\n",
       "      <th>4</th>\n",
       "      <td>0.00004</td>\n",
       "      <td>0.607280</td>\n",
       "      <td>0.475556</td>\n",
       "      <td>394</td>\n",
       "      <td>353</td>\n",
       "    </tr>\n",
       "    <tr>\n",
       "      <th>5</th>\n",
       "      <td>0.00005</td>\n",
       "      <td>0.607280</td>\n",
       "      <td>0.475556</td>\n",
       "      <td>394</td>\n",
       "      <td>353</td>\n",
       "    </tr>\n",
       "    <tr>\n",
       "      <th>6</th>\n",
       "      <td>0.00006</td>\n",
       "      <td>0.607280</td>\n",
       "      <td>0.475556</td>\n",
       "      <td>394</td>\n",
       "      <td>353</td>\n",
       "    </tr>\n",
       "    <tr>\n",
       "      <th>7</th>\n",
       "      <td>0.00007</td>\n",
       "      <td>0.607280</td>\n",
       "      <td>0.475556</td>\n",
       "      <td>394</td>\n",
       "      <td>353</td>\n",
       "    </tr>\n",
       "    <tr>\n",
       "      <th>8</th>\n",
       "      <td>0.00008</td>\n",
       "      <td>0.607280</td>\n",
       "      <td>0.475556</td>\n",
       "      <td>394</td>\n",
       "      <td>353</td>\n",
       "    </tr>\n",
       "    <tr>\n",
       "      <th>9</th>\n",
       "      <td>0.00009</td>\n",
       "      <td>0.607280</td>\n",
       "      <td>0.475556</td>\n",
       "      <td>394</td>\n",
       "      <td>353</td>\n",
       "    </tr>\n",
       "  </tbody>\n",
       "</table>\n",
       "</div>"
      ],
      "text/plain": [
       "   threshold  Train_Accuracy  Test_Accuracy  positive count  negative count\n",
       "0    0.00000        0.609195       0.475556             395             352\n",
       "1    0.00001        0.609195       0.475556             395             352\n",
       "2    0.00002        0.609195       0.475556             395             352\n",
       "3    0.00003        0.607280       0.475556             394             353\n",
       "4    0.00004        0.607280       0.475556             394             353\n",
       "5    0.00005        0.607280       0.475556             394             353\n",
       "6    0.00006        0.607280       0.475556             394             353\n",
       "7    0.00007        0.607280       0.475556             394             353\n",
       "8    0.00008        0.607280       0.475556             394             353\n",
       "9    0.00009        0.607280       0.475556             394             353"
      ]
     },
     "execution_count": 13,
     "metadata": {},
     "output_type": "execute_result"
    }
   ],
   "source": [
    "Zero_scores = pd.DataFrame({'threshold': np.arange(0, 0.000525, 0.00001),\n",
    "                            'Train_Accuracy': Train_Accuracy, \n",
    "                            'Test_Accuracy': Test_Accuracy,\n",
    "                            'positive count':Pos,\n",
    "                            'negative count':Neg})\n",
    "Zero_scores.head(10)"
   ]
  },
  {
   "cell_type": "code",
   "execution_count": 14,
   "id": "96412395",
   "metadata": {},
   "outputs": [
    {
     "data": {
      "application/vnd.plotly.v1+json": {
       "config": {
        "plotlyServerURL": "https://plot.ly"
       },
       "data": [
        {
         "mode": "lines",
         "name": "positive count",
         "type": "scatter",
         "x": [
          0,
          1e-05,
          2e-05,
          3.0000000000000004e-05,
          4e-05,
          5e-05,
          6.000000000000001e-05,
          7.000000000000001e-05,
          8e-05,
          9e-05,
          0.0001,
          0.00011,
          0.00012000000000000002,
          0.00013000000000000002,
          0.00014000000000000001,
          0.00015000000000000001,
          0.00016,
          0.00017,
          0.00018,
          0.00019,
          0.0002,
          0.00021,
          0.00022,
          0.00023,
          0.00024000000000000003,
          0.00025,
          0.00026000000000000003,
          0.00027,
          0.00028000000000000003,
          0.00029,
          0.00030000000000000003,
          0.00031,
          0.00032,
          0.00033000000000000005,
          0.00034,
          0.00035000000000000005,
          0.00036,
          0.00037000000000000005,
          0.00038,
          0.00039000000000000005,
          0.0004,
          0.00041000000000000005,
          0.00042,
          0.00043000000000000004,
          0.00044,
          0.00045000000000000004,
          0.00046,
          0.00047000000000000004,
          0.00048000000000000007,
          0.0004900000000000001,
          0.0005,
          0.00051,
          0.0005200000000000001
         ],
         "y": [
          395,
          395,
          395,
          394,
          394,
          394,
          394,
          394,
          394,
          394,
          394,
          394,
          394,
          394,
          394,
          394,
          394,
          394,
          394,
          394,
          394,
          394,
          392,
          391,
          391,
          391,
          391,
          389,
          389,
          389,
          389,
          389,
          388,
          387,
          387,
          386,
          386,
          385,
          384,
          383,
          383,
          382,
          381,
          381,
          380,
          380,
          380,
          380,
          380,
          380,
          380,
          379,
          379
         ]
        },
        {
         "mode": "lines+markers",
         "name": "negative count",
         "type": "scatter",
         "x": [
          0,
          1e-05,
          2e-05,
          3.0000000000000004e-05,
          4e-05,
          5e-05,
          6.000000000000001e-05,
          7.000000000000001e-05,
          8e-05,
          9e-05,
          0.0001,
          0.00011,
          0.00012000000000000002,
          0.00013000000000000002,
          0.00014000000000000001,
          0.00015000000000000001,
          0.00016,
          0.00017,
          0.00018,
          0.00019,
          0.0002,
          0.00021,
          0.00022,
          0.00023,
          0.00024000000000000003,
          0.00025,
          0.00026000000000000003,
          0.00027,
          0.00028000000000000003,
          0.00029,
          0.00030000000000000003,
          0.00031,
          0.00032,
          0.00033000000000000005,
          0.00034,
          0.00035000000000000005,
          0.00036,
          0.00037000000000000005,
          0.00038,
          0.00039000000000000005,
          0.0004,
          0.00041000000000000005,
          0.00042,
          0.00043000000000000004,
          0.00044,
          0.00045000000000000004,
          0.00046,
          0.00047000000000000004,
          0.00048000000000000007,
          0.0004900000000000001,
          0.0005,
          0.00051,
          0.0005200000000000001
         ],
         "y": [
          352,
          352,
          352,
          353,
          353,
          353,
          353,
          353,
          353,
          353,
          353,
          353,
          353,
          353,
          353,
          353,
          353,
          353,
          353,
          353,
          353,
          353,
          355,
          356,
          356,
          356,
          356,
          358,
          358,
          358,
          358,
          358,
          359,
          360,
          360,
          361,
          361,
          362,
          363,
          364,
          364,
          365,
          366,
          366,
          367,
          367,
          367,
          367,
          367,
          367,
          367,
          368,
          368
         ]
        }
       ],
       "layout": {
        "template": {
         "data": {
          "bar": [
           {
            "error_x": {
             "color": "#2a3f5f"
            },
            "error_y": {
             "color": "#2a3f5f"
            },
            "marker": {
             "line": {
              "color": "#E5ECF6",
              "width": 0.5
             },
             "pattern": {
              "fillmode": "overlay",
              "size": 10,
              "solidity": 0.2
             }
            },
            "type": "bar"
           }
          ],
          "barpolar": [
           {
            "marker": {
             "line": {
              "color": "#E5ECF6",
              "width": 0.5
             },
             "pattern": {
              "fillmode": "overlay",
              "size": 10,
              "solidity": 0.2
             }
            },
            "type": "barpolar"
           }
          ],
          "carpet": [
           {
            "aaxis": {
             "endlinecolor": "#2a3f5f",
             "gridcolor": "white",
             "linecolor": "white",
             "minorgridcolor": "white",
             "startlinecolor": "#2a3f5f"
            },
            "baxis": {
             "endlinecolor": "#2a3f5f",
             "gridcolor": "white",
             "linecolor": "white",
             "minorgridcolor": "white",
             "startlinecolor": "#2a3f5f"
            },
            "type": "carpet"
           }
          ],
          "choropleth": [
           {
            "colorbar": {
             "outlinewidth": 0,
             "ticks": ""
            },
            "type": "choropleth"
           }
          ],
          "contour": [
           {
            "colorbar": {
             "outlinewidth": 0,
             "ticks": ""
            },
            "colorscale": [
             [
              0,
              "#0d0887"
             ],
             [
              0.1111111111111111,
              "#46039f"
             ],
             [
              0.2222222222222222,
              "#7201a8"
             ],
             [
              0.3333333333333333,
              "#9c179e"
             ],
             [
              0.4444444444444444,
              "#bd3786"
             ],
             [
              0.5555555555555556,
              "#d8576b"
             ],
             [
              0.6666666666666666,
              "#ed7953"
             ],
             [
              0.7777777777777778,
              "#fb9f3a"
             ],
             [
              0.8888888888888888,
              "#fdca26"
             ],
             [
              1,
              "#f0f921"
             ]
            ],
            "type": "contour"
           }
          ],
          "contourcarpet": [
           {
            "colorbar": {
             "outlinewidth": 0,
             "ticks": ""
            },
            "type": "contourcarpet"
           }
          ],
          "heatmap": [
           {
            "colorbar": {
             "outlinewidth": 0,
             "ticks": ""
            },
            "colorscale": [
             [
              0,
              "#0d0887"
             ],
             [
              0.1111111111111111,
              "#46039f"
             ],
             [
              0.2222222222222222,
              "#7201a8"
             ],
             [
              0.3333333333333333,
              "#9c179e"
             ],
             [
              0.4444444444444444,
              "#bd3786"
             ],
             [
              0.5555555555555556,
              "#d8576b"
             ],
             [
              0.6666666666666666,
              "#ed7953"
             ],
             [
              0.7777777777777778,
              "#fb9f3a"
             ],
             [
              0.8888888888888888,
              "#fdca26"
             ],
             [
              1,
              "#f0f921"
             ]
            ],
            "type": "heatmap"
           }
          ],
          "heatmapgl": [
           {
            "colorbar": {
             "outlinewidth": 0,
             "ticks": ""
            },
            "colorscale": [
             [
              0,
              "#0d0887"
             ],
             [
              0.1111111111111111,
              "#46039f"
             ],
             [
              0.2222222222222222,
              "#7201a8"
             ],
             [
              0.3333333333333333,
              "#9c179e"
             ],
             [
              0.4444444444444444,
              "#bd3786"
             ],
             [
              0.5555555555555556,
              "#d8576b"
             ],
             [
              0.6666666666666666,
              "#ed7953"
             ],
             [
              0.7777777777777778,
              "#fb9f3a"
             ],
             [
              0.8888888888888888,
              "#fdca26"
             ],
             [
              1,
              "#f0f921"
             ]
            ],
            "type": "heatmapgl"
           }
          ],
          "histogram": [
           {
            "marker": {
             "pattern": {
              "fillmode": "overlay",
              "size": 10,
              "solidity": 0.2
             }
            },
            "type": "histogram"
           }
          ],
          "histogram2d": [
           {
            "colorbar": {
             "outlinewidth": 0,
             "ticks": ""
            },
            "colorscale": [
             [
              0,
              "#0d0887"
             ],
             [
              0.1111111111111111,
              "#46039f"
             ],
             [
              0.2222222222222222,
              "#7201a8"
             ],
             [
              0.3333333333333333,
              "#9c179e"
             ],
             [
              0.4444444444444444,
              "#bd3786"
             ],
             [
              0.5555555555555556,
              "#d8576b"
             ],
             [
              0.6666666666666666,
              "#ed7953"
             ],
             [
              0.7777777777777778,
              "#fb9f3a"
             ],
             [
              0.8888888888888888,
              "#fdca26"
             ],
             [
              1,
              "#f0f921"
             ]
            ],
            "type": "histogram2d"
           }
          ],
          "histogram2dcontour": [
           {
            "colorbar": {
             "outlinewidth": 0,
             "ticks": ""
            },
            "colorscale": [
             [
              0,
              "#0d0887"
             ],
             [
              0.1111111111111111,
              "#46039f"
             ],
             [
              0.2222222222222222,
              "#7201a8"
             ],
             [
              0.3333333333333333,
              "#9c179e"
             ],
             [
              0.4444444444444444,
              "#bd3786"
             ],
             [
              0.5555555555555556,
              "#d8576b"
             ],
             [
              0.6666666666666666,
              "#ed7953"
             ],
             [
              0.7777777777777778,
              "#fb9f3a"
             ],
             [
              0.8888888888888888,
              "#fdca26"
             ],
             [
              1,
              "#f0f921"
             ]
            ],
            "type": "histogram2dcontour"
           }
          ],
          "mesh3d": [
           {
            "colorbar": {
             "outlinewidth": 0,
             "ticks": ""
            },
            "type": "mesh3d"
           }
          ],
          "parcoords": [
           {
            "line": {
             "colorbar": {
              "outlinewidth": 0,
              "ticks": ""
             }
            },
            "type": "parcoords"
           }
          ],
          "pie": [
           {
            "automargin": true,
            "type": "pie"
           }
          ],
          "scatter": [
           {
            "fillpattern": {
             "fillmode": "overlay",
             "size": 10,
             "solidity": 0.2
            },
            "type": "scatter"
           }
          ],
          "scatter3d": [
           {
            "line": {
             "colorbar": {
              "outlinewidth": 0,
              "ticks": ""
             }
            },
            "marker": {
             "colorbar": {
              "outlinewidth": 0,
              "ticks": ""
             }
            },
            "type": "scatter3d"
           }
          ],
          "scattercarpet": [
           {
            "marker": {
             "colorbar": {
              "outlinewidth": 0,
              "ticks": ""
             }
            },
            "type": "scattercarpet"
           }
          ],
          "scattergeo": [
           {
            "marker": {
             "colorbar": {
              "outlinewidth": 0,
              "ticks": ""
             }
            },
            "type": "scattergeo"
           }
          ],
          "scattergl": [
           {
            "marker": {
             "colorbar": {
              "outlinewidth": 0,
              "ticks": ""
             }
            },
            "type": "scattergl"
           }
          ],
          "scattermapbox": [
           {
            "marker": {
             "colorbar": {
              "outlinewidth": 0,
              "ticks": ""
             }
            },
            "type": "scattermapbox"
           }
          ],
          "scatterpolar": [
           {
            "marker": {
             "colorbar": {
              "outlinewidth": 0,
              "ticks": ""
             }
            },
            "type": "scatterpolar"
           }
          ],
          "scatterpolargl": [
           {
            "marker": {
             "colorbar": {
              "outlinewidth": 0,
              "ticks": ""
             }
            },
            "type": "scatterpolargl"
           }
          ],
          "scatterternary": [
           {
            "marker": {
             "colorbar": {
              "outlinewidth": 0,
              "ticks": ""
             }
            },
            "type": "scatterternary"
           }
          ],
          "surface": [
           {
            "colorbar": {
             "outlinewidth": 0,
             "ticks": ""
            },
            "colorscale": [
             [
              0,
              "#0d0887"
             ],
             [
              0.1111111111111111,
              "#46039f"
             ],
             [
              0.2222222222222222,
              "#7201a8"
             ],
             [
              0.3333333333333333,
              "#9c179e"
             ],
             [
              0.4444444444444444,
              "#bd3786"
             ],
             [
              0.5555555555555556,
              "#d8576b"
             ],
             [
              0.6666666666666666,
              "#ed7953"
             ],
             [
              0.7777777777777778,
              "#fb9f3a"
             ],
             [
              0.8888888888888888,
              "#fdca26"
             ],
             [
              1,
              "#f0f921"
             ]
            ],
            "type": "surface"
           }
          ],
          "table": [
           {
            "cells": {
             "fill": {
              "color": "#EBF0F8"
             },
             "line": {
              "color": "white"
             }
            },
            "header": {
             "fill": {
              "color": "#C8D4E3"
             },
             "line": {
              "color": "white"
             }
            },
            "type": "table"
           }
          ]
         },
         "layout": {
          "annotationdefaults": {
           "arrowcolor": "#2a3f5f",
           "arrowhead": 0,
           "arrowwidth": 1
          },
          "autotypenumbers": "strict",
          "coloraxis": {
           "colorbar": {
            "outlinewidth": 0,
            "ticks": ""
           }
          },
          "colorscale": {
           "diverging": [
            [
             0,
             "#8e0152"
            ],
            [
             0.1,
             "#c51b7d"
            ],
            [
             0.2,
             "#de77ae"
            ],
            [
             0.3,
             "#f1b6da"
            ],
            [
             0.4,
             "#fde0ef"
            ],
            [
             0.5,
             "#f7f7f7"
            ],
            [
             0.6,
             "#e6f5d0"
            ],
            [
             0.7,
             "#b8e186"
            ],
            [
             0.8,
             "#7fbc41"
            ],
            [
             0.9,
             "#4d9221"
            ],
            [
             1,
             "#276419"
            ]
           ],
           "sequential": [
            [
             0,
             "#0d0887"
            ],
            [
             0.1111111111111111,
             "#46039f"
            ],
            [
             0.2222222222222222,
             "#7201a8"
            ],
            [
             0.3333333333333333,
             "#9c179e"
            ],
            [
             0.4444444444444444,
             "#bd3786"
            ],
            [
             0.5555555555555556,
             "#d8576b"
            ],
            [
             0.6666666666666666,
             "#ed7953"
            ],
            [
             0.7777777777777778,
             "#fb9f3a"
            ],
            [
             0.8888888888888888,
             "#fdca26"
            ],
            [
             1,
             "#f0f921"
            ]
           ],
           "sequentialminus": [
            [
             0,
             "#0d0887"
            ],
            [
             0.1111111111111111,
             "#46039f"
            ],
            [
             0.2222222222222222,
             "#7201a8"
            ],
            [
             0.3333333333333333,
             "#9c179e"
            ],
            [
             0.4444444444444444,
             "#bd3786"
            ],
            [
             0.5555555555555556,
             "#d8576b"
            ],
            [
             0.6666666666666666,
             "#ed7953"
            ],
            [
             0.7777777777777778,
             "#fb9f3a"
            ],
            [
             0.8888888888888888,
             "#fdca26"
            ],
            [
             1,
             "#f0f921"
            ]
           ]
          },
          "colorway": [
           "#636efa",
           "#EF553B",
           "#00cc96",
           "#ab63fa",
           "#FFA15A",
           "#19d3f3",
           "#FF6692",
           "#B6E880",
           "#FF97FF",
           "#FECB52"
          ],
          "font": {
           "color": "#2a3f5f"
          },
          "geo": {
           "bgcolor": "white",
           "lakecolor": "white",
           "landcolor": "#E5ECF6",
           "showlakes": true,
           "showland": true,
           "subunitcolor": "white"
          },
          "hoverlabel": {
           "align": "left"
          },
          "hovermode": "closest",
          "mapbox": {
           "style": "light"
          },
          "paper_bgcolor": "white",
          "plot_bgcolor": "#E5ECF6",
          "polar": {
           "angularaxis": {
            "gridcolor": "white",
            "linecolor": "white",
            "ticks": ""
           },
           "bgcolor": "#E5ECF6",
           "radialaxis": {
            "gridcolor": "white",
            "linecolor": "white",
            "ticks": ""
           }
          },
          "scene": {
           "xaxis": {
            "backgroundcolor": "#E5ECF6",
            "gridcolor": "white",
            "gridwidth": 2,
            "linecolor": "white",
            "showbackground": true,
            "ticks": "",
            "zerolinecolor": "white"
           },
           "yaxis": {
            "backgroundcolor": "#E5ECF6",
            "gridcolor": "white",
            "gridwidth": 2,
            "linecolor": "white",
            "showbackground": true,
            "ticks": "",
            "zerolinecolor": "white"
           },
           "zaxis": {
            "backgroundcolor": "#E5ECF6",
            "gridcolor": "white",
            "gridwidth": 2,
            "linecolor": "white",
            "showbackground": true,
            "ticks": "",
            "zerolinecolor": "white"
           }
          },
          "shapedefaults": {
           "line": {
            "color": "#2a3f5f"
           }
          },
          "ternary": {
           "aaxis": {
            "gridcolor": "white",
            "linecolor": "white",
            "ticks": ""
           },
           "baxis": {
            "gridcolor": "white",
            "linecolor": "white",
            "ticks": ""
           },
           "bgcolor": "#E5ECF6",
           "caxis": {
            "gridcolor": "white",
            "linecolor": "white",
            "ticks": ""
           }
          },
          "title": {
           "x": 0.05
          },
          "xaxis": {
           "automargin": true,
           "gridcolor": "white",
           "linecolor": "white",
           "ticks": "",
           "title": {
            "standoff": 15
           },
           "zerolinecolor": "white",
           "zerolinewidth": 2
          },
          "yaxis": {
           "automargin": true,
           "gridcolor": "white",
           "linecolor": "white",
           "ticks": "",
           "title": {
            "standoff": 15
           },
           "zerolinecolor": "white",
           "zerolinewidth": 2
          }
         }
        },
        "title": {
         "text": "Classification Counts"
        },
        "xaxis": {
         "title": {
          "text": "threshold"
         }
        },
        "yaxis": {
         "title": {
          "text": "Values Count"
         }
        }
       }
      },
      "text/html": [
       "<div>                            <div id=\"11b9a852-12b8-4a90-9a1f-7a0ca38a2091\" class=\"plotly-graph-div\" style=\"height:525px; width:100%;\"></div>            <script type=\"text/javascript\">                require([\"plotly\"], function(Plotly) {                    window.PLOTLYENV=window.PLOTLYENV || {};                                    if (document.getElementById(\"11b9a852-12b8-4a90-9a1f-7a0ca38a2091\")) {                    Plotly.newPlot(                        \"11b9a852-12b8-4a90-9a1f-7a0ca38a2091\",                        [{\"mode\":\"lines\",\"name\":\"positive count\",\"x\":[0.0,1e-05,2e-05,3.0000000000000004e-05,4e-05,5e-05,6.000000000000001e-05,7.000000000000001e-05,8e-05,9e-05,0.0001,0.00011,0.00012000000000000002,0.00013000000000000002,0.00014000000000000001,0.00015000000000000001,0.00016,0.00017,0.00018,0.00019,0.0002,0.00021,0.00022,0.00023,0.00024000000000000003,0.00025,0.00026000000000000003,0.00027,0.00028000000000000003,0.00029,0.00030000000000000003,0.00031,0.00032,0.00033000000000000005,0.00034,0.00035000000000000005,0.00036,0.00037000000000000005,0.00038,0.00039000000000000005,0.0004,0.00041000000000000005,0.00042,0.00043000000000000004,0.00044,0.00045000000000000004,0.00046,0.00047000000000000004,0.00048000000000000007,0.0004900000000000001,0.0005,0.00051,0.0005200000000000001],\"y\":[395,395,395,394,394,394,394,394,394,394,394,394,394,394,394,394,394,394,394,394,394,394,392,391,391,391,391,389,389,389,389,389,388,387,387,386,386,385,384,383,383,382,381,381,380,380,380,380,380,380,380,379,379],\"type\":\"scatter\"},{\"mode\":\"lines+markers\",\"name\":\"negative count\",\"x\":[0.0,1e-05,2e-05,3.0000000000000004e-05,4e-05,5e-05,6.000000000000001e-05,7.000000000000001e-05,8e-05,9e-05,0.0001,0.00011,0.00012000000000000002,0.00013000000000000002,0.00014000000000000001,0.00015000000000000001,0.00016,0.00017,0.00018,0.00019,0.0002,0.00021,0.00022,0.00023,0.00024000000000000003,0.00025,0.00026000000000000003,0.00027,0.00028000000000000003,0.00029,0.00030000000000000003,0.00031,0.00032,0.00033000000000000005,0.00034,0.00035000000000000005,0.00036,0.00037000000000000005,0.00038,0.00039000000000000005,0.0004,0.00041000000000000005,0.00042,0.00043000000000000004,0.00044,0.00045000000000000004,0.00046,0.00047000000000000004,0.00048000000000000007,0.0004900000000000001,0.0005,0.00051,0.0005200000000000001],\"y\":[352,352,352,353,353,353,353,353,353,353,353,353,353,353,353,353,353,353,353,353,353,353,355,356,356,356,356,358,358,358,358,358,359,360,360,361,361,362,363,364,364,365,366,366,367,367,367,367,367,367,367,368,368],\"type\":\"scatter\"}],                        {\"xaxis\":{\"title\":{\"text\":\"threshold\"}},\"yaxis\":{\"title\":{\"text\":\"Values Count\"}},\"template\":{\"data\":{\"histogram2dcontour\":[{\"type\":\"histogram2dcontour\",\"colorbar\":{\"outlinewidth\":0,\"ticks\":\"\"},\"colorscale\":[[0.0,\"#0d0887\"],[0.1111111111111111,\"#46039f\"],[0.2222222222222222,\"#7201a8\"],[0.3333333333333333,\"#9c179e\"],[0.4444444444444444,\"#bd3786\"],[0.5555555555555556,\"#d8576b\"],[0.6666666666666666,\"#ed7953\"],[0.7777777777777778,\"#fb9f3a\"],[0.8888888888888888,\"#fdca26\"],[1.0,\"#f0f921\"]]}],\"choropleth\":[{\"type\":\"choropleth\",\"colorbar\":{\"outlinewidth\":0,\"ticks\":\"\"}}],\"histogram2d\":[{\"type\":\"histogram2d\",\"colorbar\":{\"outlinewidth\":0,\"ticks\":\"\"},\"colorscale\":[[0.0,\"#0d0887\"],[0.1111111111111111,\"#46039f\"],[0.2222222222222222,\"#7201a8\"],[0.3333333333333333,\"#9c179e\"],[0.4444444444444444,\"#bd3786\"],[0.5555555555555556,\"#d8576b\"],[0.6666666666666666,\"#ed7953\"],[0.7777777777777778,\"#fb9f3a\"],[0.8888888888888888,\"#fdca26\"],[1.0,\"#f0f921\"]]}],\"heatmap\":[{\"type\":\"heatmap\",\"colorbar\":{\"outlinewidth\":0,\"ticks\":\"\"},\"colorscale\":[[0.0,\"#0d0887\"],[0.1111111111111111,\"#46039f\"],[0.2222222222222222,\"#7201a8\"],[0.3333333333333333,\"#9c179e\"],[0.4444444444444444,\"#bd3786\"],[0.5555555555555556,\"#d8576b\"],[0.6666666666666666,\"#ed7953\"],[0.7777777777777778,\"#fb9f3a\"],[0.8888888888888888,\"#fdca26\"],[1.0,\"#f0f921\"]]}],\"heatmapgl\":[{\"type\":\"heatmapgl\",\"colorbar\":{\"outlinewidth\":0,\"ticks\":\"\"},\"colorscale\":[[0.0,\"#0d0887\"],[0.1111111111111111,\"#46039f\"],[0.2222222222222222,\"#7201a8\"],[0.3333333333333333,\"#9c179e\"],[0.4444444444444444,\"#bd3786\"],[0.5555555555555556,\"#d8576b\"],[0.6666666666666666,\"#ed7953\"],[0.7777777777777778,\"#fb9f3a\"],[0.8888888888888888,\"#fdca26\"],[1.0,\"#f0f921\"]]}],\"contourcarpet\":[{\"type\":\"contourcarpet\",\"colorbar\":{\"outlinewidth\":0,\"ticks\":\"\"}}],\"contour\":[{\"type\":\"contour\",\"colorbar\":{\"outlinewidth\":0,\"ticks\":\"\"},\"colorscale\":[[0.0,\"#0d0887\"],[0.1111111111111111,\"#46039f\"],[0.2222222222222222,\"#7201a8\"],[0.3333333333333333,\"#9c179e\"],[0.4444444444444444,\"#bd3786\"],[0.5555555555555556,\"#d8576b\"],[0.6666666666666666,\"#ed7953\"],[0.7777777777777778,\"#fb9f3a\"],[0.8888888888888888,\"#fdca26\"],[1.0,\"#f0f921\"]]}],\"surface\":[{\"type\":\"surface\",\"colorbar\":{\"outlinewidth\":0,\"ticks\":\"\"},\"colorscale\":[[0.0,\"#0d0887\"],[0.1111111111111111,\"#46039f\"],[0.2222222222222222,\"#7201a8\"],[0.3333333333333333,\"#9c179e\"],[0.4444444444444444,\"#bd3786\"],[0.5555555555555556,\"#d8576b\"],[0.6666666666666666,\"#ed7953\"],[0.7777777777777778,\"#fb9f3a\"],[0.8888888888888888,\"#fdca26\"],[1.0,\"#f0f921\"]]}],\"mesh3d\":[{\"type\":\"mesh3d\",\"colorbar\":{\"outlinewidth\":0,\"ticks\":\"\"}}],\"scatter\":[{\"fillpattern\":{\"fillmode\":\"overlay\",\"size\":10,\"solidity\":0.2},\"type\":\"scatter\"}],\"parcoords\":[{\"type\":\"parcoords\",\"line\":{\"colorbar\":{\"outlinewidth\":0,\"ticks\":\"\"}}}],\"scatterpolargl\":[{\"type\":\"scatterpolargl\",\"marker\":{\"colorbar\":{\"outlinewidth\":0,\"ticks\":\"\"}}}],\"bar\":[{\"error_x\":{\"color\":\"#2a3f5f\"},\"error_y\":{\"color\":\"#2a3f5f\"},\"marker\":{\"line\":{\"color\":\"#E5ECF6\",\"width\":0.5},\"pattern\":{\"fillmode\":\"overlay\",\"size\":10,\"solidity\":0.2}},\"type\":\"bar\"}],\"scattergeo\":[{\"type\":\"scattergeo\",\"marker\":{\"colorbar\":{\"outlinewidth\":0,\"ticks\":\"\"}}}],\"scatterpolar\":[{\"type\":\"scatterpolar\",\"marker\":{\"colorbar\":{\"outlinewidth\":0,\"ticks\":\"\"}}}],\"histogram\":[{\"marker\":{\"pattern\":{\"fillmode\":\"overlay\",\"size\":10,\"solidity\":0.2}},\"type\":\"histogram\"}],\"scattergl\":[{\"type\":\"scattergl\",\"marker\":{\"colorbar\":{\"outlinewidth\":0,\"ticks\":\"\"}}}],\"scatter3d\":[{\"type\":\"scatter3d\",\"line\":{\"colorbar\":{\"outlinewidth\":0,\"ticks\":\"\"}},\"marker\":{\"colorbar\":{\"outlinewidth\":0,\"ticks\":\"\"}}}],\"scattermapbox\":[{\"type\":\"scattermapbox\",\"marker\":{\"colorbar\":{\"outlinewidth\":0,\"ticks\":\"\"}}}],\"scatterternary\":[{\"type\":\"scatterternary\",\"marker\":{\"colorbar\":{\"outlinewidth\":0,\"ticks\":\"\"}}}],\"scattercarpet\":[{\"type\":\"scattercarpet\",\"marker\":{\"colorbar\":{\"outlinewidth\":0,\"ticks\":\"\"}}}],\"carpet\":[{\"aaxis\":{\"endlinecolor\":\"#2a3f5f\",\"gridcolor\":\"white\",\"linecolor\":\"white\",\"minorgridcolor\":\"white\",\"startlinecolor\":\"#2a3f5f\"},\"baxis\":{\"endlinecolor\":\"#2a3f5f\",\"gridcolor\":\"white\",\"linecolor\":\"white\",\"minorgridcolor\":\"white\",\"startlinecolor\":\"#2a3f5f\"},\"type\":\"carpet\"}],\"table\":[{\"cells\":{\"fill\":{\"color\":\"#EBF0F8\"},\"line\":{\"color\":\"white\"}},\"header\":{\"fill\":{\"color\":\"#C8D4E3\"},\"line\":{\"color\":\"white\"}},\"type\":\"table\"}],\"barpolar\":[{\"marker\":{\"line\":{\"color\":\"#E5ECF6\",\"width\":0.5},\"pattern\":{\"fillmode\":\"overlay\",\"size\":10,\"solidity\":0.2}},\"type\":\"barpolar\"}],\"pie\":[{\"automargin\":true,\"type\":\"pie\"}]},\"layout\":{\"autotypenumbers\":\"strict\",\"colorway\":[\"#636efa\",\"#EF553B\",\"#00cc96\",\"#ab63fa\",\"#FFA15A\",\"#19d3f3\",\"#FF6692\",\"#B6E880\",\"#FF97FF\",\"#FECB52\"],\"font\":{\"color\":\"#2a3f5f\"},\"hovermode\":\"closest\",\"hoverlabel\":{\"align\":\"left\"},\"paper_bgcolor\":\"white\",\"plot_bgcolor\":\"#E5ECF6\",\"polar\":{\"bgcolor\":\"#E5ECF6\",\"angularaxis\":{\"gridcolor\":\"white\",\"linecolor\":\"white\",\"ticks\":\"\"},\"radialaxis\":{\"gridcolor\":\"white\",\"linecolor\":\"white\",\"ticks\":\"\"}},\"ternary\":{\"bgcolor\":\"#E5ECF6\",\"aaxis\":{\"gridcolor\":\"white\",\"linecolor\":\"white\",\"ticks\":\"\"},\"baxis\":{\"gridcolor\":\"white\",\"linecolor\":\"white\",\"ticks\":\"\"},\"caxis\":{\"gridcolor\":\"white\",\"linecolor\":\"white\",\"ticks\":\"\"}},\"coloraxis\":{\"colorbar\":{\"outlinewidth\":0,\"ticks\":\"\"}},\"colorscale\":{\"sequential\":[[0.0,\"#0d0887\"],[0.1111111111111111,\"#46039f\"],[0.2222222222222222,\"#7201a8\"],[0.3333333333333333,\"#9c179e\"],[0.4444444444444444,\"#bd3786\"],[0.5555555555555556,\"#d8576b\"],[0.6666666666666666,\"#ed7953\"],[0.7777777777777778,\"#fb9f3a\"],[0.8888888888888888,\"#fdca26\"],[1.0,\"#f0f921\"]],\"sequentialminus\":[[0.0,\"#0d0887\"],[0.1111111111111111,\"#46039f\"],[0.2222222222222222,\"#7201a8\"],[0.3333333333333333,\"#9c179e\"],[0.4444444444444444,\"#bd3786\"],[0.5555555555555556,\"#d8576b\"],[0.6666666666666666,\"#ed7953\"],[0.7777777777777778,\"#fb9f3a\"],[0.8888888888888888,\"#fdca26\"],[1.0,\"#f0f921\"]],\"diverging\":[[0,\"#8e0152\"],[0.1,\"#c51b7d\"],[0.2,\"#de77ae\"],[0.3,\"#f1b6da\"],[0.4,\"#fde0ef\"],[0.5,\"#f7f7f7\"],[0.6,\"#e6f5d0\"],[0.7,\"#b8e186\"],[0.8,\"#7fbc41\"],[0.9,\"#4d9221\"],[1,\"#276419\"]]},\"xaxis\":{\"gridcolor\":\"white\",\"linecolor\":\"white\",\"ticks\":\"\",\"title\":{\"standoff\":15},\"zerolinecolor\":\"white\",\"automargin\":true,\"zerolinewidth\":2},\"yaxis\":{\"gridcolor\":\"white\",\"linecolor\":\"white\",\"ticks\":\"\",\"title\":{\"standoff\":15},\"zerolinecolor\":\"white\",\"automargin\":true,\"zerolinewidth\":2},\"scene\":{\"xaxis\":{\"backgroundcolor\":\"#E5ECF6\",\"gridcolor\":\"white\",\"linecolor\":\"white\",\"showbackground\":true,\"ticks\":\"\",\"zerolinecolor\":\"white\",\"gridwidth\":2},\"yaxis\":{\"backgroundcolor\":\"#E5ECF6\",\"gridcolor\":\"white\",\"linecolor\":\"white\",\"showbackground\":true,\"ticks\":\"\",\"zerolinecolor\":\"white\",\"gridwidth\":2},\"zaxis\":{\"backgroundcolor\":\"#E5ECF6\",\"gridcolor\":\"white\",\"linecolor\":\"white\",\"showbackground\":true,\"ticks\":\"\",\"zerolinecolor\":\"white\",\"gridwidth\":2}},\"shapedefaults\":{\"line\":{\"color\":\"#2a3f5f\"}},\"annotationdefaults\":{\"arrowcolor\":\"#2a3f5f\",\"arrowhead\":0,\"arrowwidth\":1},\"geo\":{\"bgcolor\":\"white\",\"landcolor\":\"#E5ECF6\",\"subunitcolor\":\"white\",\"showland\":true,\"showlakes\":true,\"lakecolor\":\"white\"},\"title\":{\"x\":0.05},\"mapbox\":{\"style\":\"light\"}}},\"title\":{\"text\":\"Classification Counts\"}},                        {\"responsive\": true}                    ).then(function(){\n",
       "                            \n",
       "var gd = document.getElementById('11b9a852-12b8-4a90-9a1f-7a0ca38a2091');\n",
       "var x = new MutationObserver(function (mutations, observer) {{\n",
       "        var display = window.getComputedStyle(gd).display;\n",
       "        if (!display || display === 'none') {{\n",
       "            console.log([gd, 'removed!']);\n",
       "            Plotly.purge(gd);\n",
       "            observer.disconnect();\n",
       "        }}\n",
       "}});\n",
       "\n",
       "// Listen for the removal of the full notebook cells\n",
       "var notebookContainer = gd.closest('#notebook-container');\n",
       "if (notebookContainer) {{\n",
       "    x.observe(notebookContainer, {childList: true});\n",
       "}}\n",
       "\n",
       "// Listen for the clearing of the current output cell\n",
       "var outputEl = gd.closest('.output');\n",
       "if (outputEl) {{\n",
       "    x.observe(outputEl, {childList: true});\n",
       "}}\n",
       "\n",
       "                        })                };                });            </script>        </div>"
      ]
     },
     "metadata": {},
     "output_type": "display_data"
    }
   ],
   "source": [
    "x=np.arange(0, 0.000525, 0.00001)\n",
    "y1=Zero_scores['positive count']\n",
    "y2=Zero_scores['negative count']\n",
    "fig = go.Figure(layout={\"xaxis_title\": \"threshold\", \"yaxis_title\": \"Values Count\"})\n",
    "\n",
    "fig.add_trace(go.Scatter(x=x, y=y1,\n",
    "                    mode='lines',\n",
    "                    name='positive count'))\n",
    "fig.add_trace(go.Scatter(x=x, y=y2,\n",
    "                    mode='lines+markers',\n",
    "                    name='negative count'))\n",
    "\n",
    "fig.update_layout(title='Classification Counts')\n",
    "\n",
    "fig.show()"
   ]
  },
  {
   "cell_type": "code",
   "execution_count": 15,
   "id": "c1b904b6",
   "metadata": {},
   "outputs": [
    {
     "data": {
      "application/vnd.plotly.v1+json": {
       "config": {
        "plotlyServerURL": "https://plot.ly"
       },
       "data": [
        {
         "mode": "lines",
         "name": "Train_Accuracy",
         "type": "scatter",
         "x": [
          0,
          1e-05,
          2e-05,
          3.0000000000000004e-05,
          4e-05,
          5e-05,
          6.000000000000001e-05,
          7.000000000000001e-05,
          8e-05,
          9e-05,
          0.0001,
          0.00011,
          0.00012000000000000002,
          0.00013000000000000002,
          0.00014000000000000001,
          0.00015000000000000001,
          0.00016,
          0.00017,
          0.00018,
          0.00019,
          0.0002,
          0.00021,
          0.00022,
          0.00023,
          0.00024000000000000003,
          0.00025,
          0.00026000000000000003,
          0.00027,
          0.00028000000000000003,
          0.00029,
          0.00030000000000000003,
          0.00031,
          0.00032,
          0.00033000000000000005,
          0.00034,
          0.00035000000000000005,
          0.00036,
          0.00037000000000000005,
          0.00038,
          0.00039000000000000005
         ],
         "y": [
          0.6091954022988506,
          0.6091954022988506,
          0.6091954022988506,
          0.60727969348659,
          0.60727969348659,
          0.60727969348659,
          0.60727969348659,
          0.60727969348659,
          0.60727969348659,
          0.60727969348659,
          0.60727969348659,
          0.60727969348659,
          0.60727969348659,
          0.60727969348659,
          0.60727969348659,
          0.60727969348659,
          0.60727969348659,
          0.60727969348659,
          0.60727969348659,
          0.60727969348659,
          0.60727969348659,
          0.60727969348659,
          0.6015325670498084,
          0.5996168582375478,
          0.5996168582375478,
          0.5996168582375478,
          0.5996168582375478,
          0.5996168582375478,
          0.5996168582375478,
          0.5996168582375478,
          0.5996168582375478,
          0.5996168582375478,
          0.5977011494252874,
          0.5996168582375478,
          0.5996168582375478,
          0.5938697318007663,
          0.5938697318007663,
          0.5919540229885057,
          0.5919540229885057,
          0.5900383141762452,
          0.5900383141762452,
          0.5957854406130269,
          0.5977011494252874,
          0.5977011494252874,
          0.5996168582375478,
          0.5996168582375478,
          0.5996168582375478,
          0.5996168582375478,
          0.5996168582375478,
          0.5996168582375478,
          0.5996168582375478,
          0.5938697318007663,
          0.5938697318007663
         ]
        },
        {
         "mode": "lines+markers",
         "name": "Test_Accuracy",
         "type": "scatter",
         "x": [
          0,
          1e-05,
          2e-05,
          3.0000000000000004e-05,
          4e-05,
          5e-05,
          6.000000000000001e-05,
          7.000000000000001e-05,
          8e-05,
          9e-05,
          0.0001,
          0.00011,
          0.00012000000000000002,
          0.00013000000000000002,
          0.00014000000000000001,
          0.00015000000000000001,
          0.00016,
          0.00017,
          0.00018,
          0.00019,
          0.0002,
          0.00021,
          0.00022,
          0.00023,
          0.00024000000000000003,
          0.00025,
          0.00026000000000000003,
          0.00027,
          0.00028000000000000003,
          0.00029,
          0.00030000000000000003,
          0.00031,
          0.00032,
          0.00033000000000000005,
          0.00034,
          0.00035000000000000005,
          0.00036,
          0.00037000000000000005,
          0.00038,
          0.00039000000000000005
         ],
         "y": [
          0.47555555555555556,
          0.47555555555555556,
          0.47555555555555556,
          0.47555555555555556,
          0.47555555555555556,
          0.47555555555555556,
          0.47555555555555556,
          0.47555555555555556,
          0.47555555555555556,
          0.47555555555555556,
          0.47555555555555556,
          0.47555555555555556,
          0.47555555555555556,
          0.47555555555555556,
          0.47555555555555556,
          0.47555555555555556,
          0.47555555555555556,
          0.47555555555555556,
          0.47555555555555556,
          0.47555555555555556,
          0.47555555555555556,
          0.47555555555555556,
          0.47555555555555556,
          0.47555555555555556,
          0.47555555555555556,
          0.47555555555555556,
          0.47555555555555556,
          0.47555555555555556,
          0.47555555555555556,
          0.47555555555555556,
          0.47555555555555556,
          0.47555555555555556,
          0.47555555555555556,
          0.4711111111111111,
          0.4711111111111111,
          0.47555555555555556,
          0.47555555555555556,
          0.48,
          0.47555555555555556,
          0.4711111111111111,
          0.4711111111111111,
          0.4711111111111111,
          0.47555555555555556,
          0.47555555555555556,
          0.47555555555555556,
          0.47555555555555556,
          0.47555555555555556,
          0.47555555555555556,
          0.47555555555555556,
          0.47555555555555556,
          0.47555555555555556,
          0.47555555555555556,
          0.47555555555555556
         ]
        }
       ],
       "layout": {
        "template": {
         "data": {
          "bar": [
           {
            "error_x": {
             "color": "#2a3f5f"
            },
            "error_y": {
             "color": "#2a3f5f"
            },
            "marker": {
             "line": {
              "color": "#E5ECF6",
              "width": 0.5
             },
             "pattern": {
              "fillmode": "overlay",
              "size": 10,
              "solidity": 0.2
             }
            },
            "type": "bar"
           }
          ],
          "barpolar": [
           {
            "marker": {
             "line": {
              "color": "#E5ECF6",
              "width": 0.5
             },
             "pattern": {
              "fillmode": "overlay",
              "size": 10,
              "solidity": 0.2
             }
            },
            "type": "barpolar"
           }
          ],
          "carpet": [
           {
            "aaxis": {
             "endlinecolor": "#2a3f5f",
             "gridcolor": "white",
             "linecolor": "white",
             "minorgridcolor": "white",
             "startlinecolor": "#2a3f5f"
            },
            "baxis": {
             "endlinecolor": "#2a3f5f",
             "gridcolor": "white",
             "linecolor": "white",
             "minorgridcolor": "white",
             "startlinecolor": "#2a3f5f"
            },
            "type": "carpet"
           }
          ],
          "choropleth": [
           {
            "colorbar": {
             "outlinewidth": 0,
             "ticks": ""
            },
            "type": "choropleth"
           }
          ],
          "contour": [
           {
            "colorbar": {
             "outlinewidth": 0,
             "ticks": ""
            },
            "colorscale": [
             [
              0,
              "#0d0887"
             ],
             [
              0.1111111111111111,
              "#46039f"
             ],
             [
              0.2222222222222222,
              "#7201a8"
             ],
             [
              0.3333333333333333,
              "#9c179e"
             ],
             [
              0.4444444444444444,
              "#bd3786"
             ],
             [
              0.5555555555555556,
              "#d8576b"
             ],
             [
              0.6666666666666666,
              "#ed7953"
             ],
             [
              0.7777777777777778,
              "#fb9f3a"
             ],
             [
              0.8888888888888888,
              "#fdca26"
             ],
             [
              1,
              "#f0f921"
             ]
            ],
            "type": "contour"
           }
          ],
          "contourcarpet": [
           {
            "colorbar": {
             "outlinewidth": 0,
             "ticks": ""
            },
            "type": "contourcarpet"
           }
          ],
          "heatmap": [
           {
            "colorbar": {
             "outlinewidth": 0,
             "ticks": ""
            },
            "colorscale": [
             [
              0,
              "#0d0887"
             ],
             [
              0.1111111111111111,
              "#46039f"
             ],
             [
              0.2222222222222222,
              "#7201a8"
             ],
             [
              0.3333333333333333,
              "#9c179e"
             ],
             [
              0.4444444444444444,
              "#bd3786"
             ],
             [
              0.5555555555555556,
              "#d8576b"
             ],
             [
              0.6666666666666666,
              "#ed7953"
             ],
             [
              0.7777777777777778,
              "#fb9f3a"
             ],
             [
              0.8888888888888888,
              "#fdca26"
             ],
             [
              1,
              "#f0f921"
             ]
            ],
            "type": "heatmap"
           }
          ],
          "heatmapgl": [
           {
            "colorbar": {
             "outlinewidth": 0,
             "ticks": ""
            },
            "colorscale": [
             [
              0,
              "#0d0887"
             ],
             [
              0.1111111111111111,
              "#46039f"
             ],
             [
              0.2222222222222222,
              "#7201a8"
             ],
             [
              0.3333333333333333,
              "#9c179e"
             ],
             [
              0.4444444444444444,
              "#bd3786"
             ],
             [
              0.5555555555555556,
              "#d8576b"
             ],
             [
              0.6666666666666666,
              "#ed7953"
             ],
             [
              0.7777777777777778,
              "#fb9f3a"
             ],
             [
              0.8888888888888888,
              "#fdca26"
             ],
             [
              1,
              "#f0f921"
             ]
            ],
            "type": "heatmapgl"
           }
          ],
          "histogram": [
           {
            "marker": {
             "pattern": {
              "fillmode": "overlay",
              "size": 10,
              "solidity": 0.2
             }
            },
            "type": "histogram"
           }
          ],
          "histogram2d": [
           {
            "colorbar": {
             "outlinewidth": 0,
             "ticks": ""
            },
            "colorscale": [
             [
              0,
              "#0d0887"
             ],
             [
              0.1111111111111111,
              "#46039f"
             ],
             [
              0.2222222222222222,
              "#7201a8"
             ],
             [
              0.3333333333333333,
              "#9c179e"
             ],
             [
              0.4444444444444444,
              "#bd3786"
             ],
             [
              0.5555555555555556,
              "#d8576b"
             ],
             [
              0.6666666666666666,
              "#ed7953"
             ],
             [
              0.7777777777777778,
              "#fb9f3a"
             ],
             [
              0.8888888888888888,
              "#fdca26"
             ],
             [
              1,
              "#f0f921"
             ]
            ],
            "type": "histogram2d"
           }
          ],
          "histogram2dcontour": [
           {
            "colorbar": {
             "outlinewidth": 0,
             "ticks": ""
            },
            "colorscale": [
             [
              0,
              "#0d0887"
             ],
             [
              0.1111111111111111,
              "#46039f"
             ],
             [
              0.2222222222222222,
              "#7201a8"
             ],
             [
              0.3333333333333333,
              "#9c179e"
             ],
             [
              0.4444444444444444,
              "#bd3786"
             ],
             [
              0.5555555555555556,
              "#d8576b"
             ],
             [
              0.6666666666666666,
              "#ed7953"
             ],
             [
              0.7777777777777778,
              "#fb9f3a"
             ],
             [
              0.8888888888888888,
              "#fdca26"
             ],
             [
              1,
              "#f0f921"
             ]
            ],
            "type": "histogram2dcontour"
           }
          ],
          "mesh3d": [
           {
            "colorbar": {
             "outlinewidth": 0,
             "ticks": ""
            },
            "type": "mesh3d"
           }
          ],
          "parcoords": [
           {
            "line": {
             "colorbar": {
              "outlinewidth": 0,
              "ticks": ""
             }
            },
            "type": "parcoords"
           }
          ],
          "pie": [
           {
            "automargin": true,
            "type": "pie"
           }
          ],
          "scatter": [
           {
            "fillpattern": {
             "fillmode": "overlay",
             "size": 10,
             "solidity": 0.2
            },
            "type": "scatter"
           }
          ],
          "scatter3d": [
           {
            "line": {
             "colorbar": {
              "outlinewidth": 0,
              "ticks": ""
             }
            },
            "marker": {
             "colorbar": {
              "outlinewidth": 0,
              "ticks": ""
             }
            },
            "type": "scatter3d"
           }
          ],
          "scattercarpet": [
           {
            "marker": {
             "colorbar": {
              "outlinewidth": 0,
              "ticks": ""
             }
            },
            "type": "scattercarpet"
           }
          ],
          "scattergeo": [
           {
            "marker": {
             "colorbar": {
              "outlinewidth": 0,
              "ticks": ""
             }
            },
            "type": "scattergeo"
           }
          ],
          "scattergl": [
           {
            "marker": {
             "colorbar": {
              "outlinewidth": 0,
              "ticks": ""
             }
            },
            "type": "scattergl"
           }
          ],
          "scattermapbox": [
           {
            "marker": {
             "colorbar": {
              "outlinewidth": 0,
              "ticks": ""
             }
            },
            "type": "scattermapbox"
           }
          ],
          "scatterpolar": [
           {
            "marker": {
             "colorbar": {
              "outlinewidth": 0,
              "ticks": ""
             }
            },
            "type": "scatterpolar"
           }
          ],
          "scatterpolargl": [
           {
            "marker": {
             "colorbar": {
              "outlinewidth": 0,
              "ticks": ""
             }
            },
            "type": "scatterpolargl"
           }
          ],
          "scatterternary": [
           {
            "marker": {
             "colorbar": {
              "outlinewidth": 0,
              "ticks": ""
             }
            },
            "type": "scatterternary"
           }
          ],
          "surface": [
           {
            "colorbar": {
             "outlinewidth": 0,
             "ticks": ""
            },
            "colorscale": [
             [
              0,
              "#0d0887"
             ],
             [
              0.1111111111111111,
              "#46039f"
             ],
             [
              0.2222222222222222,
              "#7201a8"
             ],
             [
              0.3333333333333333,
              "#9c179e"
             ],
             [
              0.4444444444444444,
              "#bd3786"
             ],
             [
              0.5555555555555556,
              "#d8576b"
             ],
             [
              0.6666666666666666,
              "#ed7953"
             ],
             [
              0.7777777777777778,
              "#fb9f3a"
             ],
             [
              0.8888888888888888,
              "#fdca26"
             ],
             [
              1,
              "#f0f921"
             ]
            ],
            "type": "surface"
           }
          ],
          "table": [
           {
            "cells": {
             "fill": {
              "color": "#EBF0F8"
             },
             "line": {
              "color": "white"
             }
            },
            "header": {
             "fill": {
              "color": "#C8D4E3"
             },
             "line": {
              "color": "white"
             }
            },
            "type": "table"
           }
          ]
         },
         "layout": {
          "annotationdefaults": {
           "arrowcolor": "#2a3f5f",
           "arrowhead": 0,
           "arrowwidth": 1
          },
          "autotypenumbers": "strict",
          "coloraxis": {
           "colorbar": {
            "outlinewidth": 0,
            "ticks": ""
           }
          },
          "colorscale": {
           "diverging": [
            [
             0,
             "#8e0152"
            ],
            [
             0.1,
             "#c51b7d"
            ],
            [
             0.2,
             "#de77ae"
            ],
            [
             0.3,
             "#f1b6da"
            ],
            [
             0.4,
             "#fde0ef"
            ],
            [
             0.5,
             "#f7f7f7"
            ],
            [
             0.6,
             "#e6f5d0"
            ],
            [
             0.7,
             "#b8e186"
            ],
            [
             0.8,
             "#7fbc41"
            ],
            [
             0.9,
             "#4d9221"
            ],
            [
             1,
             "#276419"
            ]
           ],
           "sequential": [
            [
             0,
             "#0d0887"
            ],
            [
             0.1111111111111111,
             "#46039f"
            ],
            [
             0.2222222222222222,
             "#7201a8"
            ],
            [
             0.3333333333333333,
             "#9c179e"
            ],
            [
             0.4444444444444444,
             "#bd3786"
            ],
            [
             0.5555555555555556,
             "#d8576b"
            ],
            [
             0.6666666666666666,
             "#ed7953"
            ],
            [
             0.7777777777777778,
             "#fb9f3a"
            ],
            [
             0.8888888888888888,
             "#fdca26"
            ],
            [
             1,
             "#f0f921"
            ]
           ],
           "sequentialminus": [
            [
             0,
             "#0d0887"
            ],
            [
             0.1111111111111111,
             "#46039f"
            ],
            [
             0.2222222222222222,
             "#7201a8"
            ],
            [
             0.3333333333333333,
             "#9c179e"
            ],
            [
             0.4444444444444444,
             "#bd3786"
            ],
            [
             0.5555555555555556,
             "#d8576b"
            ],
            [
             0.6666666666666666,
             "#ed7953"
            ],
            [
             0.7777777777777778,
             "#fb9f3a"
            ],
            [
             0.8888888888888888,
             "#fdca26"
            ],
            [
             1,
             "#f0f921"
            ]
           ]
          },
          "colorway": [
           "#636efa",
           "#EF553B",
           "#00cc96",
           "#ab63fa",
           "#FFA15A",
           "#19d3f3",
           "#FF6692",
           "#B6E880",
           "#FF97FF",
           "#FECB52"
          ],
          "font": {
           "color": "#2a3f5f"
          },
          "geo": {
           "bgcolor": "white",
           "lakecolor": "white",
           "landcolor": "#E5ECF6",
           "showlakes": true,
           "showland": true,
           "subunitcolor": "white"
          },
          "hoverlabel": {
           "align": "left"
          },
          "hovermode": "closest",
          "mapbox": {
           "style": "light"
          },
          "paper_bgcolor": "white",
          "plot_bgcolor": "#E5ECF6",
          "polar": {
           "angularaxis": {
            "gridcolor": "white",
            "linecolor": "white",
            "ticks": ""
           },
           "bgcolor": "#E5ECF6",
           "radialaxis": {
            "gridcolor": "white",
            "linecolor": "white",
            "ticks": ""
           }
          },
          "scene": {
           "xaxis": {
            "backgroundcolor": "#E5ECF6",
            "gridcolor": "white",
            "gridwidth": 2,
            "linecolor": "white",
            "showbackground": true,
            "ticks": "",
            "zerolinecolor": "white"
           },
           "yaxis": {
            "backgroundcolor": "#E5ECF6",
            "gridcolor": "white",
            "gridwidth": 2,
            "linecolor": "white",
            "showbackground": true,
            "ticks": "",
            "zerolinecolor": "white"
           },
           "zaxis": {
            "backgroundcolor": "#E5ECF6",
            "gridcolor": "white",
            "gridwidth": 2,
            "linecolor": "white",
            "showbackground": true,
            "ticks": "",
            "zerolinecolor": "white"
           }
          },
          "shapedefaults": {
           "line": {
            "color": "#2a3f5f"
           }
          },
          "ternary": {
           "aaxis": {
            "gridcolor": "white",
            "linecolor": "white",
            "ticks": ""
           },
           "baxis": {
            "gridcolor": "white",
            "linecolor": "white",
            "ticks": ""
           },
           "bgcolor": "#E5ECF6",
           "caxis": {
            "gridcolor": "white",
            "linecolor": "white",
            "ticks": ""
           }
          },
          "title": {
           "x": 0.05
          },
          "xaxis": {
           "automargin": true,
           "gridcolor": "white",
           "linecolor": "white",
           "ticks": "",
           "title": {
            "standoff": 15
           },
           "zerolinecolor": "white",
           "zerolinewidth": 2
          },
          "yaxis": {
           "automargin": true,
           "gridcolor": "white",
           "linecolor": "white",
           "ticks": "",
           "title": {
            "standoff": 15
           },
           "zerolinecolor": "white",
           "zerolinewidth": 2
          }
         }
        },
        "title": {
         "text": "Classification Accuracy"
        },
        "xaxis": {
         "title": {
          "text": "threshold"
         }
        },
        "yaxis": {
         "title": {
          "text": "Accuracy"
         }
        }
       }
      },
      "text/html": [
       "<div>                            <div id=\"4a6df246-4a22-457b-b706-9c302cfc1a31\" class=\"plotly-graph-div\" style=\"height:525px; width:100%;\"></div>            <script type=\"text/javascript\">                require([\"plotly\"], function(Plotly) {                    window.PLOTLYENV=window.PLOTLYENV || {};                                    if (document.getElementById(\"4a6df246-4a22-457b-b706-9c302cfc1a31\")) {                    Plotly.newPlot(                        \"4a6df246-4a22-457b-b706-9c302cfc1a31\",                        [{\"mode\":\"lines\",\"name\":\"Train_Accuracy\",\"x\":[0.0,1e-05,2e-05,3.0000000000000004e-05,4e-05,5e-05,6.000000000000001e-05,7.000000000000001e-05,8e-05,9e-05,0.0001,0.00011,0.00012000000000000002,0.00013000000000000002,0.00014000000000000001,0.00015000000000000001,0.00016,0.00017,0.00018,0.00019,0.0002,0.00021,0.00022,0.00023,0.00024000000000000003,0.00025,0.00026000000000000003,0.00027,0.00028000000000000003,0.00029,0.00030000000000000003,0.00031,0.00032,0.00033000000000000005,0.00034,0.00035000000000000005,0.00036,0.00037000000000000005,0.00038,0.00039000000000000005],\"y\":[0.6091954022988506,0.6091954022988506,0.6091954022988506,0.60727969348659,0.60727969348659,0.60727969348659,0.60727969348659,0.60727969348659,0.60727969348659,0.60727969348659,0.60727969348659,0.60727969348659,0.60727969348659,0.60727969348659,0.60727969348659,0.60727969348659,0.60727969348659,0.60727969348659,0.60727969348659,0.60727969348659,0.60727969348659,0.60727969348659,0.6015325670498084,0.5996168582375478,0.5996168582375478,0.5996168582375478,0.5996168582375478,0.5996168582375478,0.5996168582375478,0.5996168582375478,0.5996168582375478,0.5996168582375478,0.5977011494252874,0.5996168582375478,0.5996168582375478,0.5938697318007663,0.5938697318007663,0.5919540229885057,0.5919540229885057,0.5900383141762452,0.5900383141762452,0.5957854406130269,0.5977011494252874,0.5977011494252874,0.5996168582375478,0.5996168582375478,0.5996168582375478,0.5996168582375478,0.5996168582375478,0.5996168582375478,0.5996168582375478,0.5938697318007663,0.5938697318007663],\"type\":\"scatter\"},{\"mode\":\"lines+markers\",\"name\":\"Test_Accuracy\",\"x\":[0.0,1e-05,2e-05,3.0000000000000004e-05,4e-05,5e-05,6.000000000000001e-05,7.000000000000001e-05,8e-05,9e-05,0.0001,0.00011,0.00012000000000000002,0.00013000000000000002,0.00014000000000000001,0.00015000000000000001,0.00016,0.00017,0.00018,0.00019,0.0002,0.00021,0.00022,0.00023,0.00024000000000000003,0.00025,0.00026000000000000003,0.00027,0.00028000000000000003,0.00029,0.00030000000000000003,0.00031,0.00032,0.00033000000000000005,0.00034,0.00035000000000000005,0.00036,0.00037000000000000005,0.00038,0.00039000000000000005],\"y\":[0.47555555555555556,0.47555555555555556,0.47555555555555556,0.47555555555555556,0.47555555555555556,0.47555555555555556,0.47555555555555556,0.47555555555555556,0.47555555555555556,0.47555555555555556,0.47555555555555556,0.47555555555555556,0.47555555555555556,0.47555555555555556,0.47555555555555556,0.47555555555555556,0.47555555555555556,0.47555555555555556,0.47555555555555556,0.47555555555555556,0.47555555555555556,0.47555555555555556,0.47555555555555556,0.47555555555555556,0.47555555555555556,0.47555555555555556,0.47555555555555556,0.47555555555555556,0.47555555555555556,0.47555555555555556,0.47555555555555556,0.47555555555555556,0.47555555555555556,0.4711111111111111,0.4711111111111111,0.47555555555555556,0.47555555555555556,0.48,0.47555555555555556,0.4711111111111111,0.4711111111111111,0.4711111111111111,0.47555555555555556,0.47555555555555556,0.47555555555555556,0.47555555555555556,0.47555555555555556,0.47555555555555556,0.47555555555555556,0.47555555555555556,0.47555555555555556,0.47555555555555556,0.47555555555555556],\"type\":\"scatter\"}],                        {\"xaxis\":{\"title\":{\"text\":\"threshold\"}},\"yaxis\":{\"title\":{\"text\":\"Accuracy\"}},\"template\":{\"data\":{\"histogram2dcontour\":[{\"type\":\"histogram2dcontour\",\"colorbar\":{\"outlinewidth\":0,\"ticks\":\"\"},\"colorscale\":[[0.0,\"#0d0887\"],[0.1111111111111111,\"#46039f\"],[0.2222222222222222,\"#7201a8\"],[0.3333333333333333,\"#9c179e\"],[0.4444444444444444,\"#bd3786\"],[0.5555555555555556,\"#d8576b\"],[0.6666666666666666,\"#ed7953\"],[0.7777777777777778,\"#fb9f3a\"],[0.8888888888888888,\"#fdca26\"],[1.0,\"#f0f921\"]]}],\"choropleth\":[{\"type\":\"choropleth\",\"colorbar\":{\"outlinewidth\":0,\"ticks\":\"\"}}],\"histogram2d\":[{\"type\":\"histogram2d\",\"colorbar\":{\"outlinewidth\":0,\"ticks\":\"\"},\"colorscale\":[[0.0,\"#0d0887\"],[0.1111111111111111,\"#46039f\"],[0.2222222222222222,\"#7201a8\"],[0.3333333333333333,\"#9c179e\"],[0.4444444444444444,\"#bd3786\"],[0.5555555555555556,\"#d8576b\"],[0.6666666666666666,\"#ed7953\"],[0.7777777777777778,\"#fb9f3a\"],[0.8888888888888888,\"#fdca26\"],[1.0,\"#f0f921\"]]}],\"heatmap\":[{\"type\":\"heatmap\",\"colorbar\":{\"outlinewidth\":0,\"ticks\":\"\"},\"colorscale\":[[0.0,\"#0d0887\"],[0.1111111111111111,\"#46039f\"],[0.2222222222222222,\"#7201a8\"],[0.3333333333333333,\"#9c179e\"],[0.4444444444444444,\"#bd3786\"],[0.5555555555555556,\"#d8576b\"],[0.6666666666666666,\"#ed7953\"],[0.7777777777777778,\"#fb9f3a\"],[0.8888888888888888,\"#fdca26\"],[1.0,\"#f0f921\"]]}],\"heatmapgl\":[{\"type\":\"heatmapgl\",\"colorbar\":{\"outlinewidth\":0,\"ticks\":\"\"},\"colorscale\":[[0.0,\"#0d0887\"],[0.1111111111111111,\"#46039f\"],[0.2222222222222222,\"#7201a8\"],[0.3333333333333333,\"#9c179e\"],[0.4444444444444444,\"#bd3786\"],[0.5555555555555556,\"#d8576b\"],[0.6666666666666666,\"#ed7953\"],[0.7777777777777778,\"#fb9f3a\"],[0.8888888888888888,\"#fdca26\"],[1.0,\"#f0f921\"]]}],\"contourcarpet\":[{\"type\":\"contourcarpet\",\"colorbar\":{\"outlinewidth\":0,\"ticks\":\"\"}}],\"contour\":[{\"type\":\"contour\",\"colorbar\":{\"outlinewidth\":0,\"ticks\":\"\"},\"colorscale\":[[0.0,\"#0d0887\"],[0.1111111111111111,\"#46039f\"],[0.2222222222222222,\"#7201a8\"],[0.3333333333333333,\"#9c179e\"],[0.4444444444444444,\"#bd3786\"],[0.5555555555555556,\"#d8576b\"],[0.6666666666666666,\"#ed7953\"],[0.7777777777777778,\"#fb9f3a\"],[0.8888888888888888,\"#fdca26\"],[1.0,\"#f0f921\"]]}],\"surface\":[{\"type\":\"surface\",\"colorbar\":{\"outlinewidth\":0,\"ticks\":\"\"},\"colorscale\":[[0.0,\"#0d0887\"],[0.1111111111111111,\"#46039f\"],[0.2222222222222222,\"#7201a8\"],[0.3333333333333333,\"#9c179e\"],[0.4444444444444444,\"#bd3786\"],[0.5555555555555556,\"#d8576b\"],[0.6666666666666666,\"#ed7953\"],[0.7777777777777778,\"#fb9f3a\"],[0.8888888888888888,\"#fdca26\"],[1.0,\"#f0f921\"]]}],\"mesh3d\":[{\"type\":\"mesh3d\",\"colorbar\":{\"outlinewidth\":0,\"ticks\":\"\"}}],\"scatter\":[{\"fillpattern\":{\"fillmode\":\"overlay\",\"size\":10,\"solidity\":0.2},\"type\":\"scatter\"}],\"parcoords\":[{\"type\":\"parcoords\",\"line\":{\"colorbar\":{\"outlinewidth\":0,\"ticks\":\"\"}}}],\"scatterpolargl\":[{\"type\":\"scatterpolargl\",\"marker\":{\"colorbar\":{\"outlinewidth\":0,\"ticks\":\"\"}}}],\"bar\":[{\"error_x\":{\"color\":\"#2a3f5f\"},\"error_y\":{\"color\":\"#2a3f5f\"},\"marker\":{\"line\":{\"color\":\"#E5ECF6\",\"width\":0.5},\"pattern\":{\"fillmode\":\"overlay\",\"size\":10,\"solidity\":0.2}},\"type\":\"bar\"}],\"scattergeo\":[{\"type\":\"scattergeo\",\"marker\":{\"colorbar\":{\"outlinewidth\":0,\"ticks\":\"\"}}}],\"scatterpolar\":[{\"type\":\"scatterpolar\",\"marker\":{\"colorbar\":{\"outlinewidth\":0,\"ticks\":\"\"}}}],\"histogram\":[{\"marker\":{\"pattern\":{\"fillmode\":\"overlay\",\"size\":10,\"solidity\":0.2}},\"type\":\"histogram\"}],\"scattergl\":[{\"type\":\"scattergl\",\"marker\":{\"colorbar\":{\"outlinewidth\":0,\"ticks\":\"\"}}}],\"scatter3d\":[{\"type\":\"scatter3d\",\"line\":{\"colorbar\":{\"outlinewidth\":0,\"ticks\":\"\"}},\"marker\":{\"colorbar\":{\"outlinewidth\":0,\"ticks\":\"\"}}}],\"scattermapbox\":[{\"type\":\"scattermapbox\",\"marker\":{\"colorbar\":{\"outlinewidth\":0,\"ticks\":\"\"}}}],\"scatterternary\":[{\"type\":\"scatterternary\",\"marker\":{\"colorbar\":{\"outlinewidth\":0,\"ticks\":\"\"}}}],\"scattercarpet\":[{\"type\":\"scattercarpet\",\"marker\":{\"colorbar\":{\"outlinewidth\":0,\"ticks\":\"\"}}}],\"carpet\":[{\"aaxis\":{\"endlinecolor\":\"#2a3f5f\",\"gridcolor\":\"white\",\"linecolor\":\"white\",\"minorgridcolor\":\"white\",\"startlinecolor\":\"#2a3f5f\"},\"baxis\":{\"endlinecolor\":\"#2a3f5f\",\"gridcolor\":\"white\",\"linecolor\":\"white\",\"minorgridcolor\":\"white\",\"startlinecolor\":\"#2a3f5f\"},\"type\":\"carpet\"}],\"table\":[{\"cells\":{\"fill\":{\"color\":\"#EBF0F8\"},\"line\":{\"color\":\"white\"}},\"header\":{\"fill\":{\"color\":\"#C8D4E3\"},\"line\":{\"color\":\"white\"}},\"type\":\"table\"}],\"barpolar\":[{\"marker\":{\"line\":{\"color\":\"#E5ECF6\",\"width\":0.5},\"pattern\":{\"fillmode\":\"overlay\",\"size\":10,\"solidity\":0.2}},\"type\":\"barpolar\"}],\"pie\":[{\"automargin\":true,\"type\":\"pie\"}]},\"layout\":{\"autotypenumbers\":\"strict\",\"colorway\":[\"#636efa\",\"#EF553B\",\"#00cc96\",\"#ab63fa\",\"#FFA15A\",\"#19d3f3\",\"#FF6692\",\"#B6E880\",\"#FF97FF\",\"#FECB52\"],\"font\":{\"color\":\"#2a3f5f\"},\"hovermode\":\"closest\",\"hoverlabel\":{\"align\":\"left\"},\"paper_bgcolor\":\"white\",\"plot_bgcolor\":\"#E5ECF6\",\"polar\":{\"bgcolor\":\"#E5ECF6\",\"angularaxis\":{\"gridcolor\":\"white\",\"linecolor\":\"white\",\"ticks\":\"\"},\"radialaxis\":{\"gridcolor\":\"white\",\"linecolor\":\"white\",\"ticks\":\"\"}},\"ternary\":{\"bgcolor\":\"#E5ECF6\",\"aaxis\":{\"gridcolor\":\"white\",\"linecolor\":\"white\",\"ticks\":\"\"},\"baxis\":{\"gridcolor\":\"white\",\"linecolor\":\"white\",\"ticks\":\"\"},\"caxis\":{\"gridcolor\":\"white\",\"linecolor\":\"white\",\"ticks\":\"\"}},\"coloraxis\":{\"colorbar\":{\"outlinewidth\":0,\"ticks\":\"\"}},\"colorscale\":{\"sequential\":[[0.0,\"#0d0887\"],[0.1111111111111111,\"#46039f\"],[0.2222222222222222,\"#7201a8\"],[0.3333333333333333,\"#9c179e\"],[0.4444444444444444,\"#bd3786\"],[0.5555555555555556,\"#d8576b\"],[0.6666666666666666,\"#ed7953\"],[0.7777777777777778,\"#fb9f3a\"],[0.8888888888888888,\"#fdca26\"],[1.0,\"#f0f921\"]],\"sequentialminus\":[[0.0,\"#0d0887\"],[0.1111111111111111,\"#46039f\"],[0.2222222222222222,\"#7201a8\"],[0.3333333333333333,\"#9c179e\"],[0.4444444444444444,\"#bd3786\"],[0.5555555555555556,\"#d8576b\"],[0.6666666666666666,\"#ed7953\"],[0.7777777777777778,\"#fb9f3a\"],[0.8888888888888888,\"#fdca26\"],[1.0,\"#f0f921\"]],\"diverging\":[[0,\"#8e0152\"],[0.1,\"#c51b7d\"],[0.2,\"#de77ae\"],[0.3,\"#f1b6da\"],[0.4,\"#fde0ef\"],[0.5,\"#f7f7f7\"],[0.6,\"#e6f5d0\"],[0.7,\"#b8e186\"],[0.8,\"#7fbc41\"],[0.9,\"#4d9221\"],[1,\"#276419\"]]},\"xaxis\":{\"gridcolor\":\"white\",\"linecolor\":\"white\",\"ticks\":\"\",\"title\":{\"standoff\":15},\"zerolinecolor\":\"white\",\"automargin\":true,\"zerolinewidth\":2},\"yaxis\":{\"gridcolor\":\"white\",\"linecolor\":\"white\",\"ticks\":\"\",\"title\":{\"standoff\":15},\"zerolinecolor\":\"white\",\"automargin\":true,\"zerolinewidth\":2},\"scene\":{\"xaxis\":{\"backgroundcolor\":\"#E5ECF6\",\"gridcolor\":\"white\",\"linecolor\":\"white\",\"showbackground\":true,\"ticks\":\"\",\"zerolinecolor\":\"white\",\"gridwidth\":2},\"yaxis\":{\"backgroundcolor\":\"#E5ECF6\",\"gridcolor\":\"white\",\"linecolor\":\"white\",\"showbackground\":true,\"ticks\":\"\",\"zerolinecolor\":\"white\",\"gridwidth\":2},\"zaxis\":{\"backgroundcolor\":\"#E5ECF6\",\"gridcolor\":\"white\",\"linecolor\":\"white\",\"showbackground\":true,\"ticks\":\"\",\"zerolinecolor\":\"white\",\"gridwidth\":2}},\"shapedefaults\":{\"line\":{\"color\":\"#2a3f5f\"}},\"annotationdefaults\":{\"arrowcolor\":\"#2a3f5f\",\"arrowhead\":0,\"arrowwidth\":1},\"geo\":{\"bgcolor\":\"white\",\"landcolor\":\"#E5ECF6\",\"subunitcolor\":\"white\",\"showland\":true,\"showlakes\":true,\"lakecolor\":\"white\"},\"title\":{\"x\":0.05},\"mapbox\":{\"style\":\"light\"}}},\"title\":{\"text\":\"Classification Accuracy\"}},                        {\"responsive\": true}                    ).then(function(){\n",
       "                            \n",
       "var gd = document.getElementById('4a6df246-4a22-457b-b706-9c302cfc1a31');\n",
       "var x = new MutationObserver(function (mutations, observer) {{\n",
       "        var display = window.getComputedStyle(gd).display;\n",
       "        if (!display || display === 'none') {{\n",
       "            console.log([gd, 'removed!']);\n",
       "            Plotly.purge(gd);\n",
       "            observer.disconnect();\n",
       "        }}\n",
       "}});\n",
       "\n",
       "// Listen for the removal of the full notebook cells\n",
       "var notebookContainer = gd.closest('#notebook-container');\n",
       "if (notebookContainer) {{\n",
       "    x.observe(notebookContainer, {childList: true});\n",
       "}}\n",
       "\n",
       "// Listen for the clearing of the current output cell\n",
       "var outputEl = gd.closest('.output');\n",
       "if (outputEl) {{\n",
       "    x.observe(outputEl, {childList: true});\n",
       "}}\n",
       "\n",
       "                        })                };                });            </script>        </div>"
      ]
     },
     "metadata": {},
     "output_type": "display_data"
    }
   ],
   "source": [
    "x=np.arange(0, 0.0004, 0.00001)\n",
    "y1=Zero_scores['Train_Accuracy']\n",
    "y2=Zero_scores['Test_Accuracy']\n",
    "fig = go.Figure(layout={\"xaxis_title\": \"threshold\", \"yaxis_title\": \"Accuracy\"})\n",
    "\n",
    "fig.add_trace(go.Scatter(x=x, y=y1,\n",
    "                    mode='lines',\n",
    "                    name='Train_Accuracy'))\n",
    "fig.add_trace(go.Scatter(x=x, y=y2,\n",
    "                    mode='lines+markers',\n",
    "                    name='Test_Accuracy'))\n",
    "\n",
    "fig.update_layout(title='Classification Accuracy')\n",
    "\n",
    "fig.show()"
   ]
  },
  {
   "cell_type": "markdown",
   "id": "a604857c",
   "metadata": {},
   "source": [
    "* Considering the information presented in the two figures and the accompanying table, it is advisable to establish a threshold of 0. Log-returns that fall below this threshold should be classified as negative returns and represented by a \"Sign\" value of 0."
   ]
  },
  {
   "cell_type": "code",
   "execution_count": 16,
   "id": "3670179c",
   "metadata": {},
   "outputs": [],
   "source": [
    "\n",
    "#set the threshold for the extreme near zero value \n",
    "# To aviod the loss the potentional gains , we have to set the thrwshold as lower as possible.\n",
    "df_Features['Sign'] = np.where(df_Features['Log_Return']>0,1,0)\n",
    "df_Features['Sign'] = df_Features['Sign'].shift(-1)\n",
    "df_Features=df_Features.dropna()\n",
    "X = df_Features.loc[:,['Adj Close', 'O-C', 'H-L', 'Log_Return',  'Pass_Returns_2','Pass_Returns_3', 'Pass_Returns_5', 'Momentum_2', 'Momentum_3','Momentum_5', 'SMA_2', 'SMA_3', 'SMA_5', 'EMA']]\n",
    "y = df_Features['Sign']"
   ]
  },
  {
   "cell_type": "markdown",
   "id": "4d7c09a6",
   "metadata": {},
   "source": [
    "### SVM results after process the extreme small value"
   ]
  },
  {
   "cell_type": "code",
   "execution_count": 17,
   "id": "e2e82798",
   "metadata": {},
   "outputs": [
    {
     "name": "stdout",
     "output_type": "stream",
     "text": [
      "Train and Test Size 522, 225\n",
      "Train Accuracy: 0.6092, Test Accuracy: 0.4756,f1 score:0.5816\n"
     ]
    }
   ],
   "source": [
    "# Splitting the datasets into training and testing data.\n",
    "# Always keep shuffle = False for financial time series\n",
    "X_train, X_test, y_train, y_test = train_test_split(X, y, test_size=0.3, shuffle=False)\n",
    "print(f\"Train and Test Size {len(X_train)}, {len(X_test)}\")\n",
    "\n",
    "# Scale and fit the model\n",
    "model = Pipeline([\n",
    "    (\"scaler\", MinMaxScaler()), \n",
    "    (\"classifier\", SVC())\n",
    "]) \n",
    "model.fit(X_train, y_train)\n",
    "\n",
    "# Predicting the test dataset\n",
    "y_pred = model.predict(X_test)\n",
    "acc_train = accuracy_score(y_train, model.predict(X_train))\n",
    "acc_test = accuracy_score(y_test, y_pred)\n",
    "f0=f1_score(y_test, y_pred)\n",
    "print(f'Train Accuracy: {acc_train:0.4}, Test Accuracy: {acc_test:0.4},f1 score:{f0:0.4}')"
   ]
  },
  {
   "cell_type": "code",
   "execution_count": 18,
   "id": "80a3ed03",
   "metadata": {},
   "outputs": [
    {
     "data": {
      "image/png": "[encoded data removed]",
      "text/plain": [
       "<Figure size 432x288 with 2 Axes>"
      ]
     },
     "metadata": {
      "needs_background": "light"
     },
     "output_type": "display_data"
    }
   ],
   "source": [
    "# Display confussion matrix\n",
    "disp = ConfusionMatrixDisplay.from_estimator(\n",
    "        model,\n",
    "        X_test,\n",
    "        y_test,\n",
    "        display_labels=model.classes_,\n",
    "        cmap=plt.cm.Blues\n",
    "    )\n",
    "disp.ax_.set_title('Confusion matrix')\n",
    "plt.show()"
   ]
  },
  {
   "cell_type": "code",
   "execution_count": 19,
   "id": "b22366e1",
   "metadata": {},
   "outputs": [
    {
     "data": {
      "image/png": "[encoded data removed]",
      "text/plain": [
       "<Figure size 432x288 with 1 Axes>"
      ]
     },
     "metadata": {
      "needs_background": "light"
     },
     "output_type": "display_data"
    }
   ],
   "source": [
    "# Display ROCCurve \n",
    "disp_roc = RocCurveDisplay.from_estimator(\n",
    "            model, \n",
    "            X_test, \n",
    "            y_test,\n",
    "            name='SVM')\n",
    "disp_roc.ax_.set_title('ROC Curve')\n",
    "plt.show()"
   ]
  },
  {
   "cell_type": "markdown",
   "id": "a7249269",
   "metadata": {},
   "source": [
    "### Feature selection\n",
    "1. Variance Inflation Factor (VIF)\n",
    "2. SelectKBest\n",
    "3. Recursive Feature Elimination (RFE)\n",
    "4. Recursive Feature Elimination Cross validation (RFECV)\n",
    "Note:Note: The last feature selection method can only be used in the SVM with a linear kernel functions."
   ]
  },
  {
   "cell_type": "markdown",
   "id": "e57a881a",
   "metadata": {},
   "source": [
    "* Method 1: VIF"
   ]
  },
  {
   "cell_type": "code",
   "execution_count": 20,
   "id": "e2c9b429",
   "metadata": {},
   "outputs": [],
   "source": [
    "# Scale and fit the model\n",
    "model = Pipeline([\n",
    "    (\"scaler\", MinMaxScaler()), \n",
    "    (\"classifier\", SVC())\n",
    "]) "
   ]
  },
  {
   "cell_type": "code",
   "execution_count": 21,
   "id": "32cc59aa",
   "metadata": {},
   "outputs": [],
   "source": [
    "# Feature scaling\n",
    "scaler = MinMaxScaler()\n",
    "# For each X, calculate VIF and save in dataframe\n",
    "def vif(X):\n",
    "# perform feature scaling\n",
    "    xs = scaler.fit_transform(X)\n",
    "    # subsume into a dataframe\n",
    "    vif = pd.DataFrame()\n",
    "    vif[\"Features\"] = X.columns\n",
    "    vif[\"VIF Factor\"] = [variance_inflation_factor(xs, i) for i in range(xs.shape[1])]\n",
    "    return vif"
   ]
  },
  {
   "cell_type": "code",
   "execution_count": 22,
   "id": "19fc62a6",
   "metadata": {},
   "outputs": [],
   "source": [
    "# List scores\n",
    "vif_score=vif(X).round(2)\n",
    "# Drop VIF score > 5\n",
    "X_method1=X.loc[:,vif_score[vif_score[\"VIF Factor\"]<6]['Features']]"
   ]
  },
  {
   "cell_type": "code",
   "execution_count": 23,
   "id": "8d9a51cb",
   "metadata": {},
   "outputs": [
    {
     "name": "stdout",
     "output_type": "stream",
     "text": [
      "Train and Test Size 522, 225\n"
     ]
    }
   ],
   "source": [
    "# Splitting the datasets into training and testing data.\n",
    "# Always keep shuffle = False for financial time series\n",
    "X_train, X_test, y_train, y_test = train_test_split(X_method1, y, test_size=0.3, shuffle=False)\n",
    "print(f\"Train and Test Size {len(X_train)}, {len(X_test)}\")"
   ]
  },
  {
   "cell_type": "code",
   "execution_count": 24,
   "id": "52d03697",
   "metadata": {},
   "outputs": [
    {
     "name": "stdout",
     "output_type": "stream",
     "text": [
      "Train Accuracy: 0.5747, Test Accuracy: 0.5422, f1 score:0.5118\n"
     ]
    }
   ],
   "source": [
    "# Scale and fit the model\n",
    "model = Pipeline([\n",
    "    (\"scaler\", MinMaxScaler()), \n",
    "    (\"classifier\", SVC())\n",
    "]) \n",
    "model.fit(X_train, y_train)\n",
    "# Predicting the test dataset\n",
    "y_pred = model.predict(X_test)\n",
    "acc_train1 = accuracy_score(y_train, model.predict(X_train))\n",
    "acc_test1 = accuracy_score(y_test, y_pred)\n",
    "f1=f1_score(y_test, y_pred)\n",
    "print(f'Train Accuracy: {acc_train1:0.4}, Test Accuracy: {acc_test1:0.4}, f1 score:{f1:0.4}')"
   ]
  },
  {
   "cell_type": "code",
   "execution_count": 25,
   "id": "45821242",
   "metadata": {},
   "outputs": [
    {
     "data": {
      "image/png": "[encoded data removed]",
      "text/plain": [
       "<Figure size 432x288 with 2 Axes>"
      ]
     },
     "metadata": {
      "needs_background": "light"
     },
     "output_type": "display_data"
    }
   ],
   "source": [
    "# Display confussion matrix\n",
    "disp = ConfusionMatrixDisplay.from_estimator(\n",
    "        model,\n",
    "        X_test,\n",
    "        y_test,\n",
    "        display_labels=model.classes_,\n",
    "        cmap=plt.cm.Blues\n",
    "    )\n",
    "disp.ax_.set_title('Confusion matrix VIF')\n",
    "plt.show()"
   ]
  },
  {
   "cell_type": "code",
   "execution_count": 26,
   "id": "fb37d077",
   "metadata": {},
   "outputs": [
    {
     "name": "stdout",
     "output_type": "stream",
     "text": [
      "              precision    recall  f1-score   support\n",
      "\n",
      "         0.0       0.57      0.57      0.57       120\n",
      "         1.0       0.51      0.51      0.51       105\n",
      "\n",
      "    accuracy                           0.54       225\n",
      "   macro avg       0.54      0.54      0.54       225\n",
      "weighted avg       0.54      0.54      0.54       225\n",
      "\n"
     ]
    }
   ],
   "source": [
    "# Classification Report\n",
    "print(classification_report(y_test, y_pred))"
   ]
  },
  {
   "cell_type": "code",
   "execution_count": 27,
   "id": "dd65e52a",
   "metadata": {},
   "outputs": [
    {
     "data": {
      "image/png": "[encoded data removed]",
      "text/plain": [
       "<Figure size 432x288 with 1 Axes>"
      ]
     },
     "metadata": {
      "needs_background": "light"
     },
     "output_type": "display_data"
    }
   ],
   "source": [
    "# Display ROCCurve \n",
    "disp_roc = RocCurveDisplay.from_estimator(\n",
    "            model, \n",
    "            X_test, \n",
    "            y_test,\n",
    "            name='SVM')\n",
    "disp_roc.ax_.set_title('ROC Curve VIF')\n",
    "plt.show()"
   ]
  },
  {
   "cell_type": "markdown",
   "id": "1140c2c3",
   "metadata": {},
   "source": [
    "* 2. SelectKBest"
   ]
  },
  {
   "cell_type": "code",
   "execution_count": 28,
   "id": "89640d80",
   "metadata": {},
   "outputs": [],
   "source": [
    "# Scale and fit the model\n",
    "model = Pipeline([\n",
    "    (\"scaler\", MinMaxScaler()), \n",
    "    (\"classifier\", SVC())\n",
    "]) "
   ]
  },
  {
   "cell_type": "code",
   "execution_count": 29,
   "id": "cec324c3",
   "metadata": {},
   "outputs": [
    {
     "data": {
      "text/plain": [
       "array([ 0,  2, 10, 11, 12, 13])"
      ]
     },
     "execution_count": 29,
     "metadata": {},
     "output_type": "execute_result"
    }
   ],
   "source": [
    "# SelectKBest\n",
    "method2 = SelectKBest(f_regression, k=6)\n",
    "# selector1 = SelectPercentile(f_regression, percentile=25)\n",
    "# Fit the model\n",
    "method2.fit(X,y)\n",
    "# Show selected features\n",
    "method2.get_support(indices=True)"
   ]
  },
  {
   "cell_type": "code",
   "execution_count": 30,
   "id": "1c8dc3d6",
   "metadata": {},
   "outputs": [
    {
     "data": {
      "text/html": [
       "<div>\n",
       "<style scoped>\n",
       "    .dataframe tbody tr th:only-of-type {\n",
       "        vertical-align: middle;\n",
       "    }\n",
       "\n",
       "    .dataframe tbody tr th {\n",
       "        vertical-align: top;\n",
       "    }\n",
       "\n",
       "    .dataframe thead th {\n",
       "        text-align: right;\n",
       "    }\n",
       "</style>\n",
       "<table border=\"1\" class=\"dataframe\">\n",
       "  <thead>\n",
       "    <tr style=\"text-align: right;\">\n",
       "      <th></th>\n",
       "      <th>feature</th>\n",
       "      <th>F-score</th>\n",
       "    </tr>\n",
       "  </thead>\n",
       "  <tbody>\n",
       "    <tr>\n",
       "      <th>2</th>\n",
       "      <td>H-L</td>\n",
       "      <td>2.160915</td>\n",
       "    </tr>\n",
       "    <tr>\n",
       "      <th>12</th>\n",
       "      <td>SMA_5</td>\n",
       "      <td>4.337189</td>\n",
       "    </tr>\n",
       "    <tr>\n",
       "      <th>11</th>\n",
       "      <td>SMA_3</td>\n",
       "      <td>4.575778</td>\n",
       "    </tr>\n",
       "    <tr>\n",
       "      <th>10</th>\n",
       "      <td>SMA_2</td>\n",
       "      <td>4.700542</td>\n",
       "    </tr>\n",
       "    <tr>\n",
       "      <th>0</th>\n",
       "      <td>Adj Close</td>\n",
       "      <td>4.803993</td>\n",
       "    </tr>\n",
       "    <tr>\n",
       "      <th>13</th>\n",
       "      <td>EMA</td>\n",
       "      <td>9.362136</td>\n",
       "    </tr>\n",
       "  </tbody>\n",
       "</table>\n",
       "</div>"
      ],
      "text/plain": [
       "      feature   F-score\n",
       "2         H-L  2.160915\n",
       "12      SMA_5  4.337189\n",
       "11      SMA_3  4.575778\n",
       "10      SMA_2  4.700542\n",
       "0   Adj Close  4.803993\n",
       "13        EMA  9.362136"
      ]
     },
     "execution_count": 30,
     "metadata": {},
     "output_type": "execute_result"
    }
   ],
   "source": [
    "# Iterate the score\n",
    "m2_feature=pd.DataFrame({'feature':X.columns,'F-score':method2.scores_}).sort_values('F-score')\n",
    "m2_feature.tail(6)"
   ]
  },
  {
   "cell_type": "code",
   "execution_count": 31,
   "id": "70d981a5",
   "metadata": {},
   "outputs": [],
   "source": [
    "# Filter six features with highest score\n",
    "X_method2 = X.loc[:,m2_feature.tail(6)['feature']]"
   ]
  },
  {
   "cell_type": "code",
   "execution_count": 32,
   "id": "862f72dc",
   "metadata": {},
   "outputs": [
    {
     "name": "stdout",
     "output_type": "stream",
     "text": [
      "Train Accuracy: 0.5824, Test Accuracy: 0.4933,f1 score:0.5809\n"
     ]
    }
   ],
   "source": [
    "# Splitting the datasets into training and testing data.\n",
    "# Always keep shuffle = False for financial time series\n",
    "X_train, X_test, y_train, y_test = train_test_split(X_method2, y, test_size=0.3, shuffle=False)\n",
    "\n",
    "# Scale and fit the model\n",
    "model.fit(X_train, y_train)\n",
    "\n",
    "# Predicting the test dataset\n",
    "y_pred = model.predict(X_test)\n",
    "acc_train2 = accuracy_score(y_train, model.predict(X_train))\n",
    "acc_test2 = accuracy_score(y_test, y_pred)\n",
    "f2=f1_score(y_test, y_pred)\n",
    "print(f'Train Accuracy: {acc_train2:0.4}, Test Accuracy: {acc_test2:0.4},f1 score:{f2:0.4}')"
   ]
  },
  {
   "cell_type": "code",
   "execution_count": 33,
   "id": "95ad624e",
   "metadata": {},
   "outputs": [
    {
     "data": {
      "image/png": "[encoded data removed]",
      "text/plain": [
       "<Figure size 432x288 with 2 Axes>"
      ]
     },
     "metadata": {
      "needs_background": "light"
     },
     "output_type": "display_data"
    }
   ],
   "source": [
    "# Display confussion matrix\n",
    "disp = ConfusionMatrixDisplay.from_estimator(\n",
    "        model,\n",
    "        X_test,\n",
    "        y_test,\n",
    "        display_labels=model.classes_,\n",
    "        cmap=plt.cm.Blues\n",
    "    )\n",
    "disp.ax_.set_title('Confusion matrix SelectKBest')\n",
    "plt.show()"
   ]
  },
  {
   "cell_type": "code",
   "execution_count": 34,
   "id": "eb4a5cda",
   "metadata": {},
   "outputs": [
    {
     "data": {
      "image/png": "[encoded data removed]",
      "text/plain": [
       "<Figure size 432x288 with 1 Axes>"
      ]
     },
     "metadata": {
      "needs_background": "light"
     },
     "output_type": "display_data"
    }
   ],
   "source": [
    "# Display ROCCurve \n",
    "disp_roc = RocCurveDisplay.from_estimator(\n",
    "            model, \n",
    "            X_test, \n",
    "            y_test,\n",
    "            name='SVM')\n",
    "disp_roc.ax_.set_title('ROC Curve SelectKBest')\n",
    "plt.show()"
   ]
  },
  {
   "cell_type": "markdown",
   "id": "28343183",
   "metadata": {},
   "source": [
    "* 3: RFE\n",
    "Feature ranking with recursive feature elimination (RFE). The goal is to select features by recursively\n",
    "considering smaller and smaller sets of features."
   ]
  },
  {
   "cell_type": "code",
   "execution_count": 35,
   "id": "5926f009",
   "metadata": {},
   "outputs": [],
   "source": [
    "# Scale and fit the model\n",
    "model = Pipeline([\n",
    "    (\"scaler\", MinMaxScaler()), \n",
    "    (\"classifier\", SVC())\n",
    "]) "
   ]
  },
  {
   "cell_type": "code",
   "execution_count": 36,
   "id": "003ee53a",
   "metadata": {},
   "outputs": [
    {
     "data": {
      "text/html": [
       "<style>#sk-container-id-1 {color: black;background-color: white;}#sk-container-id-1 pre{padding: 0;}#sk-container-id-1 div.sk-toggleable {background-color: white;}#sk-container-id-1 label.sk-toggleable__label {cursor: pointer;display: block;width: 100%;margin-bottom: 0;padding: 0.3em;box-sizing: border-box;text-align: center;}#sk-container-id-1 label.sk-toggleable__label-arrow:before {content: \"▸\";float: left;margin-right: 0.25em;color: #696969;}#sk-container-id-1 label.sk-toggleable__label-arrow:hover:before {color: black;}#sk-container-id-1 div.sk-estimator:hover label.sk-toggleable__label-arrow:before {color: black;}#sk-container-id-1 div.sk-toggleable__content {max-height: 0;max-width: 0;overflow: hidden;text-align: left;background-color: #f0f8ff;}#sk-container-id-1 div.sk-toggleable__content pre {margin: 0.2em;color: black;border-radius: 0.25em;background-color: #f0f8ff;}#sk-container-id-1 input.sk-toggleable__control:checked~div.sk-toggleable__content {max-height: 200px;max-width: 100%;overflow: auto;}#sk-container-id-1 input.sk-toggleable__control:checked~label.sk-toggleable__label-arrow:before {content: \"▾\";}#sk-container-id-1 div.sk-estimator input.sk-toggleable__control:checked~label.sk-toggleable__label {background-color: #d4ebff;}#sk-container-id-1 div.sk-label input.sk-toggleable__control:checked~label.sk-toggleable__label {background-color: #d4ebff;}#sk-container-id-1 input.sk-hidden--visually {border: 0;clip: rect(1px 1px 1px 1px);clip: rect(1px, 1px, 1px, 1px);height: 1px;margin: -1px;overflow: hidden;padding: 0;position: absolute;width: 1px;}#sk-container-id-1 div.sk-estimator {font-family: monospace;background-color: #f0f8ff;border: 1px dotted black;border-radius: 0.25em;box-sizing: border-box;margin-bottom: 0.5em;}#sk-container-id-1 div.sk-estimator:hover {background-color: #d4ebff;}#sk-container-id-1 div.sk-parallel-item::after {content: \"\";width: 100%;border-bottom: 1px solid gray;flex-grow: 1;}#sk-container-id-1 div.sk-label:hover label.sk-toggleable__label {background-color: #d4ebff;}#sk-container-id-1 div.sk-serial::before {content: \"\";position: absolute;border-left: 1px solid gray;box-sizing: border-box;top: 0;bottom: 0;left: 50%;z-index: 0;}#sk-container-id-1 div.sk-serial {display: flex;flex-direction: column;align-items: center;background-color: white;padding-right: 0.2em;padding-left: 0.2em;position: relative;}#sk-container-id-1 div.sk-item {position: relative;z-index: 1;}#sk-container-id-1 div.sk-parallel {display: flex;align-items: stretch;justify-content: center;background-color: white;position: relative;}#sk-container-id-1 div.sk-item::before, #sk-container-id-1 div.sk-parallel-item::before {content: \"\";position: absolute;border-left: 1px solid gray;box-sizing: border-box;top: 0;bottom: 0;left: 50%;z-index: -1;}#sk-container-id-1 div.sk-parallel-item {display: flex;flex-direction: column;z-index: 1;position: relative;background-color: white;}#sk-container-id-1 div.sk-parallel-item:first-child::after {align-self: flex-end;width: 50%;}#sk-container-id-1 div.sk-parallel-item:last-child::after {align-self: flex-start;width: 50%;}#sk-container-id-1 div.sk-parallel-item:only-child::after {width: 0;}#sk-container-id-1 div.sk-dashed-wrapped {border: 1px dashed gray;margin: 0 0.4em 0.5em 0.4em;box-sizing: border-box;padding-bottom: 0.4em;background-color: white;}#sk-container-id-1 div.sk-label label {font-family: monospace;font-weight: bold;display: inline-block;line-height: 1.2em;}#sk-container-id-1 div.sk-label-container {text-align: center;}#sk-container-id-1 div.sk-container {/* jupyter's `normalize.less` sets `[hidden] { display: none; }` but bootstrap.min.css set `[hidden] { display: none !important; }` so we also need the `!important` here to be able to override the default hidden behavior on the sphinx rendered scikit-learn.org. See: https://github.com/scikit-learn/scikit-learn/issues/21755 */display: inline-block !important;position: relative;}#sk-container-id-1 div.sk-text-repr-fallback {display: none;}</style><div id=\"sk-container-id-1\" class=\"sk-top-container\"><div class=\"sk-text-repr-fallback\"><pre>RFE(estimator=SVC(kernel=&#x27;linear&#x27;), n_features_to_select=6)</pre><b>In a Jupyter environment, please rerun this cell to show the HTML representation or trust the notebook. <br />On GitHub, the HTML representation is unable to render, please try loading this page with nbviewer.org.</b></div><div class=\"sk-container\" hidden><div class=\"sk-item sk-dashed-wrapped\"><div class=\"sk-label-container\"><div class=\"sk-label sk-toggleable\"><input class=\"sk-toggleable__control sk-hidden--visually\" id=\"sk-estimator-id-1\" type=\"checkbox\" ><label for=\"sk-estimator-id-1\" class=\"sk-toggleable__label sk-toggleable__label-arrow\">RFE</label><div class=\"sk-toggleable__content\"><pre>RFE(estimator=SVC(kernel=&#x27;linear&#x27;), n_features_to_select=6)</pre></div></div></div><div class=\"sk-parallel\"><div class=\"sk-parallel-item\"><div class=\"sk-item\"><div class=\"sk-label-container\"><div class=\"sk-label sk-toggleable\"><input class=\"sk-toggleable__control sk-hidden--visually\" id=\"sk-estimator-id-2\" type=\"checkbox\" ><label for=\"sk-estimator-id-2\" class=\"sk-toggleable__label sk-toggleable__label-arrow\">estimator: SVC</label><div class=\"sk-toggleable__content\"><pre>SVC(kernel=&#x27;linear&#x27;)</pre></div></div></div><div class=\"sk-serial\"><div class=\"sk-item\"><div class=\"sk-estimator sk-toggleable\"><input class=\"sk-toggleable__control sk-hidden--visually\" id=\"sk-estimator-id-3\" type=\"checkbox\" ><label for=\"sk-estimator-id-3\" class=\"sk-toggleable__label sk-toggleable__label-arrow\">SVC</label><div class=\"sk-toggleable__content\"><pre>SVC(kernel=&#x27;linear&#x27;)</pre></div></div></div></div></div></div></div></div></div></div>"
      ],
      "text/plain": [
       "RFE(estimator=SVC(kernel='linear'), n_features_to_select=6)"
      ]
     },
     "execution_count": 36,
     "metadata": {},
     "output_type": "execute_result"
    }
   ],
   "source": [
    "# Method 3\n",
    "#Only fo rthr SVM who use the kernel function is \"linear\"\n",
    "method3 = RFE(estimator=SVC(kernel=\"linear\"), n_features_to_select=6, step=1)\n",
    "method3.fit(X,y)"
   ]
  },
  {
   "cell_type": "code",
   "execution_count": 37,
   "id": "f9482d5e",
   "metadata": {},
   "outputs": [],
   "source": [
    "# Select Six Features\n",
    "min_value = min(method3.ranking_)\n",
    "col = [i for i, x in enumerate(method3.ranking_) if x == min_value]\n"
   ]
  },
  {
   "cell_type": "code",
   "execution_count": 38,
   "id": "2b858f1f",
   "metadata": {},
   "outputs": [
    {
     "name": "stdout",
     "output_type": "stream",
     "text": [
      "Train Accuracy: 0.5862, Test Accuracy: 0.4889,f1 score:0.6395\n"
     ]
    }
   ],
   "source": [
    "# Filter selected features\n",
    "X_method3 = X.iloc[:,method3.get_support(indices=True)]\n",
    "# Splitting the datasets into training and testing data.\n",
    "# Always keep shuffle = False for financial time series\n",
    "X_train, X_test, y_train, y_test = train_test_split(X_method3, y, test_size=0.3, shuffle=False)\n",
    "model.fit(X_train, y_train)\n",
    "\n",
    "# Predicting the test dataset\n",
    "y_pred = model.predict(X_test)\n",
    "acc_train3 = accuracy_score(y_train, model.predict(X_train))\n",
    "acc_test3 = accuracy_score(y_test, y_pred)\n",
    "f3=f1_score(y_test, y_pred)\n",
    "print(f'Train Accuracy: {acc_train3:0.4}, Test Accuracy: {acc_test3:0.4},f1 score:{f3:0.4}')"
   ]
  },
  {
   "cell_type": "code",
   "execution_count": 39,
   "id": "37f219ca",
   "metadata": {},
   "outputs": [
    {
     "data": {
      "image/png": "[encoded data removed]",
      "text/plain": [
       "<Figure size 432x288 with 2 Axes>"
      ]
     },
     "metadata": {
      "needs_background": "light"
     },
     "output_type": "display_data"
    }
   ],
   "source": [
    "# Display confussion matrix\n",
    "disp = ConfusionMatrixDisplay.from_estimator(\n",
    "        model,\n",
    "        X_test,\n",
    "        y_test,\n",
    "        display_labels=model.classes_,\n",
    "        cmap=plt.cm.Blues\n",
    "    )\n",
    "disp.ax_.set_title('Confusion matrix recursive feature elimination (RFE)')\n",
    "plt.show()"
   ]
  },
  {
   "cell_type": "code",
   "execution_count": 40,
   "id": "698c961e",
   "metadata": {},
   "outputs": [
    {
     "data": {
      "image/png": "[encoded data removed]",
      "text/plain": [
       "<Figure size 432x288 with 1 Axes>"
      ]
     },
     "metadata": {
      "needs_background": "light"
     },
     "output_type": "display_data"
    }
   ],
   "source": [
    "# Display ROCCurve \n",
    "disp_roc = RocCurveDisplay.from_estimator(\n",
    "            model, \n",
    "            X_test, \n",
    "            y_test,\n",
    "            name='SVM')\n",
    "disp_roc.ax_.set_title('ROC Curve recursive feature elimination (RFE)')\n",
    "plt.show()"
   ]
  },
  {
   "cell_type": "markdown",
   "id": "aebb91f7",
   "metadata": {},
   "source": [
    "* Method 4: RFECV\n",
    "* A recursive feature elimination with automatic tuning of the number of features selected with cross-validation."
   ]
  },
  {
   "cell_type": "code",
   "execution_count": 41,
   "id": "dd8e62c3",
   "metadata": {},
   "outputs": [],
   "source": [
    "# Scale and fit the model\n",
    "model = Pipeline([\n",
    "    (\"scaler\", MinMaxScaler()), \n",
    "    (\"classifier\", SVC())\n",
    "]) "
   ]
  },
  {
   "cell_type": "code",
   "execution_count": 42,
   "id": "c7536e7f",
   "metadata": {},
   "outputs": [
    {
     "name": "stdout",
     "output_type": "stream",
     "text": [
      "Optimal number of features: 3\n"
     ]
    }
   ],
   "source": [
    "# Method 4\n",
    "method4 = RFECV(SVC(kernel=\"linear\"), cv=10)\n",
    "method4.fit(X,y)\n",
    "# Get the selected features with CV\n",
    "print(f'Optimal number of features: {method4.n_features_:}')"
   ]
  },
  {
   "cell_type": "code",
   "execution_count": 43,
   "id": "3f3265c0",
   "metadata": {},
   "outputs": [
    {
     "name": "stdout",
     "output_type": "stream",
     "text": [
      "Train Accuracy: 0.5843, Test Accuracy: 0.4711,f1 score:0.6222\n"
     ]
    }
   ],
   "source": [
    "# Get the index of the selected features\n",
    "# Filter selected features\n",
    "X_method4 = X.iloc[:,method4.get_support(indices=True)]\n",
    "X_train, X_test, y_train, y_test = train_test_split(X_method4, y, test_size=0.3, shuffle=False)\n",
    "model.fit(X_train, y_train) \n",
    "\n",
    "# predict labels\n",
    "y_pred = model.predict(X_test)\n",
    "acc_train4 = accuracy_score(y_train, model.predict(X_train))\n",
    "acc_test4 = accuracy_score(y_test, y_pred)\n",
    "f4=f1_score(y_test, y_pred)\n",
    "print(f'Train Accuracy: {acc_train4:0.4}, Test Accuracy: {acc_test4:0.4},f1 score:{f4:0.4}')"
   ]
  },
  {
   "cell_type": "code",
   "execution_count": 44,
   "id": "af29f767",
   "metadata": {},
   "outputs": [
    {
     "data": {
      "image/png": "[encoded data removed]",
      "text/plain": [
       "<Figure size 432x288 with 2 Axes>"
      ]
     },
     "metadata": {
      "needs_background": "light"
     },
     "output_type": "display_data"
    }
   ],
   "source": [
    "# Display confussion matrix\n",
    "disp = ConfusionMatrixDisplay.from_estimator(\n",
    "        model,\n",
    "        X_test,\n",
    "        y_test,\n",
    "        display_labels=model.classes_,\n",
    "        cmap=plt.cm.Blues\n",
    "    )\n",
    "disp.ax_.set_title('Confusion matrix RFECV')\n",
    "plt.show()"
   ]
  },
  {
   "cell_type": "code",
   "execution_count": 45,
   "id": "2596d27a",
   "metadata": {},
   "outputs": [
    {
     "data": {
      "image/png": "[encoded data removed]",
      "text/plain": [
       "<Figure size 432x288 with 1 Axes>"
      ]
     },
     "metadata": {
      "needs_background": "light"
     },
     "output_type": "display_data"
    }
   ],
   "source": [
    "# Display ROCCurve \n",
    "disp_roc = RocCurveDisplay.from_estimator(\n",
    "            model, \n",
    "            X_test, \n",
    "            y_test,\n",
    "            name='SVM')\n",
    "disp_roc.ax_.set_title('ROC Curve RFECV')\n",
    "plt.show()"
   ]
  },
  {
   "cell_type": "code",
   "execution_count": 46,
   "id": "86c37144",
   "metadata": {},
   "outputs": [
    {
     "name": "stdout",
     "output_type": "stream",
     "text": [
      "Feature Selection Type      Train Accuracy    Test Accuracy    f1 score\n",
      "------------------------  ----------------  ---------------  ----------\n",
      "non                               0.574713         0.475556    0.58156\n",
      "VIF                               0.574713         0.542222    0.511848\n",
      "SelectKBest                       0.582375         0.493333    0.580882\n",
      "REF                               0.586207         0.488889    0.639498\n",
      "REFCV                             0.584291         0.471111    0.622222\n"
     ]
    }
   ],
   "source": [
    "from tabulate import tabulate\n",
    "table = [['non', acc_train1, acc_test, f0],\n",
    "    ['VIF', acc_train1, acc_test1,f1],\n",
    "    ['SelectKBest', acc_train2, acc_test2,f2],\n",
    "    ['REF', acc_train3, acc_test3,f3],\n",
    "    ['REFCV', acc_train4, acc_test4,f4]\n",
    "]\n",
    "\n",
    "headers = ['Feature Selection Type', 'Train Accuracy', 'Test Accuracy','f1 score']\n",
    "\n",
    "\n",
    "\n",
    "print(tabulate(table, headers=headers))"
   ]
  },
  {
   "cell_type": "markdown",
   "id": "de877976",
   "metadata": {},
   "source": [
    "* In terms of Test accuracy, the VIF method performs the best. However, considering that it is a binomial classification problem, I also take into account the f1 score. Based on the f1 score, the REFCV method outperforms the others and achieves the highest accuracy.\n",
    "<br/>\n",
    "\n",
    "* The limitation of using only the linear kernel for RFE and RFECV makes it difficult to determine the definitive best option. Therefore, I will utilize a combination of feature engineering and parameter tuning to uncover the optimal fitting and prediction model."
   ]
  },
  {
   "cell_type": "markdown",
   "id": "93018241",
   "metadata": {},
   "source": [
    "# Tunning parameters & Cross-sectional Validation"
   ]
  },
  {
   "cell_type": "markdown",
   "id": "ac88c6d0",
   "metadata": {},
   "source": [
    "##  Hyper-parameter of SVM\n",
    "* There are three parameters we have to consider, c is a penlty coefficients,  gamma, and kernel function.\n",
    "    * C: It is the regularization parameter, C, of the error term.\n",
    "    * kernel: It specifies the kernel type to be used in the algorithm. It can be ‘linear’, ‘poly’, ‘rbf’, ‘sigmoid’, ‘precomputed’, or a callable. The default value is ‘rbf’.\n",
    "    * degree: It is the degree of the polynomial kernel function (‘poly’) and is ignored by all other kernels. The default valueis 3.\n",
    "    * gamma: It is the kernel coefficient for ‘rbf’, ‘poly’, and ‘sigmoid’. If gamma is ‘auto’, then 1/n_features will be used instead.\n",
    " | Hyper-parameter             | Range|\n",
    "| :----------------: | :------------: |\n",
    "| kernel |  ['linear', 'rbf', 'sigmoid','poly'] |\n",
    "| C  |   np.linspace(0.1, 5, 10)|\n",
    "| gamma  |   np.linspace(0.01, 0.5, 10) |\n",
    "| degree |   np.arange(1, 5)|\n",
    "| Feature |   [VIF','KBest','REF','REFCV']|\n",
    "\n",
    "* I set the different range of pareametersparameters to fine-tune and discover the optimal model."
   ]
  },
  {
   "cell_type": "markdown",
   "id": "62e17bc4",
   "metadata": {},
   "source": [
    "### Cross-validation for time series"
   ]
  },
  {
   "cell_type": "code",
   "execution_count": 47,
   "id": "fc386ace",
   "metadata": {},
   "outputs": [],
   "source": [
    "# Cross-validation for time series\n",
    "tscv = TimeSeriesSplit(n_splits=5, gap=1)"
   ]
  },
  {
   "cell_type": "markdown",
   "id": "0420a72e",
   "metadata": {},
   "source": [
    "### GrideSearch\n"
   ]
  },
  {
   "cell_type": "code",
   "execution_count": 48,
   "id": "c9081ca3",
   "metadata": {},
   "outputs": [],
   "source": [
    "best_params=[]\n",
    "test_score=[]\n",
    "best_score=[]\n",
    "parameters = {\n",
    "    'classifier__kernel': ['linear', 'rbf', 'sigmoid','poly'],\n",
    "    'classifier__C': np.linspace(1, 5, 10),\n",
    "    'classifier__gamma': np.linspace(0.01, 1, 10),\n",
    "    'classifier__degree': np.arange(1, 5)\n",
    "}\n",
    "\n",
    "grid = GridSearchCV(model, parameters, cv=tscv, scoring='accuracy', refit=True, error_score='raise')\n",
    "feature=[X,X_method1,X_method2,X_method3,X_method4]\n",
    "for i in feature:\n",
    "    model = Pipeline([\n",
    "    (\"scaler\", MinMaxScaler()), \n",
    "    (\"classifier\", SVC())]) \n",
    "    X_train, X_test, y_train, y_test = train_test_split(i, y, test_size=0.3, shuffle=False)\n",
    "    grid.fit(X_train, y_train)\n",
    "    best_score .append(grid.best_score_)\n",
    "    best_params.append(grid.best_params_)\n",
    "    test_score.append(grid.score(X_test, y_test))\n",
    "#print(\"The best parameters are %s with a score of %0.4f\" % (best_params, best_score))"
   ]
  },
  {
   "cell_type": "code",
   "execution_count": 49,
   "id": "811aa615",
   "metadata": {},
   "outputs": [],
   "source": [
    "BEST_P=pd.DataFrame(best_params)\n",
    "BEST_P['test_score']=test_score\n",
    "BEST_P['best_score']=best_score\n",
    "BEST_P['feature']=['non','VIF','KBest','REF','REFCV']"
   ]
  },
  {
   "cell_type": "code",
   "execution_count": 50,
   "id": "c0365c8c",
   "metadata": {},
   "outputs": [
    {
     "data": {
      "text/html": [
       "<div>\n",
       "<style scoped>\n",
       "    .dataframe tbody tr th:only-of-type {\n",
       "        vertical-align: middle;\n",
       "    }\n",
       "\n",
       "    .dataframe tbody tr th {\n",
       "        vertical-align: top;\n",
       "    }\n",
       "\n",
       "    .dataframe thead th {\n",
       "        text-align: right;\n",
       "    }\n",
       "</style>\n",
       "<table border=\"1\" class=\"dataframe\">\n",
       "  <thead>\n",
       "    <tr style=\"text-align: right;\">\n",
       "      <th></th>\n",
       "      <th>classifier__C</th>\n",
       "      <th>classifier__degree</th>\n",
       "      <th>classifier__gamma</th>\n",
       "      <th>classifier__kernel</th>\n",
       "      <th>test_score</th>\n",
       "      <th>best_score</th>\n",
       "      <th>feature</th>\n",
       "    </tr>\n",
       "  </thead>\n",
       "  <tbody>\n",
       "    <tr>\n",
       "      <th>0</th>\n",
       "      <td>1.444444</td>\n",
       "      <td>1</td>\n",
       "      <td>0.45</td>\n",
       "      <td>sigmoid</td>\n",
       "      <td>0.462222</td>\n",
       "      <td>0.586207</td>\n",
       "      <td>non</td>\n",
       "    </tr>\n",
       "    <tr>\n",
       "      <th>1</th>\n",
       "      <td>1.888889</td>\n",
       "      <td>3</td>\n",
       "      <td>0.56</td>\n",
       "      <td>poly</td>\n",
       "      <td>0.457778</td>\n",
       "      <td>0.549425</td>\n",
       "      <td>VIF</td>\n",
       "    </tr>\n",
       "    <tr>\n",
       "      <th>2</th>\n",
       "      <td>4.555556</td>\n",
       "      <td>1</td>\n",
       "      <td>1.00</td>\n",
       "      <td>rbf</td>\n",
       "      <td>0.524444</td>\n",
       "      <td>0.565517</td>\n",
       "      <td>KBest</td>\n",
       "    </tr>\n",
       "    <tr>\n",
       "      <th>3</th>\n",
       "      <td>4.555556</td>\n",
       "      <td>1</td>\n",
       "      <td>0.78</td>\n",
       "      <td>sigmoid</td>\n",
       "      <td>0.475556</td>\n",
       "      <td>0.577011</td>\n",
       "      <td>REF</td>\n",
       "    </tr>\n",
       "    <tr>\n",
       "      <th>4</th>\n",
       "      <td>3.666667</td>\n",
       "      <td>1</td>\n",
       "      <td>1.00</td>\n",
       "      <td>sigmoid</td>\n",
       "      <td>0.484444</td>\n",
       "      <td>0.565517</td>\n",
       "      <td>REFCV</td>\n",
       "    </tr>\n",
       "  </tbody>\n",
       "</table>\n",
       "</div>"
      ],
      "text/plain": [
       "   classifier__C  classifier__degree  classifier__gamma classifier__kernel  \\\n",
       "0       1.444444                   1               0.45            sigmoid   \n",
       "1       1.888889                   3               0.56               poly   \n",
       "2       4.555556                   1               1.00                rbf   \n",
       "3       4.555556                   1               0.78            sigmoid   \n",
       "4       3.666667                   1               1.00            sigmoid   \n",
       "\n",
       "   test_score  best_score feature  \n",
       "0    0.462222    0.586207     non  \n",
       "1    0.457778    0.549425     VIF  \n",
       "2    0.524444    0.565517   KBest  \n",
       "3    0.475556    0.577011     REF  \n",
       "4    0.484444    0.565517   REFCV  "
      ]
     },
     "execution_count": 50,
     "metadata": {},
     "output_type": "execute_result"
    }
   ],
   "source": [
    "#The top-performing model for each feature selection outcome\n",
    "BEST_P"
   ]
  },
  {
   "cell_type": "code",
   "execution_count": 64,
   "id": "d371f2a9",
   "metadata": {},
   "outputs": [],
   "source": [
    "# Scale and fit the model\n",
    "model_final1 = Pipeline([\n",
    "    (\"scaler\", MinMaxScaler()), \n",
    "    (\"classifier\", SVC(C=4.555556, kernel='rbf', degree=1, gamma=1))\n",
    "])"
   ]
  },
  {
   "cell_type": "code",
   "execution_count": 52,
   "id": "4238be35",
   "metadata": {},
   "outputs": [
    {
     "name": "stdout",
     "output_type": "stream",
     "text": [
      "Train Accuracy: 0.5805, Test Accuracy: 0.5244,f1 score:0.5447\n"
     ]
    }
   ],
   "source": [
    "# Splitting the datasets into training and testing data.\n",
    "# Always keep shuffle = False for financial time series\n",
    "X_train, X_test, y_train, y_test = train_test_split(X_method2, y, test_size=0.3, shuffle=False)\n",
    "\n",
    "# Scale and fit the model\n",
    "model_final1.fit(X_train, y_train)\n",
    "\n",
    "# Predicting the test dataset\n",
    "y_pred = model_final1.predict(X_test)\n",
    "acc_train_Optimal = accuracy_score(y_train, model_final1.predict(X_train))\n",
    "acc_test_Optimal = accuracy_score(y_test, y_pred)\n",
    "f=f1_score(y_test, y_pred)\n",
    "print(f'Train Accuracy: {acc_train_Optimal:0.4}, Test Accuracy: {acc_test_Optimal:0.4},f1 score:{f:0.4}')"
   ]
  },
  {
   "cell_type": "code",
   "execution_count": 53,
   "id": "16a3fcf8",
   "metadata": {},
   "outputs": [
    {
     "data": {
      "image/png": "[encoded data removed]",
      "text/plain": [
       "<Figure size 432x288 with 2 Axes>"
      ]
     },
     "metadata": {
      "needs_background": "light"
     },
     "output_type": "display_data"
    }
   ],
   "source": [
    "# Generate predictions on the test set\n",
    "y_pred = model_final1.predict(X_test)\n",
    "\n",
    "# Compute the confusion matrix\n",
    "cm = confusion_matrix(y_test, y_pred)\n",
    "\n",
    "# Display the confusion matrix\n",
    "disp = ConfusionMatrixDisplay(confusion_matrix=cm, display_labels=model_final1.classes_)\n",
    "disp.plot(cmap=plt.cm.Blues)\n",
    "disp.ax_.set_title('Confusion matrix rbf Final')\n",
    "plt.show()"
   ]
  },
  {
   "cell_type": "code",
   "execution_count": 54,
   "id": "499b5b59",
   "metadata": {},
   "outputs": [
    {
     "data": {
      "image/png": "[encoded data removed]",
      "text/plain": [
       "<Figure size 432x288 with 1 Axes>"
      ]
     },
     "metadata": {
      "needs_background": "light"
     },
     "output_type": "display_data"
    }
   ],
   "source": [
    "# Display ROCCurve \n",
    "disp_roc = RocCurveDisplay.from_estimator(\n",
    "            model_final1, \n",
    "            X_test, \n",
    "            y_test,\n",
    "            name='SVM')\n",
    "disp_roc.ax_.set_title('ROC Curve rbf Final')\n",
    "plt.show()"
   ]
  },
  {
   "cell_type": "markdown",
   "id": "f8e0cba4",
   "metadata": {},
   "source": [
    "### RandomizedSearch"
   ]
  },
  {
   "cell_type": "code",
   "execution_count": 55,
   "id": "9b99b5a6",
   "metadata": {},
   "outputs": [],
   "source": [
    "best_params=[]\n",
    "test_score=[]\n",
    "best_score=[]\n",
    "for i in feature:\n",
    "    model = Pipeline([\n",
    "    (\"scaler\", MinMaxScaler()), \n",
    "    (\"classifier\", SVC())]) \n",
    "    X_train, X_test, y_train, y_test = train_test_split(i, y, test_size=0.3, shuffle=False)\n",
    "    grid.fit(X_train, y_train)\n",
    "    rs = RandomizedSearchCV(model, parameters, n_iter=100, scoring='accuracy', cv=tscv, verbose=0, error_score='raise')\n",
    "    rs.fit(X_train, y_train)\n",
    "    best_score .append(rs.best_score_)\n",
    "    best_params.append(rs.best_params_)\n",
    "    test_score.append( rs.score(X_test, y_test))"
   ]
  },
  {
   "cell_type": "code",
   "execution_count": 56,
   "id": "87b7a79f",
   "metadata": {},
   "outputs": [],
   "source": [
    "BEST_R=pd.DataFrame(best_params)\n",
    "BEST_R['test_score']=test_score\n",
    "BEST_R['best_score']=best_score\n",
    "BEST_R['feature']=['non','VIF','SelectKBest','REF','REFCV']"
   ]
  },
  {
   "cell_type": "code",
   "execution_count": 57,
   "id": "c043324d",
   "metadata": {},
   "outputs": [
    {
     "data": {
      "text/html": [
       "<div>\n",
       "<style scoped>\n",
       "    .dataframe tbody tr th:only-of-type {\n",
       "        vertical-align: middle;\n",
       "    }\n",
       "\n",
       "    .dataframe tbody tr th {\n",
       "        vertical-align: top;\n",
       "    }\n",
       "\n",
       "    .dataframe thead th {\n",
       "        text-align: right;\n",
       "    }\n",
       "</style>\n",
       "<table border=\"1\" class=\"dataframe\">\n",
       "  <thead>\n",
       "    <tr style=\"text-align: right;\">\n",
       "      <th></th>\n",
       "      <th>classifier__kernel</th>\n",
       "      <th>classifier__gamma</th>\n",
       "      <th>classifier__degree</th>\n",
       "      <th>classifier__C</th>\n",
       "      <th>test_score</th>\n",
       "      <th>best_score</th>\n",
       "      <th>feature</th>\n",
       "    </tr>\n",
       "  </thead>\n",
       "  <tbody>\n",
       "    <tr>\n",
       "      <th>0</th>\n",
       "      <td>sigmoid</td>\n",
       "      <td>0.89</td>\n",
       "      <td>4</td>\n",
       "      <td>1.888889</td>\n",
       "      <td>0.488889</td>\n",
       "      <td>0.565517</td>\n",
       "      <td>non</td>\n",
       "    </tr>\n",
       "    <tr>\n",
       "      <th>1</th>\n",
       "      <td>rbf</td>\n",
       "      <td>0.78</td>\n",
       "      <td>2</td>\n",
       "      <td>5.000000</td>\n",
       "      <td>0.515556</td>\n",
       "      <td>0.544828</td>\n",
       "      <td>VIF</td>\n",
       "    </tr>\n",
       "    <tr>\n",
       "      <th>2</th>\n",
       "      <td>rbf</td>\n",
       "      <td>1.00</td>\n",
       "      <td>3</td>\n",
       "      <td>4.555556</td>\n",
       "      <td>0.524444</td>\n",
       "      <td>0.565517</td>\n",
       "      <td>SelectKBest</td>\n",
       "    </tr>\n",
       "    <tr>\n",
       "      <th>3</th>\n",
       "      <td>sigmoid</td>\n",
       "      <td>0.78</td>\n",
       "      <td>3</td>\n",
       "      <td>4.555556</td>\n",
       "      <td>0.475556</td>\n",
       "      <td>0.577011</td>\n",
       "      <td>REF</td>\n",
       "    </tr>\n",
       "    <tr>\n",
       "      <th>4</th>\n",
       "      <td>sigmoid</td>\n",
       "      <td>1.00</td>\n",
       "      <td>1</td>\n",
       "      <td>4.555556</td>\n",
       "      <td>0.471111</td>\n",
       "      <td>0.563218</td>\n",
       "      <td>REFCV</td>\n",
       "    </tr>\n",
       "  </tbody>\n",
       "</table>\n",
       "</div>"
      ],
      "text/plain": [
       "  classifier__kernel  classifier__gamma  classifier__degree  classifier__C  \\\n",
       "0            sigmoid               0.89                   4       1.888889   \n",
       "1                rbf               0.78                   2       5.000000   \n",
       "2                rbf               1.00                   3       4.555556   \n",
       "3            sigmoid               0.78                   3       4.555556   \n",
       "4            sigmoid               1.00                   1       4.555556   \n",
       "\n",
       "   test_score  best_score      feature  \n",
       "0    0.488889    0.565517          non  \n",
       "1    0.515556    0.544828          VIF  \n",
       "2    0.524444    0.565517  SelectKBest  \n",
       "3    0.475556    0.577011          REF  \n",
       "4    0.471111    0.563218        REFCV  "
      ]
     },
     "execution_count": 57,
     "metadata": {},
     "output_type": "execute_result"
    }
   ],
   "source": [
    "BEST_R"
   ]
  },
  {
   "cell_type": "code",
   "execution_count": 62,
   "id": "c4e032e1",
   "metadata": {},
   "outputs": [],
   "source": [
    "# Scale and fit the model\n",
    "model_final2 = Pipeline([\n",
    "    (\"scaler\", MinMaxScaler()), \n",
    "    (\"classifier\", SVC(C=4.555556, kernel='rbf', degree=3, gamma=1))\n",
    "])"
   ]
  },
  {
   "cell_type": "code",
   "execution_count": 63,
   "id": "8abdf967",
   "metadata": {},
   "outputs": [
    {
     "name": "stdout",
     "output_type": "stream",
     "text": [
      "Train Accuracy: 0.5805, Test Accuracy: 0.5244,f1 score:0.5447\n"
     ]
    }
   ],
   "source": [
    "# Splitting the datasets into training and testing data.\n",
    "# Always keep shuffle = False for financial time series\n",
    "X_train, X_test, y_train, y_test = train_test_split(X_method2, y, test_size=0.3, shuffle=False)\n",
    "\n",
    "# Scale and fit the model\n",
    "model_final2.fit(X_train, y_train)\n",
    "\n",
    "# Predicting the test dataset\n",
    "y_pred = model_final2.predict(X_test)\n",
    "acc_train_Optimal = accuracy_score(y_train, model_final2.predict(X_train))\n",
    "acc_test_Optimal = accuracy_score(y_test, y_pred)\n",
    "f=f1_score(y_test, y_pred)\n",
    "print(f'Train Accuracy: {acc_train_Optimal:0.4}, Test Accuracy: {acc_test_Optimal:0.4},f1 score:{f:0.4}')"
   ]
  },
  {
   "cell_type": "code",
   "execution_count": 60,
   "id": "8c7c8c5c",
   "metadata": {},
   "outputs": [
    {
     "data": {
      "image/png": "[encoded data removed]",
      "text/plain": [
       "<Figure size 432x288 with 2 Axes>"
      ]
     },
     "metadata": {
      "needs_background": "light"
     },
     "output_type": "display_data"
    }
   ],
   "source": [
    "# Generate predictions on the test set\n",
    "y_pred = model_final2.predict(X_test)\n",
    "\n",
    "# Compute the confusion matrix\n",
    "cm = confusion_matrix(y_test, y_pred)\n",
    "\n",
    "# Display the confusion matrix\n",
    "disp = ConfusionMatrixDisplay(confusion_matrix=cm, display_labels=model_final2.classes_)\n",
    "disp.plot(cmap=plt.cm.Blues)\n",
    "disp.ax_.set_title('Confusion matrix rbf Final')\n",
    "plt.show()"
   ]
  },
  {
   "cell_type": "code",
   "execution_count": 61,
   "id": "42378181",
   "metadata": {},
   "outputs": [
    {
     "data": {
      "image/png": "[encoded data removed]",
      "text/plain": [
       "<Figure size 432x288 with 1 Axes>"
      ]
     },
     "metadata": {
      "needs_background": "light"
     },
     "output_type": "display_data"
    }
   ],
   "source": [
    "# Display ROCCurve \n",
    "disp_roc = RocCurveDisplay.from_estimator(\n",
    "            model_final2, \n",
    "            X_test, \n",
    "            y_test,\n",
    "            name='SVM')\n",
    "disp_roc.ax_.set_title('ROC Curve rbf Final')\n",
    "plt.show()"
   ]
  },
  {
   "cell_type": "markdown",
   "id": "ed09b2f3",
   "metadata": {},
   "source": [
    "## Conclusion\n",
    "After evaluating the optimal models obtained through distinct search methods, it was found that both methods yield identical results. The optimized parameters for the models are as follows: kernel: rbf, c=4.555, gamma=degree=1. Furthermore, the training accuracy achieved is 0.5805, the test accuracy is 0.5244, and the f1 score is 0.5447."
   ]
  },
  {
   "cell_type": "markdown",
   "id": "c9fb2afd",
   "metadata": {},
   "source": [
    "* document completed"
   ]
  }
 ],
 "metadata": {
  "kernelspec": {
   "display_name": "Python 3",
   "language": "python",
   "name": "python3"
  },
  "language_info": {
   "codemirror_mode": {
    "name": "ipython",
    "version": 3
   },
   "file_extension": ".py",
   "mimetype": "text/x-python",
   "name": "python",
   "nbconvert_exporter": "python",
   "pygments_lexer": "ipython3",
   "version": "3.8.8"
  },
  "toc": {
   "base_numbering": 1,
   "nav_menu": {},
   "number_sections": true,
   "sideBar": true,
   "skip_h1_title": false,
   "title_cell": "Table of Contents",
   "title_sidebar": "Contents",
   "toc_cell": false,
   "toc_position": {},
   "toc_section_display": true,
   "toc_window_display": false
  }
 },
 "nbformat": 4,
 "nbformat_minor": 5
}
